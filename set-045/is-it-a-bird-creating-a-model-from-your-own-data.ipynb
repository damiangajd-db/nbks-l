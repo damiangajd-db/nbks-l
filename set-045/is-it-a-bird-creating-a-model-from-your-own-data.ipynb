{
 "cells": [
  {
   "cell_type": "markdown",
   "metadata": {
    "application/vnd.databricks.v1+cell": {
     "cellMetadata": {},
     "inputWidgets": {},
     "nuid": "6daa383a-10de-4432-acdc-29b17459b954",
     "showTitle": false,
     "title": ""
    }
   },
   "source": [
    "## Is it a bird?"
   ]
  },
  {
   "cell_type": "code",
   "execution_count": 0,
   "metadata": {
    "application/vnd.databricks.v1+cell": {
     "cellMetadata": {},
     "inputWidgets": {},
     "nuid": "f0aa0486-3b01-41ca-8b4c-cc1d51729c55",
     "showTitle": false,
     "title": ""
    },
    "execution": {
     "iopub.execute_input": "2022-08-15T19:54:58.543498Z",
     "iopub.status.busy": "2022-08-15T19:54:58.542985Z",
     "iopub.status.idle": "2022-08-15T19:54:58.580316Z",
     "shell.execute_reply": "2022-08-15T19:54:58.579693Z",
     "shell.execute_reply.started": "2022-08-15T19:54:58.543400Z"
    },
    "trusted": true
   },
   "outputs": [],
   "source": [
    "#NB: Kaggle requires phone verification to use the internet or a GPU. If you haven't done that yet, the cell below will fail\n",
    "#    This code is only here to check that your internet is enabled. It doesn't do anything else.\n",
    "#    Here's a help thread on getting your phone number verified: https://www.kaggle.com/product-feedback/135367\n",
    "\n",
    "import socket,warnings\n",
    "try:\n",
    "    socket.setdefaulttimeout(1)\n",
    "    socket.socket(socket.AF_INET, socket.SOCK_STREAM).connect(('1.1.1.1', 53))\n",
    "except socket.error as ex: raise Exception(\"STOP: No internet. Click '>|' in top right and set 'Internet' switch to on\")"
   ]
  },
  {
   "cell_type": "code",
   "execution_count": 0,
   "metadata": {
    "_kg_hide-input": true,
    "_kg_hide-output": true,
    "application/vnd.databricks.v1+cell": {
     "cellMetadata": {},
     "inputWidgets": {},
     "nuid": "3d3179d4-d888-48ad-808b-aba58489a889",
     "showTitle": false,
     "title": ""
    },
    "execution": {
     "iopub.execute_input": "2022-08-15T19:54:58.582154Z",
     "iopub.status.busy": "2022-08-15T19:54:58.581817Z",
     "iopub.status.idle": "2022-08-15T19:55:20.002673Z",
     "shell.execute_reply": "2022-08-15T19:55:20.001747Z",
     "shell.execute_reply.started": "2022-08-15T19:54:58.582120Z"
    },
    "trusted": true
   },
   "outputs": [],
   "source": [
    "# It's a good idea to ensure you're running the latest version of any libraries you need.\n",
    "# `!pip install -Uqq <libraries>` upgrades to the latest version of <libraries>\n",
    "# NB: You can safely ignore any warnings or errors pip spits out about running as root or incompatibilities\n",
    "import os\n",
    "iskaggle = os.environ.get('KAGGLE_KERNEL_RUN_TYPE', '')\n",
    "\n",
    "if iskaggle:\n",
    "    !pip install -Uqq fastai duckduckgo_search"
   ]
  },
  {
   "cell_type": "markdown",
   "metadata": {
    "application/vnd.databricks.v1+cell": {
     "cellMetadata": {},
     "inputWidgets": {},
     "nuid": "3a648ae6-eac4-4897-849a-10e298da76d2",
     "showTitle": false,
     "title": ""
    }
   },
   "source": [
    "In 2015 the idea of creating a computer system that could recognise birds was considered so outrageously challenging that it was the basis of [this XKCD joke](https://xkcd.com/1425/):"
   ]
  },
  {
   "cell_type": "markdown",
   "metadata": {
    "application/vnd.databricks.v1+cell": {
     "cellMetadata": {},
     "inputWidgets": {},
     "nuid": "bb9624c5-756e-4fd3-bc84-167486b8b955",
     "showTitle": false,
     "title": ""
    }
   },
   "source": [
    "![image.png](attachment:a0483178-c30e-4fdd-b2c2-349e130ab260.png)"
   ]
  },
  {
   "cell_type": "markdown",
   "metadata": {
    "application/vnd.databricks.v1+cell": {
     "cellMetadata": {},
     "inputWidgets": {},
     "nuid": "d27fcf47-e7fd-4f1e-be2d-d85ea4e86058",
     "showTitle": false,
     "title": ""
    }
   },
   "source": [
    "But today, we can do exactly that, in just a few minutes, using entirely free resources!\n",
    "\n",
    "The basic steps we'll take are:\n",
    "\n",
    "1. Use DuckDuckGo to search for images of \"bird photos\"\n",
    "1. Use DuckDuckGo to search for images of \"forest photos\"\n",
    "1. Fine-tune a pretrained neural network to recognise these two groups\n",
    "1. Try running this model on a picture of a bird and see if it works."
   ]
  },
  {
   "cell_type": "markdown",
   "metadata": {
    "application/vnd.databricks.v1+cell": {
     "cellMetadata": {},
     "inputWidgets": {},
     "nuid": "fda2c022-97b6-454b-8d5f-ee71caceb6f0",
     "showTitle": false,
     "title": ""
    }
   },
   "source": [
    "## Step 1: Download images of birds and non-birds"
   ]
  },
  {
   "cell_type": "code",
   "execution_count": 0,
   "metadata": {
    "_kg_hide-input": true,
    "application/vnd.databricks.v1+cell": {
     "cellMetadata": {},
     "inputWidgets": {},
     "nuid": "5ec72965-a58c-49b4-a915-c1827d252321",
     "showTitle": false,
     "title": ""
    },
    "execution": {
     "iopub.execute_input": "2022-08-15T20:17:04.165128Z",
     "iopub.status.busy": "2022-08-15T20:17:04.164811Z",
     "iopub.status.idle": "2022-08-15T20:17:04.171000Z",
     "shell.execute_reply": "2022-08-15T20:17:04.170146Z",
     "shell.execute_reply.started": "2022-08-15T20:17:04.165074Z"
    },
    "trusted": true
   },
   "outputs": [],
   "source": [
    "from duckduckgo_search import ddg_images\n",
    "from fastcore.all import *\n",
    "\n",
    "def search_images(term, max_images=30):\n",
    "    print(f\"Searching for '{term}'\")\n",
    "    return L(ddg_images(term, max_results=max_images)).itemgot('image')"
   ]
  },
  {
   "cell_type": "markdown",
   "metadata": {
    "application/vnd.databricks.v1+cell": {
     "cellMetadata": {},
     "inputWidgets": {},
     "nuid": "8844513c-cb9a-4021-b398-86fe6b4fe053",
     "showTitle": false,
     "title": ""
    }
   },
   "source": [
    "Let's start by searching for a bird photo and seeing what kind of result we get. We'll start by getting URLs from a search:"
   ]
  },
  {
   "cell_type": "code",
   "execution_count": 0,
   "metadata": {
    "application/vnd.databricks.v1+cell": {
     "cellMetadata": {},
     "inputWidgets": {},
     "nuid": "6eb44cb1-2943-4dff-a1d6-18cc0b95dc23",
     "showTitle": false,
     "title": ""
    },
    "execution": {
     "iopub.execute_input": "2022-08-15T19:55:20.113016Z",
     "iopub.status.busy": "2022-08-15T19:55:20.112732Z",
     "iopub.status.idle": "2022-08-15T19:55:20.813756Z",
     "shell.execute_reply": "2022-08-15T19:55:20.812977Z",
     "shell.execute_reply.started": "2022-08-15T19:55:20.112980Z"
    },
    "trusted": true
   },
   "outputs": [],
   "source": [
    "#NB: `search_images` depends on duckduckgo.com, which doesn't always return correct responses.\n",
    "#    If you get a JSON error, just try running it again (it may take a couple of tries).\n",
    "urls = search_images('bird photos', max_images=1)\n",
    "urls[0]"
   ]
  },
  {
   "cell_type": "markdown",
   "metadata": {
    "application/vnd.databricks.v1+cell": {
     "cellMetadata": {},
     "inputWidgets": {},
     "nuid": "2ca2ce27-1a91-4812-aa07-25f59187a70f",
     "showTitle": false,
     "title": ""
    }
   },
   "source": [
    "...and then download a URL and take a look at it:"
   ]
  },
  {
   "cell_type": "code",
   "execution_count": 0,
   "metadata": {
    "application/vnd.databricks.v1+cell": {
     "cellMetadata": {},
     "inputWidgets": {},
     "nuid": "23e3f635-772a-4c38-a572-2690d4f55f3a",
     "showTitle": false,
     "title": ""
    },
    "execution": {
     "iopub.execute_input": "2022-08-15T19:55:20.815867Z",
     "iopub.status.busy": "2022-08-15T19:55:20.815535Z",
     "iopub.status.idle": "2022-08-15T19:55:24.626482Z",
     "shell.execute_reply": "2022-08-15T19:55:24.623449Z",
     "shell.execute_reply.started": "2022-08-15T19:55:20.815831Z"
    },
    "trusted": true
   },
   "outputs": [],
   "source": [
    "from fastdownload import download_url\n",
    "dest = 'bird.jpg'\n",
    "download_url(urls[0], dest, show_progress=False)\n",
    "\n",
    "from fastai.vision.all import *\n",
    "im = Image.open(dest)\n",
    "im.to_thumb(256,256)"
   ]
  },
  {
   "cell_type": "markdown",
   "metadata": {
    "application/vnd.databricks.v1+cell": {
     "cellMetadata": {},
     "inputWidgets": {},
     "nuid": "bb2afd50-433c-4359-8445-b5f76c0e64f4",
     "showTitle": false,
     "title": ""
    }
   },
   "source": [
    "Now let's do the same with \"forest photos\":"
   ]
  },
  {
   "cell_type": "code",
   "execution_count": 0,
   "metadata": {
    "application/vnd.databricks.v1+cell": {
     "cellMetadata": {},
     "inputWidgets": {},
     "nuid": "1f3a35cc-0c5c-4ad9-a325-a6a06ad1f44a",
     "showTitle": false,
     "title": ""
    },
    "execution": {
     "iopub.execute_input": "2022-08-15T19:55:36.955181Z",
     "iopub.status.busy": "2022-08-15T19:55:36.954888Z",
     "iopub.status.idle": "2022-08-15T19:55:40.153631Z",
     "shell.execute_reply": "2022-08-15T19:55:40.152923Z",
     "shell.execute_reply.started": "2022-08-15T19:55:36.955148Z"
    },
    "trusted": true
   },
   "outputs": [],
   "source": [
    "download_url(search_images('forest photos', max_images=1)[0], 'forest.jpg', show_progress=False)\n",
    "Image.open('forest.jpg').to_thumb(256,256)"
   ]
  },
  {
   "cell_type": "markdown",
   "metadata": {
    "application/vnd.databricks.v1+cell": {
     "cellMetadata": {},
     "inputWidgets": {},
     "nuid": "981ad7a0-9e12-4d93-879b-82c7fe9eefc8",
     "showTitle": false,
     "title": ""
    }
   },
   "source": [
    "Our searches seem to be giving reasonable results, so let's grab a few examples of each of \"bird\" and \"forest\" photos, and save each group of photos to a different folder (I'm also trying to grab a range of lighting conditions here):"
   ]
  },
  {
   "cell_type": "code",
   "execution_count": 0,
   "metadata": {
    "application/vnd.databricks.v1+cell": {
     "cellMetadata": {},
     "inputWidgets": {},
     "nuid": "dc94c28a-efb2-48ca-815e-5bfe73a227ae",
     "showTitle": false,
     "title": ""
    },
    "execution": {
     "iopub.execute_input": "2022-08-15T20:17:07.594354Z",
     "iopub.status.busy": "2022-08-15T20:17:07.593689Z",
     "iopub.status.idle": "2022-08-15T20:19:01.592018Z",
     "shell.execute_reply": "2022-08-15T20:19:01.591029Z",
     "shell.execute_reply.started": "2022-08-15T20:17:07.594316Z"
    },
    "trusted": true
   },
   "outputs": [],
   "source": [
    "searches = 'forest','bird'\n",
    "path = Path('bird_or_not')\n",
    "from time import sleep\n",
    "\n",
    "for o in searches:\n",
    "    dest = (path/o)\n",
    "    dest.mkdir(exist_ok=True, parents=True)\n",
    "    download_images(dest, urls=search_images(f'{o} photo'))\n",
    "    sleep(10)  # Pause between searches to avoid over-loading server\n",
    "    download_images(dest, urls=search_images(f'{o} sun photo'))\n",
    "    sleep(10)\n",
    "    download_images(dest, urls=search_images(f'{o} shade photo'))\n",
    "    sleep(10)\n",
    "    resize_images(path/o, max_size=400, dest=path/o)"
   ]
  },
  {
   "cell_type": "markdown",
   "metadata": {
    "application/vnd.databricks.v1+cell": {
     "cellMetadata": {},
     "inputWidgets": {},
     "nuid": "2b8930e4-11e4-4069-bde7-bd65ff71ad7d",
     "showTitle": false,
     "title": ""
    }
   },
   "source": [
    "## Step 2: Train our model"
   ]
  },
  {
   "cell_type": "markdown",
   "metadata": {
    "application/vnd.databricks.v1+cell": {
     "cellMetadata": {},
     "inputWidgets": {},
     "nuid": "bed521c9-98d0-4c14-bd86-fd9d9d2d7bbc",
     "showTitle": false,
     "title": ""
    }
   },
   "source": [
    "Some photos might not download correctly which could cause our model training to fail, so we'll remove them:"
   ]
  },
  {
   "cell_type": "code",
   "execution_count": 0,
   "metadata": {
    "application/vnd.databricks.v1+cell": {
     "cellMetadata": {},
     "inputWidgets": {},
     "nuid": "4f0e2fd8-4fd7-4b64-9c7b-d827a429aa70",
     "showTitle": false,
     "title": ""
    },
    "execution": {
     "iopub.execute_input": "2022-08-15T20:19:04.404678Z",
     "iopub.status.busy": "2022-08-15T20:19:04.404342Z",
     "iopub.status.idle": "2022-08-15T20:19:05.392860Z",
     "shell.execute_reply": "2022-08-15T20:19:05.392068Z",
     "shell.execute_reply.started": "2022-08-15T20:19:04.404644Z"
    },
    "trusted": true
   },
   "outputs": [],
   "source": [
    "failed = verify_images(get_image_files(path))\n",
    "failed.map(Path.unlink)\n",
    "len(failed)"
   ]
  },
  {
   "cell_type": "markdown",
   "metadata": {
    "application/vnd.databricks.v1+cell": {
     "cellMetadata": {},
     "inputWidgets": {},
     "nuid": "7364a225-b1f6-46f3-87bc-fef41de4fbfc",
     "showTitle": false,
     "title": ""
    }
   },
   "source": [
    "To train a model, we'll need `DataLoaders`, which is an object that contains a *training set* (the images used to create a model) and a *validation set* (the images used to check the accuracy of a model -- not used during training). In `fastai` we can create that easily using a `DataBlock`, and view sample images from it:"
   ]
  },
  {
   "cell_type": "code",
   "execution_count": 0,
   "metadata": {
    "application/vnd.databricks.v1+cell": {
     "cellMetadata": {},
     "inputWidgets": {},
     "nuid": "f9f29425-c33e-4b5c-a7f1-f713d3cd9249",
     "showTitle": false,
     "title": ""
    },
    "execution": {
     "iopub.execute_input": "2022-08-15T20:19:14.915511Z",
     "iopub.status.busy": "2022-08-15T20:19:14.914910Z",
     "iopub.status.idle": "2022-08-15T20:19:15.716279Z",
     "shell.execute_reply": "2022-08-15T20:19:15.715544Z",
     "shell.execute_reply.started": "2022-08-15T20:19:14.915472Z"
    },
    "trusted": true
   },
   "outputs": [],
   "source": [
    "dls = DataBlock(\n",
    "    blocks=(ImageBlock, CategoryBlock), \n",
    "    get_items=get_image_files, \n",
    "    splitter=RandomSplitter(valid_pct=0.2, seed=42),\n",
    "    get_y=parent_label,\n",
    "    item_tfms=[Resize(192, method='squish')]\n",
    ").dataloaders(path, bs=32)\n",
    "\n",
    "dls.show_batch(max_n=6)"
   ]
  },
  {
   "cell_type": "markdown",
   "metadata": {
    "application/vnd.databricks.v1+cell": {
     "cellMetadata": {},
     "inputWidgets": {},
     "nuid": "27f1644f-84d8-47bd-8a1b-a2424de6312b",
     "showTitle": false,
     "title": ""
    }
   },
   "source": [
    "Here what each of the `DataBlock` parameters means:\n",
    "\n",
    "    blocks=(ImageBlock, CategoryBlock),\n",
    "\n",
    "The inputs to our model are images, and the outputs are categories (in this case, \"bird\" or \"forest\").\n",
    "\n",
    "    get_items=get_image_files, \n",
    "\n",
    "To find all the inputs to our model, run the `get_image_files` function (which returns a list of all image files in a path).\n",
    "\n",
    "    splitter=RandomSplitter(valid_pct=0.2, seed=42),\n",
    "\n",
    "Split the data into training and validation sets randomly, using 20% of the data for the validation set.\n",
    "\n",
    "    get_y=parent_label,\n",
    "\n",
    "The labels (`y` values) is the name of the `parent` of each file (i.e. the name of the folder they're in, which will be *bird* or *forest*).\n",
    "\n",
    "    item_tfms=[Resize(192, method='squish')]\n",
    "\n",
    "Before training, resize each image to 192x192 pixels by \"squishing\" it (as opposed to cropping it)."
   ]
  },
  {
   "cell_type": "markdown",
   "metadata": {
    "application/vnd.databricks.v1+cell": {
     "cellMetadata": {},
     "inputWidgets": {},
     "nuid": "94942808-462e-468b-a0c9-0b462b8ce2ee",
     "showTitle": false,
     "title": ""
    }
   },
   "source": [
    "Now we're ready to train our model. The fastest widely used computer vision model is `resnet18`. You can train this in a few minutes, even on a CPU! (On a GPU, it generally takes under 10 seconds...)\n",
    "\n",
    "`fastai` comes with a helpful `fine_tune()` method which automatically uses best practices for fine tuning a pre-trained model, so we'll use that."
   ]
  },
  {
   "cell_type": "code",
   "execution_count": 0,
   "metadata": {
    "application/vnd.databricks.v1+cell": {
     "cellMetadata": {},
     "inputWidgets": {},
     "nuid": "808a598b-5e5f-4252-aadc-1d0804b8f202",
     "showTitle": false,
     "title": ""
    },
    "execution": {
     "iopub.execute_input": "2022-08-15T20:19:19.954102Z",
     "iopub.status.busy": "2022-08-15T20:19:19.953760Z",
     "iopub.status.idle": "2022-08-15T20:19:28.933948Z",
     "shell.execute_reply": "2022-08-15T20:19:28.933106Z",
     "shell.execute_reply.started": "2022-08-15T20:19:19.954048Z"
    },
    "trusted": true
   },
   "outputs": [],
   "source": [
    "learn = vision_learner(dls, resnet18, metrics=error_rate)\n",
    "learn.fine_tune(3)"
   ]
  },
  {
   "cell_type": "markdown",
   "metadata": {
    "application/vnd.databricks.v1+cell": {
     "cellMetadata": {},
     "inputWidgets": {},
     "nuid": "18d9d0a0-7362-4ad0-aea5-b103773044ff",
     "showTitle": false,
     "title": ""
    }
   },
   "source": [
    "Generally when I run this I see 100% accuracy on the validation set (although it might vary a bit from run to run).\n",
    "\n",
    "\"Fine-tuning\" a model means that we're starting with a model someone else has trained using some other dataset (called the *pretrained model*), and adjusting the weights a little bit so that the model learns to recognise your particular dataset. In this case, the pretrained model was trained to recognise photos in *imagenet*, and widely-used computer vision dataset with images covering 1000 categories) For details on fine-tuning and why it's important, check out the [free fast.ai course](https://course.fast.ai/)."
   ]
  },
  {
   "cell_type": "markdown",
   "metadata": {
    "application/vnd.databricks.v1+cell": {
     "cellMetadata": {},
     "inputWidgets": {},
     "nuid": "b64ed42f-3ad9-4b69-971d-4146e4adb3b2",
     "showTitle": false,
     "title": ""
    }
   },
   "source": [
    "## Step 3: Use our model (and build your own!)"
   ]
  },
  {
   "cell_type": "markdown",
   "metadata": {
    "application/vnd.databricks.v1+cell": {
     "cellMetadata": {},
     "inputWidgets": {},
     "nuid": "d0a1a7a5-ba6a-4874-897a-55a3c0c1b451",
     "showTitle": false,
     "title": ""
    }
   },
   "source": [
    "Let's see what our model thinks about that bird we downloaded at the start:"
   ]
  },
  {
   "cell_type": "code",
   "execution_count": 0,
   "metadata": {
    "application/vnd.databricks.v1+cell": {
     "cellMetadata": {},
     "inputWidgets": {},
     "nuid": "157ec355-888b-48a0-939d-0dcf9e378036",
     "showTitle": false,
     "title": ""
    },
    "execution": {
     "iopub.execute_input": "2022-08-15T20:19:28.940392Z",
     "iopub.status.busy": "2022-08-15T20:19:28.938464Z",
     "iopub.status.idle": "2022-08-15T20:19:29.364320Z",
     "shell.execute_reply": "2022-08-15T20:19:29.363513Z",
     "shell.execute_reply.started": "2022-08-15T20:19:28.940353Z"
    },
    "trusted": true
   },
   "outputs": [],
   "source": [
    "is_bird,_,probs = learn.predict(PILImage.create('bird.jpg'))\n",
    "print(f\"This is a: {is_bird}.\")\n",
    "print(f\"Probability it's a bird: {probs[0]:.4f}\")"
   ]
  },
  {
   "cell_type": "markdown",
   "metadata": {
    "application/vnd.databricks.v1+cell": {
     "cellMetadata": {},
     "inputWidgets": {},
     "nuid": "ce19df05-2a3e-420a-a2de-56f6c592d820",
     "showTitle": false,
     "title": ""
    }
   },
   "source": [
    "Good job, resnet18. :)\n",
    "\n",
    "So, as you see, in the space of a few years, creating computer vision classification models has gone from \"so hard it's a joke\" to \"trivially easy and free\"!\n",
    "\n",
    "It's not just in computer vision. Thanks to deep learning, computers can now do many things which seemed impossible just a few years ago, including [creating amazing artworks](https://openai.com/dall-e-2/), and [explaining jokes](https://www.datanami.com/2022/04/22/googles-massive-new-language-model-can-explain-jokes/). It's moving so fast that even experts in the field have trouble predicting how it's going to impact society in the coming years.\n",
    "\n",
    "One thing is clear -- it's important that we all do our best to understand this technology, because otherwise we'll get left behind!"
   ]
  },
  {
   "cell_type": "markdown",
   "metadata": {
    "application/vnd.databricks.v1+cell": {
     "cellMetadata": {},
     "inputWidgets": {},
     "nuid": "aa2f04a5-70cd-463d-9222-2c21b814bbcb",
     "showTitle": false,
     "title": ""
    }
   },
   "source": [
    "Now it's your turn. Click \"Copy & Edit\" and try creating your own image classifier using your own image searches!\n",
    "\n",
    "If you enjoyed this, please consider clicking the \"upvote\" button in the top-right -- it's very encouraging to us notebook authors to know when people appreciate our work."
   ]
  }
 ],
 "metadata": {
  "application/vnd.databricks.v1+notebook": {
   "dashboards": [],
   "language": "python",
   "notebookMetadata": {},
   "notebookName": "is-it-a-bird-creating-a-model-from-your-own-data",
   "notebookOrigID": 953089915965717,
   "widgets": {}
  },
  "kernelspec": {
   "display_name": "Python 3",
   "language": "python",
   "name": "python3"
  },
  "language_info": {
   "codemirror_mode": {
    "name": "ipython",
    "version": 3
   },
   "file_extension": ".py",
   "mimetype": "text/x-python",
   "name": "python",
   "nbconvert_exporter": "python",
   "pygments_lexer": "ipython3",
   "version": "3.7.12"
  }
 },
 "nbformat": 4,
 "nbformat_minor": 0
}
