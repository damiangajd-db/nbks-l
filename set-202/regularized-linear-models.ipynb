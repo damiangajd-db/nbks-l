{
 "cells": [
  {
   "cell_type": "markdown",
   "metadata": {
    "_cell_guid": "e6335977-1dcb-a5bc-4856-184dd7bce3f9",
    "application/vnd.databricks.v1+cell": {
     "cellMetadata": {},
     "inputWidgets": {},
     "nuid": "1c175150-f429-4beb-aa11-0d87b76c10ff",
     "showTitle": false,
     "title": ""
    },
    "papermill": {
     "duration": 0.009302,
     "end_time": "2023-01-07T02:42:08.572614",
     "exception": false,
     "start_time": "2023-01-07T02:42:08.563312",
     "status": "completed"
    },
    "tags": []
   },
   "source": [
    "## Trying out a linear model: \n",
    "\n",
    "Author: Alexandru Papiu ([Blog](https://apapiu.github.io/), [GitHub](https://github.com/apapiu))\n",
    " \n",
    "If you use parts of this notebook in your own scripts, please give some sort of credit (for example link back to this). Thanks!\n",
    "\n",
    "\n",
    "There have been a few [great](https://www.kaggle.com/comartel/house-prices-advanced-regression-techniques/house-price-xgboost-starter/run/348739)  [scripts](https://www.kaggle.com/zoupet/house-prices-advanced-regression-techniques/xgboost-10-kfolds-with-scikit-learn/run/357561) on [xgboost](https://www.kaggle.com/tadepalli/house-prices-advanced-regression-techniques/xgboost-with-n-trees-autostop-0-12638/run/353049) already so I'd figured I'd try something simpler: a regularized linear regression model. Surprisingly it does really well with very little feature engineering. The key point is to to log_transform the numeric variables since most of them are skewed."
   ]
  },
  {
   "cell_type": "code",
   "execution_count": 0,
   "metadata": {
    "_cell_guid": "0d706811-b70c-aeab-a78b-3c7abd9978d3",
    "application/vnd.databricks.v1+cell": {
     "cellMetadata": {},
     "inputWidgets": {},
     "nuid": "eae3467a-a446-4544-a026-4ec46723bdce",
     "showTitle": false,
     "title": ""
    },
    "execution": {
     "iopub.execute_input": "2023-01-07T02:42:08.590437Z",
     "iopub.status.busy": "2023-01-07T02:42:08.589950Z",
     "iopub.status.idle": "2023-01-07T02:42:09.644845Z",
     "shell.execute_reply": "2023-01-07T02:42:09.643658Z"
    },
    "papermill": {
     "duration": 1.067351,
     "end_time": "2023-01-07T02:42:09.647983",
     "exception": false,
     "start_time": "2023-01-07T02:42:08.580632",
     "status": "completed"
    },
    "tags": []
   },
   "outputs": [],
   "source": [
    "import pandas as pd\n",
    "import numpy as np\n",
    "import seaborn as sns\n",
    "import matplotlib\n",
    "\n",
    "import matplotlib.pyplot as plt\n",
    "from scipy.stats import skew\n",
    "from scipy.stats.stats import pearsonr\n",
    "\n",
    "\n",
    "%config InlineBackend.figure_format = 'retina' #set 'png' here when working on notebook\n",
    "%matplotlib inline"
   ]
  },
  {
   "cell_type": "code",
   "execution_count": 0,
   "metadata": {
    "_cell_guid": "603292c1-44b7-d72a-5468-e6782f311603",
    "application/vnd.databricks.v1+cell": {
     "cellMetadata": {},
     "inputWidgets": {},
     "nuid": "2237c9ac-9501-4210-b1cc-19814fe0973b",
     "showTitle": false,
     "title": ""
    },
    "execution": {
     "iopub.execute_input": "2023-01-07T02:42:09.666383Z",
     "iopub.status.busy": "2023-01-07T02:42:09.665899Z",
     "iopub.status.idle": "2023-01-07T02:42:09.748480Z",
     "shell.execute_reply": "2023-01-07T02:42:09.747381Z"
    },
    "papermill": {
     "duration": 0.09488,
     "end_time": "2023-01-07T02:42:09.751178",
     "exception": false,
     "start_time": "2023-01-07T02:42:09.656298",
     "status": "completed"
    },
    "tags": []
   },
   "outputs": [],
   "source": [
    "train = pd.read_csv(\"../input/train.csv\")\n",
    "test = pd.read_csv(\"../input/test.csv\")"
   ]
  },
  {
   "cell_type": "code",
   "execution_count": 0,
   "metadata": {
    "_cell_guid": "d646bb1b-56c4-9b45-d5d4-27095f61b1c0",
    "application/vnd.databricks.v1+cell": {
     "cellMetadata": {},
     "inputWidgets": {},
     "nuid": "118bc7a9-4dd1-46dc-bb57-8c5e5ba1fe3c",
     "showTitle": false,
     "title": ""
    },
    "execution": {
     "iopub.execute_input": "2023-01-07T02:42:09.769371Z",
     "iopub.status.busy": "2023-01-07T02:42:09.768921Z",
     "iopub.status.idle": "2023-01-07T02:42:09.804257Z",
     "shell.execute_reply": "2023-01-07T02:42:09.803154Z"
    },
    "papermill": {
     "duration": 0.047968,
     "end_time": "2023-01-07T02:42:09.807412",
     "exception": false,
     "start_time": "2023-01-07T02:42:09.759444",
     "status": "completed"
    },
    "tags": []
   },
   "outputs": [],
   "source": [
    "train.head()"
   ]
  },
  {
   "cell_type": "code",
   "execution_count": 0,
   "metadata": {
    "_cell_guid": "cb2d88d7-7f76-4b04-d28b-d2c315ae4346",
    "application/vnd.databricks.v1+cell": {
     "cellMetadata": {},
     "inputWidgets": {},
     "nuid": "7696ddae-b5d2-44d4-9727-ecc50f909d84",
     "showTitle": false,
     "title": ""
    },
    "execution": {
     "iopub.execute_input": "2023-01-07T02:42:09.827902Z",
     "iopub.status.busy": "2023-01-07T02:42:09.827102Z",
     "iopub.status.idle": "2023-01-07T02:42:09.850476Z",
     "shell.execute_reply": "2023-01-07T02:42:09.849322Z"
    },
    "papermill": {
     "duration": 0.035538,
     "end_time": "2023-01-07T02:42:09.853099",
     "exception": false,
     "start_time": "2023-01-07T02:42:09.817561",
     "status": "completed"
    },
    "tags": []
   },
   "outputs": [],
   "source": [
    "all_data = pd.concat((train.loc[:,'MSSubClass':'SaleCondition'],\n",
    "                      test.loc[:,'MSSubClass':'SaleCondition']))"
   ]
  },
  {
   "cell_type": "markdown",
   "metadata": {
    "_cell_guid": "29fa13df-61e8-b0c2-b3a7-ea92bffd4396",
    "application/vnd.databricks.v1+cell": {
     "cellMetadata": {},
     "inputWidgets": {},
     "nuid": "7b54f5cb-61d7-49a9-8cfc-256b12ddfb72",
     "showTitle": false,
     "title": ""
    },
    "papermill": {
     "duration": 0.008081,
     "end_time": "2023-01-07T02:42:09.869688",
     "exception": false,
     "start_time": "2023-01-07T02:42:09.861607",
     "status": "completed"
    },
    "tags": []
   },
   "source": [
    "###Data preprocessing: \n",
    "We're not going to do anything fancy here: \n",
    " \n",
    "- First I'll transform the skewed numeric features by taking log(feature + 1) - this will make the features more normal    \n",
    "- Create Dummy variables for the categorical features    \n",
    "- Replace the numeric missing values (NaN's) with the mean of their respective columns"
   ]
  },
  {
   "cell_type": "code",
   "execution_count": 0,
   "metadata": {
    "_cell_guid": "9b5a3e5b-f683-3fd2-7269-4068975bbe42",
    "application/vnd.databricks.v1+cell": {
     "cellMetadata": {},
     "inputWidgets": {},
     "nuid": "b0a32ef6-47e3-400b-a2f7-4ebada642df3",
     "showTitle": false,
     "title": ""
    },
    "execution": {
     "iopub.execute_input": "2023-01-07T02:42:09.887974Z",
     "iopub.status.busy": "2023-01-07T02:42:09.887571Z",
     "iopub.status.idle": "2023-01-07T02:42:10.486801Z",
     "shell.execute_reply": "2023-01-07T02:42:10.485214Z"
    },
    "papermill": {
     "duration": 0.611739,
     "end_time": "2023-01-07T02:42:10.489695",
     "exception": false,
     "start_time": "2023-01-07T02:42:09.877956",
     "status": "completed"
    },
    "tags": []
   },
   "outputs": [],
   "source": [
    "matplotlib.rcParams['figure.figsize'] = (12.0, 6.0)\n",
    "prices = pd.DataFrame({\"price\":train[\"SalePrice\"], \"log(price + 1)\":np.log1p(train[\"SalePrice\"])})\n",
    "prices.hist()"
   ]
  },
  {
   "cell_type": "code",
   "execution_count": 0,
   "metadata": {
    "_cell_guid": "4ed54771-95c4-00e7-b2cd-569d17862878",
    "application/vnd.databricks.v1+cell": {
     "cellMetadata": {},
     "inputWidgets": {},
     "nuid": "a47ec59b-140c-4eb0-8896-6f8821b2e232",
     "showTitle": false,
     "title": ""
    },
    "execution": {
     "iopub.execute_input": "2023-01-07T02:42:10.516714Z",
     "iopub.status.busy": "2023-01-07T02:42:10.515532Z",
     "iopub.status.idle": "2023-01-07T02:42:10.557806Z",
     "shell.execute_reply": "2023-01-07T02:42:10.556061Z"
    },
    "papermill": {
     "duration": 0.059373,
     "end_time": "2023-01-07T02:42:10.561448",
     "exception": false,
     "start_time": "2023-01-07T02:42:10.502075",
     "status": "completed"
    },
    "tags": []
   },
   "outputs": [],
   "source": [
    "#log transform the target:\n",
    "train[\"SalePrice\"] = np.log1p(train[\"SalePrice\"])\n",
    "\n",
    "#log transform skewed numeric features:\n",
    "numeric_feats = all_data.dtypes[all_data.dtypes != \"object\"].index\n",
    "\n",
    "skewed_feats = train[numeric_feats].apply(lambda x: skew(x.dropna())) #compute skewness\n",
    "skewed_feats = skewed_feats[skewed_feats > 0.75]\n",
    "skewed_feats = skewed_feats.index\n",
    "\n",
    "all_data[skewed_feats] = np.log1p(all_data[skewed_feats])"
   ]
  },
  {
   "cell_type": "code",
   "execution_count": 0,
   "metadata": {
    "_cell_guid": "3854ab12-a4f3-4c88-fe6e-1fee08e18af2",
    "application/vnd.databricks.v1+cell": {
     "cellMetadata": {},
     "inputWidgets": {},
     "nuid": "d8207b4f-83da-411c-a8e9-4177ed798724",
     "showTitle": false,
     "title": ""
    },
    "execution": {
     "iopub.execute_input": "2023-01-07T02:42:10.582461Z",
     "iopub.status.busy": "2023-01-07T02:42:10.581762Z",
     "iopub.status.idle": "2023-01-07T02:42:10.638781Z",
     "shell.execute_reply": "2023-01-07T02:42:10.637552Z"
    },
    "papermill": {
     "duration": 0.070558,
     "end_time": "2023-01-07T02:42:10.641584",
     "exception": false,
     "start_time": "2023-01-07T02:42:10.571026",
     "status": "completed"
    },
    "tags": []
   },
   "outputs": [],
   "source": [
    "all_data = pd.get_dummies(all_data)"
   ]
  },
  {
   "cell_type": "code",
   "execution_count": 0,
   "metadata": {
    "_cell_guid": "5d417300-0deb-3353-cabf-95f75af62678",
    "application/vnd.databricks.v1+cell": {
     "cellMetadata": {},
     "inputWidgets": {},
     "nuid": "595f8bff-8b7c-4ebe-898e-95dd2bd05cae",
     "showTitle": false,
     "title": ""
    },
    "execution": {
     "iopub.execute_input": "2023-01-07T02:42:10.661951Z",
     "iopub.status.busy": "2023-01-07T02:42:10.661524Z",
     "iopub.status.idle": "2023-01-07T02:42:10.720938Z",
     "shell.execute_reply": "2023-01-07T02:42:10.719790Z"
    },
    "papermill": {
     "duration": 0.072667,
     "end_time": "2023-01-07T02:42:10.723616",
     "exception": false,
     "start_time": "2023-01-07T02:42:10.650949",
     "status": "completed"
    },
    "tags": []
   },
   "outputs": [],
   "source": [
    "#filling NA's with the mean of the column:\n",
    "all_data = all_data.fillna(all_data.mean())"
   ]
  },
  {
   "cell_type": "markdown",
   "metadata": {
    "application/vnd.databricks.v1+cell": {
     "cellMetadata": {},
     "inputWidgets": {},
     "nuid": "31fc99dc-6a78-413e-975f-9f6f89849b09",
     "showTitle": false,
     "title": ""
    },
    "papermill": {
     "duration": 0.008899,
     "end_time": "2023-01-07T02:42:10.741998",
     "exception": false,
     "start_time": "2023-01-07T02:42:10.733099",
     "status": "completed"
    },
    "tags": []
   },
   "source": [
    "Note that above I use all the data to compute the mean value that is then used for imputation. This is a flawed approach since it introduces some minor data leakage. However I decided to leave it here like this to showcase some common mistakes we all make :)"
   ]
  },
  {
   "cell_type": "code",
   "execution_count": 0,
   "metadata": {
    "_cell_guid": "fe687685-cdac-0a89-4d71-af2d11d87a81",
    "application/vnd.databricks.v1+cell": {
     "cellMetadata": {},
     "inputWidgets": {},
     "nuid": "89c3ed24-e7e4-488a-b5cf-c731c6508452",
     "showTitle": false,
     "title": ""
    },
    "execution": {
     "iopub.execute_input": "2023-01-07T02:42:10.762849Z",
     "iopub.status.busy": "2023-01-07T02:42:10.761945Z",
     "iopub.status.idle": "2023-01-07T02:42:10.768567Z",
     "shell.execute_reply": "2023-01-07T02:42:10.767224Z"
    },
    "papermill": {
     "duration": 0.019973,
     "end_time": "2023-01-07T02:42:10.771321",
     "exception": false,
     "start_time": "2023-01-07T02:42:10.751348",
     "status": "completed"
    },
    "tags": []
   },
   "outputs": [],
   "source": [
    "#creating matrices for sklearn:\n",
    "X_train = all_data[:train.shape[0]]\n",
    "X_test = all_data[train.shape[0]:]\n",
    "y = train.SalePrice"
   ]
  },
  {
   "cell_type": "markdown",
   "metadata": {
    "_cell_guid": "cc4e3014-23b7-2971-ddb0-f67b03f83558",
    "application/vnd.databricks.v1+cell": {
     "cellMetadata": {},
     "inputWidgets": {},
     "nuid": "bdfd93fc-1a94-40cf-9aaa-c7cf635e0fe9",
     "showTitle": false,
     "title": ""
    },
    "papermill": {
     "duration": 0.009476,
     "end_time": "2023-01-07T02:42:10.790548",
     "exception": false,
     "start_time": "2023-01-07T02:42:10.781072",
     "status": "completed"
    },
    "tags": []
   },
   "source": [
    "### Models\n",
    "\n",
    "Now we are going to use regularized linear regression models from the scikit learn module. I'm going to try both l_1(Lasso) and l_2(Ridge) regularization. I'll also define a function that returns the cross-validation rmse error so we can evaluate our models and pick the best tuning par"
   ]
  },
  {
   "cell_type": "code",
   "execution_count": 0,
   "metadata": {
    "_cell_guid": "82886739-eee6-5d7a-4be9-e1fe6ac059f1",
    "application/vnd.databricks.v1+cell": {
     "cellMetadata": {},
     "inputWidgets": {},
     "nuid": "41e52b6e-f9f3-4959-b1ab-7c257349162c",
     "showTitle": false,
     "title": ""
    },
    "execution": {
     "iopub.execute_input": "2023-01-07T02:42:10.812665Z",
     "iopub.status.busy": "2023-01-07T02:42:10.811845Z",
     "iopub.status.idle": "2023-01-07T02:42:11.066488Z",
     "shell.execute_reply": "2023-01-07T02:42:11.064967Z"
    },
    "papermill": {
     "duration": 0.26806,
     "end_time": "2023-01-07T02:42:11.069244",
     "exception": false,
     "start_time": "2023-01-07T02:42:10.801184",
     "status": "completed"
    },
    "tags": []
   },
   "outputs": [],
   "source": [
    "from sklearn.linear_model import Ridge, RidgeCV, ElasticNet, LassoCV, LassoLarsCV\n",
    "from sklearn.model_selection import cross_val_score\n",
    "\n",
    "def rmse_cv(model):\n",
    "    rmse= np.sqrt(-cross_val_score(model, X_train, y, scoring=\"neg_mean_squared_error\", cv = 5))\n",
    "    return(rmse)"
   ]
  },
  {
   "cell_type": "code",
   "execution_count": 0,
   "metadata": {
    "_cell_guid": "436ce6e8-917f-8c88-3d7b-245e82a1619f",
    "application/vnd.databricks.v1+cell": {
     "cellMetadata": {},
     "inputWidgets": {},
     "nuid": "1a6eab21-9357-4ffb-bf95-cb3f8bc98f10",
     "showTitle": false,
     "title": ""
    },
    "execution": {
     "iopub.execute_input": "2023-01-07T02:42:11.091224Z",
     "iopub.status.busy": "2023-01-07T02:42:11.090562Z",
     "iopub.status.idle": "2023-01-07T02:42:11.095604Z",
     "shell.execute_reply": "2023-01-07T02:42:11.094682Z"
    },
    "papermill": {
     "duration": 0.018733,
     "end_time": "2023-01-07T02:42:11.097866",
     "exception": false,
     "start_time": "2023-01-07T02:42:11.079133",
     "status": "completed"
    },
    "tags": []
   },
   "outputs": [],
   "source": [
    "model_ridge = Ridge()"
   ]
  },
  {
   "cell_type": "markdown",
   "metadata": {
    "_cell_guid": "69ff958c-dbbb-4750-3fb0-d0ac17ff6363",
    "application/vnd.databricks.v1+cell": {
     "cellMetadata": {},
     "inputWidgets": {},
     "nuid": "f435f979-f825-47e6-bfe9-bd146a4b0097",
     "showTitle": false,
     "title": ""
    },
    "papermill": {
     "duration": 0.01002,
     "end_time": "2023-01-07T02:42:11.118034",
     "exception": false,
     "start_time": "2023-01-07T02:42:11.108014",
     "status": "completed"
    },
    "tags": []
   },
   "source": [
    "The main tuning parameter for the Ridge model is alpha - a regularization parameter that measures how flexible our model is. The higher the regularization the less prone our model will be to overfit. However it will also lose flexibility and might not capture all of the signal in the data."
   ]
  },
  {
   "cell_type": "code",
   "execution_count": 0,
   "metadata": {
    "_cell_guid": "f6b86166-f581-6e05-5274-d3d3516ebaf3",
    "application/vnd.databricks.v1+cell": {
     "cellMetadata": {},
     "inputWidgets": {},
     "nuid": "0893ed77-5415-41f0-b523-864b589582c0",
     "showTitle": false,
     "title": ""
    },
    "execution": {
     "iopub.execute_input": "2023-01-07T02:42:11.139086Z",
     "iopub.status.busy": "2023-01-07T02:42:11.138402Z",
     "iopub.status.idle": "2023-01-07T02:42:14.383549Z",
     "shell.execute_reply": "2023-01-07T02:42:14.381497Z"
    },
    "papermill": {
     "duration": 3.260375,
     "end_time": "2023-01-07T02:42:14.387975",
     "exception": false,
     "start_time": "2023-01-07T02:42:11.127600",
     "status": "completed"
    },
    "tags": []
   },
   "outputs": [],
   "source": [
    "alphas = [0.05, 0.1, 0.3, 1, 3, 5, 10, 15, 30, 50, 75]\n",
    "cv_ridge = [rmse_cv(Ridge(alpha = alpha)).mean() \n",
    "            for alpha in alphas]"
   ]
  },
  {
   "cell_type": "code",
   "execution_count": 0,
   "metadata": {
    "_cell_guid": "f8cf53ba-8441-9233-b7f5-a851d270b770",
    "application/vnd.databricks.v1+cell": {
     "cellMetadata": {},
     "inputWidgets": {},
     "nuid": "1a583df3-b7d5-4769-b902-9d824663558c",
     "showTitle": false,
     "title": ""
    },
    "execution": {
     "iopub.execute_input": "2023-01-07T02:42:14.477679Z",
     "iopub.status.busy": "2023-01-07T02:42:14.476929Z",
     "iopub.status.idle": "2023-01-07T02:42:14.780056Z",
     "shell.execute_reply": "2023-01-07T02:42:14.779240Z"
    },
    "papermill": {
     "duration": 0.354182,
     "end_time": "2023-01-07T02:42:14.782390",
     "exception": false,
     "start_time": "2023-01-07T02:42:14.428208",
     "status": "completed"
    },
    "tags": []
   },
   "outputs": [],
   "source": [
    "cv_ridge = pd.Series(cv_ridge, index = alphas)\n",
    "cv_ridge.plot(title = \"Validation - Just Do It\")\n",
    "plt.xlabel(\"alpha\")\n",
    "plt.ylabel(\"rmse\")"
   ]
  },
  {
   "cell_type": "markdown",
   "metadata": {
    "_cell_guid": "37486402-4a48-912f-84ee-a3611334b133",
    "application/vnd.databricks.v1+cell": {
     "cellMetadata": {},
     "inputWidgets": {},
     "nuid": "3fa05881-ea41-493e-9a18-ccd738638078",
     "showTitle": false,
     "title": ""
    },
    "papermill": {
     "duration": 0.010299,
     "end_time": "2023-01-07T02:42:14.803316",
     "exception": false,
     "start_time": "2023-01-07T02:42:14.793017",
     "status": "completed"
    },
    "tags": []
   },
   "source": [
    "Note the U-ish shaped curve above. When alpha is too large the regularization is too strong and the model cannot capture all the complexities in the data. If however we let the model be too flexible (alpha small) the model begins to overfit. A value of alpha = 10 is about right based on the plot above."
   ]
  },
  {
   "cell_type": "code",
   "execution_count": 0,
   "metadata": {
    "_cell_guid": "d42c18c9-ee70-929f-ce63-aac7f77796cc",
    "application/vnd.databricks.v1+cell": {
     "cellMetadata": {},
     "inputWidgets": {},
     "nuid": "04a615f2-e640-4d64-b31f-391beae5bac1",
     "showTitle": false,
     "title": ""
    },
    "execution": {
     "iopub.execute_input": "2023-01-07T02:42:14.826968Z",
     "iopub.status.busy": "2023-01-07T02:42:14.825707Z",
     "iopub.status.idle": "2023-01-07T02:42:14.834076Z",
     "shell.execute_reply": "2023-01-07T02:42:14.833025Z"
    },
    "papermill": {
     "duration": 0.022446,
     "end_time": "2023-01-07T02:42:14.836280",
     "exception": false,
     "start_time": "2023-01-07T02:42:14.813834",
     "status": "completed"
    },
    "tags": []
   },
   "outputs": [],
   "source": [
    "cv_ridge.min()"
   ]
  },
  {
   "cell_type": "markdown",
   "metadata": {
    "_cell_guid": "863fb699-7bcd-3748-3dbb-1c9b18afee9b",
    "application/vnd.databricks.v1+cell": {
     "cellMetadata": {},
     "inputWidgets": {},
     "nuid": "6e1070df-8868-4568-8c9f-fa3c8bcfc313",
     "showTitle": false,
     "title": ""
    },
    "papermill": {
     "duration": 0.010837,
     "end_time": "2023-01-07T02:42:14.857998",
     "exception": false,
     "start_time": "2023-01-07T02:42:14.847161",
     "status": "completed"
    },
    "tags": []
   },
   "source": [
    "So for the Ridge regression we get a rmsle of about 0.127\n",
    "\n",
    "Let' try out the Lasso model. We will do a slightly different approach here and use the built in Lasso CV to figure out the best alpha for us. For some reason the alphas in Lasso CV are really the inverse or the alphas in Ridge."
   ]
  },
  {
   "cell_type": "code",
   "execution_count": 0,
   "metadata": {
    "_cell_guid": "8204520c-a595-2ad2-4685-0b84cc662b84",
    "application/vnd.databricks.v1+cell": {
     "cellMetadata": {},
     "inputWidgets": {},
     "nuid": "034f7872-9a7c-47b8-aca3-65f8ff3989e8",
     "showTitle": false,
     "title": ""
    },
    "execution": {
     "iopub.execute_input": "2023-01-07T02:42:14.882220Z",
     "iopub.status.busy": "2023-01-07T02:42:14.881345Z",
     "iopub.status.idle": "2023-01-07T02:42:15.171547Z",
     "shell.execute_reply": "2023-01-07T02:42:15.169881Z"
    },
    "papermill": {
     "duration": 0.306869,
     "end_time": "2023-01-07T02:42:15.175844",
     "exception": false,
     "start_time": "2023-01-07T02:42:14.868975",
     "status": "completed"
    },
    "tags": []
   },
   "outputs": [],
   "source": [
    "model_lasso = LassoCV(alphas = [1, 0.1, 0.001, 0.0005]).fit(X_train, y)"
   ]
  },
  {
   "cell_type": "code",
   "execution_count": 0,
   "metadata": {
    "_cell_guid": "e78e6126-4de0-08ad-250b-46a3f0f48de0",
    "application/vnd.databricks.v1+cell": {
     "cellMetadata": {},
     "inputWidgets": {},
     "nuid": "47a4227c-aa85-483f-8d7a-b0f1a6a5f0c0",
     "showTitle": false,
     "title": ""
    },
    "execution": {
     "iopub.execute_input": "2023-01-07T02:42:15.232489Z",
     "iopub.status.busy": "2023-01-07T02:42:15.231792Z",
     "iopub.status.idle": "2023-01-07T02:42:16.535122Z",
     "shell.execute_reply": "2023-01-07T02:42:16.533438Z"
    },
    "papermill": {
     "duration": 1.33706,
     "end_time": "2023-01-07T02:42:16.540073",
     "exception": false,
     "start_time": "2023-01-07T02:42:15.203013",
     "status": "completed"
    },
    "tags": []
   },
   "outputs": [],
   "source": [
    "rmse_cv(model_lasso).mean()"
   ]
  },
  {
   "cell_type": "markdown",
   "metadata": {
    "_cell_guid": "abc5f43e-1c38-4c1e-cb70-a95c8d9be8de",
    "application/vnd.databricks.v1+cell": {
     "cellMetadata": {},
     "inputWidgets": {},
     "nuid": "07451b20-e763-4ab8-a079-d1ea6ab3d973",
     "showTitle": false,
     "title": ""
    },
    "papermill": {
     "duration": 0.040903,
     "end_time": "2023-01-07T02:42:16.629714",
     "exception": false,
     "start_time": "2023-01-07T02:42:16.588811",
     "status": "completed"
    },
    "tags": []
   },
   "source": [
    "Nice! The lasso performs even better so we'll just use this one to predict on the test set. Another neat thing about the Lasso is that it does feature selection for you - setting coefficients of features it deems unimportant to zero. Let's take a look at the coefficients:"
   ]
  },
  {
   "cell_type": "code",
   "execution_count": 0,
   "metadata": {
    "_cell_guid": "c7be87ca-412a-cb19-1524-cd94cf698d44",
    "application/vnd.databricks.v1+cell": {
     "cellMetadata": {},
     "inputWidgets": {},
     "nuid": "91d01579-3e94-4e31-a73d-f60ec2adb34a",
     "showTitle": false,
     "title": ""
    },
    "execution": {
     "iopub.execute_input": "2023-01-07T02:42:16.659605Z",
     "iopub.status.busy": "2023-01-07T02:42:16.659175Z",
     "iopub.status.idle": "2023-01-07T02:42:16.664704Z",
     "shell.execute_reply": "2023-01-07T02:42:16.663462Z"
    },
    "papermill": {
     "duration": 0.020125,
     "end_time": "2023-01-07T02:42:16.666942",
     "exception": false,
     "start_time": "2023-01-07T02:42:16.646817",
     "status": "completed"
    },
    "tags": []
   },
   "outputs": [],
   "source": [
    "coef = pd.Series(model_lasso.coef_, index = X_train.columns)"
   ]
  },
  {
   "cell_type": "code",
   "execution_count": 0,
   "metadata": {
    "_cell_guid": "14be641e-bbe0-824d-d90f-f47698c8b5c5",
    "application/vnd.databricks.v1+cell": {
     "cellMetadata": {},
     "inputWidgets": {},
     "nuid": "21e73f9c-0a94-4b86-991e-3232e4b11c57",
     "showTitle": false,
     "title": ""
    },
    "execution": {
     "iopub.execute_input": "2023-01-07T02:42:16.691174Z",
     "iopub.status.busy": "2023-01-07T02:42:16.690316Z",
     "iopub.status.idle": "2023-01-07T02:42:16.698200Z",
     "shell.execute_reply": "2023-01-07T02:42:16.696874Z"
    },
    "papermill": {
     "duration": 0.022654,
     "end_time": "2023-01-07T02:42:16.700561",
     "exception": false,
     "start_time": "2023-01-07T02:42:16.677907",
     "status": "completed"
    },
    "tags": []
   },
   "outputs": [],
   "source": [
    "print(\"Lasso picked \" + str(sum(coef != 0)) + \" variables and eliminated the other \" +  str(sum(coef == 0)) + \" variables\")"
   ]
  },
  {
   "cell_type": "markdown",
   "metadata": {
    "_cell_guid": "ca153134-b109-1afc-e066-44273f65d44c",
    "application/vnd.databricks.v1+cell": {
     "cellMetadata": {},
     "inputWidgets": {},
     "nuid": "0524cbb9-7070-4b21-8cd3-009652eddb2c",
     "showTitle": false,
     "title": ""
    },
    "papermill": {
     "duration": 0.01074,
     "end_time": "2023-01-07T02:42:16.722396",
     "exception": false,
     "start_time": "2023-01-07T02:42:16.711656",
     "status": "completed"
    },
    "tags": []
   },
   "source": [
    "Good job Lasso.  One thing to note here however is that the features selected are not necessarily the \"correct\" ones - especially since there are a lot of collinear features in this dataset. One idea to try here is run Lasso a few times on boostrapped samples and see how stable the feature selection is."
   ]
  },
  {
   "cell_type": "markdown",
   "metadata": {
    "_cell_guid": "632e23a8-948f-c692-f5e9-1aa8a75f21d5",
    "application/vnd.databricks.v1+cell": {
     "cellMetadata": {},
     "inputWidgets": {},
     "nuid": "6bc4abd5-878e-486d-89cc-f765f5e65015",
     "showTitle": false,
     "title": ""
    },
    "papermill": {
     "duration": 0.010977,
     "end_time": "2023-01-07T02:42:16.744520",
     "exception": false,
     "start_time": "2023-01-07T02:42:16.733543",
     "status": "completed"
    },
    "tags": []
   },
   "source": [
    "We can also take a look directly at what the most important coefficients are:"
   ]
  },
  {
   "cell_type": "code",
   "execution_count": 0,
   "metadata": {
    "_cell_guid": "3efc02df-c877-b1fe-1807-5dd93c896c63",
    "application/vnd.databricks.v1+cell": {
     "cellMetadata": {},
     "inputWidgets": {},
     "nuid": "cb726f0e-bd5e-461b-9dab-29c8a3413dde",
     "showTitle": false,
     "title": ""
    },
    "execution": {
     "iopub.execute_input": "2023-01-07T02:42:16.769408Z",
     "iopub.status.busy": "2023-01-07T02:42:16.768020Z",
     "iopub.status.idle": "2023-01-07T02:42:16.775278Z",
     "shell.execute_reply": "2023-01-07T02:42:16.774389Z"
    },
    "papermill": {
     "duration": 0.02201,
     "end_time": "2023-01-07T02:42:16.777757",
     "exception": false,
     "start_time": "2023-01-07T02:42:16.755747",
     "status": "completed"
    },
    "tags": []
   },
   "outputs": [],
   "source": [
    "imp_coef = pd.concat([coef.sort_values().head(10),\n",
    "                     coef.sort_values().tail(10)])"
   ]
  },
  {
   "cell_type": "code",
   "execution_count": 0,
   "metadata": {
    "_cell_guid": "87317789-6e7e-d57f-0b54-d8ba0ee26abf",
    "application/vnd.databricks.v1+cell": {
     "cellMetadata": {},
     "inputWidgets": {},
     "nuid": "8c8ecc4a-9fe1-4a55-9691-d2829d6a2086",
     "showTitle": false,
     "title": ""
    },
    "execution": {
     "iopub.execute_input": "2023-01-07T02:42:16.802834Z",
     "iopub.status.busy": "2023-01-07T02:42:16.801971Z",
     "iopub.status.idle": "2023-01-07T02:42:17.347721Z",
     "shell.execute_reply": "2023-01-07T02:42:17.346420Z"
    },
    "papermill": {
     "duration": 0.561161,
     "end_time": "2023-01-07T02:42:17.350169",
     "exception": false,
     "start_time": "2023-01-07T02:42:16.789008",
     "status": "completed"
    },
    "tags": []
   },
   "outputs": [],
   "source": [
    "matplotlib.rcParams['figure.figsize'] = (8.0, 10.0)\n",
    "imp_coef.plot(kind = \"barh\")\n",
    "plt.title(\"Coefficients in the Lasso Model\")"
   ]
  },
  {
   "cell_type": "markdown",
   "metadata": {
    "_cell_guid": "f6e6f820-1ec6-4a69-c309-9992b80652da",
    "application/vnd.databricks.v1+cell": {
     "cellMetadata": {},
     "inputWidgets": {},
     "nuid": "75ce89cd-4f32-4e77-9bf9-4520e05e8efc",
     "showTitle": false,
     "title": ""
    },
    "papermill": {
     "duration": 0.012695,
     "end_time": "2023-01-07T02:42:17.376281",
     "exception": false,
     "start_time": "2023-01-07T02:42:17.363586",
     "status": "completed"
    },
    "tags": []
   },
   "source": [
    "The most important positive feature is `GrLivArea` -  the above ground area by area square feet. This definitely make sense. Then a few other  location and quality features contributed positively. Some of the negative features make less sense and would be worth looking into more - it seems like they might come from unbalanced categorical variables.\n",
    "\n",
    "Also note that unlike the feature importance you'd get from a random forest these are _actual_ coefficients in your model - so you can say precisely why the predicted price is what it is. The only issue here is that we log_transformed both the target and the numeric features so the actual magnitudes are a bit hard to interpret and also the relationship is now multiplicative not additive."
   ]
  },
  {
   "cell_type": "code",
   "execution_count": 0,
   "metadata": {
    "_cell_guid": "cdeaa3d3-f9ad-2e06-1339-61b4425a43f8",
    "application/vnd.databricks.v1+cell": {
     "cellMetadata": {},
     "inputWidgets": {},
     "nuid": "a79f5a2d-db8e-4cb8-8abb-d1fa0ae2a6c9",
     "showTitle": false,
     "title": ""
    },
    "execution": {
     "iopub.execute_input": "2023-01-07T02:42:17.405424Z",
     "iopub.status.busy": "2023-01-07T02:42:17.404907Z",
     "iopub.status.idle": "2023-01-07T02:42:17.806400Z",
     "shell.execute_reply": "2023-01-07T02:42:17.805262Z"
    },
    "papermill": {
     "duration": 0.418607,
     "end_time": "2023-01-07T02:42:17.808799",
     "exception": false,
     "start_time": "2023-01-07T02:42:17.390192",
     "status": "completed"
    },
    "tags": []
   },
   "outputs": [],
   "source": [
    "#let's look at the residuals as well:\n",
    "matplotlib.rcParams['figure.figsize'] = (6.0, 6.0)\n",
    "\n",
    "preds = pd.DataFrame({\"preds\":model_lasso.predict(X_train), \"true\":y})\n",
    "preds[\"residuals\"] = preds[\"true\"] - preds[\"preds\"]\n",
    "preds.plot(x = \"preds\", y = \"residuals\",kind = \"scatter\")"
   ]
  },
  {
   "cell_type": "markdown",
   "metadata": {
    "_cell_guid": "4780532e-2815-e355-9a96-fb1c598f6984",
    "application/vnd.databricks.v1+cell": {
     "cellMetadata": {},
     "inputWidgets": {},
     "nuid": "18ed7794-e379-4ad5-b901-bd8167ba543e",
     "showTitle": false,
     "title": ""
    },
    "papermill": {
     "duration": 0.013457,
     "end_time": "2023-01-07T02:42:17.836265",
     "exception": false,
     "start_time": "2023-01-07T02:42:17.822808",
     "status": "completed"
    },
    "tags": []
   },
   "source": [
    "The residual plot looks pretty good.To wrap it up let's predict on the test set and submit on the leaderboard:"
   ]
  },
  {
   "cell_type": "markdown",
   "metadata": {
    "_cell_guid": "f8da43e0-fd51-a4c9-d9b2-364d9911699a",
    "application/vnd.databricks.v1+cell": {
     "cellMetadata": {},
     "inputWidgets": {},
     "nuid": "37a2bc1f-13bf-48e6-8abe-5e75e40f82f9",
     "showTitle": false,
     "title": ""
    },
    "papermill": {
     "duration": 0.013408,
     "end_time": "2023-01-07T02:42:17.863591",
     "exception": false,
     "start_time": "2023-01-07T02:42:17.850183",
     "status": "completed"
    },
    "tags": []
   },
   "source": [
    "### Adding an xgboost model:"
   ]
  },
  {
   "cell_type": "markdown",
   "metadata": {
    "_cell_guid": "ae9bcc1a-5106-0909-ecf7-0abc2d2ca386",
    "application/vnd.databricks.v1+cell": {
     "cellMetadata": {},
     "inputWidgets": {},
     "nuid": "2417d94d-9bc2-4be6-85e5-8a11bd9e3c06",
     "showTitle": false,
     "title": ""
    },
    "papermill": {
     "duration": 0.013265,
     "end_time": "2023-01-07T02:42:17.891001",
     "exception": false,
     "start_time": "2023-01-07T02:42:17.877736",
     "status": "completed"
    },
    "tags": []
   },
   "source": [
    "Let's add an xgboost model to our linear model to see if we can improve our score:"
   ]
  },
  {
   "cell_type": "code",
   "execution_count": 0,
   "metadata": {
    "_cell_guid": "654e4fcf-a049-921a-4783-3c6d6dcca673",
    "application/vnd.databricks.v1+cell": {
     "cellMetadata": {},
     "inputWidgets": {},
     "nuid": "ca8d039e-db69-4423-b295-fe1b47d936c1",
     "showTitle": false,
     "title": ""
    },
    "execution": {
     "iopub.execute_input": "2023-01-07T02:42:17.919725Z",
     "iopub.status.busy": "2023-01-07T02:42:17.919254Z",
     "iopub.status.idle": "2023-01-07T02:42:18.045041Z",
     "shell.execute_reply": "2023-01-07T02:42:18.043788Z"
    },
    "papermill": {
     "duration": 0.143359,
     "end_time": "2023-01-07T02:42:18.047889",
     "exception": false,
     "start_time": "2023-01-07T02:42:17.904530",
     "status": "completed"
    },
    "tags": []
   },
   "outputs": [],
   "source": [
    "import xgboost as xgb"
   ]
  },
  {
   "cell_type": "code",
   "execution_count": 0,
   "metadata": {
    "_cell_guid": "be53a9f8-d88b-05fb-734d-3a1388d39864",
    "application/vnd.databricks.v1+cell": {
     "cellMetadata": {},
     "inputWidgets": {},
     "nuid": "e1a9a015-8725-4bd1-95be-ca8e90982571",
     "showTitle": false,
     "title": ""
    },
    "execution": {
     "iopub.execute_input": "2023-01-07T02:42:18.078270Z",
     "iopub.status.busy": "2023-01-07T02:42:18.077499Z",
     "iopub.status.idle": "2023-01-07T02:42:33.973430Z",
     "shell.execute_reply": "2023-01-07T02:42:33.972436Z"
    },
    "papermill": {
     "duration": 15.914252,
     "end_time": "2023-01-07T02:42:33.976103",
     "exception": false,
     "start_time": "2023-01-07T02:42:18.061851",
     "status": "completed"
    },
    "tags": []
   },
   "outputs": [],
   "source": [
    "\n",
    "dtrain = xgb.DMatrix(X_train, label = y)\n",
    "dtest = xgb.DMatrix(X_test)\n",
    "\n",
    "params = {\"max_depth\":2, \"eta\":0.1}\n",
    "model = xgb.cv(params, dtrain,  num_boost_round=500, early_stopping_rounds=100)"
   ]
  },
  {
   "cell_type": "code",
   "execution_count": 0,
   "metadata": {
    "_cell_guid": "c9d5bfe5-a0a8-0b10-d54a-1dfbb6123bd0",
    "application/vnd.databricks.v1+cell": {
     "cellMetadata": {},
     "inputWidgets": {},
     "nuid": "bfe9cf6b-ed23-4791-9035-e349b56ec037",
     "showTitle": false,
     "title": ""
    },
    "execution": {
     "iopub.execute_input": "2023-01-07T02:42:34.006963Z",
     "iopub.status.busy": "2023-01-07T02:42:34.005791Z",
     "iopub.status.idle": "2023-01-07T02:42:34.303587Z",
     "shell.execute_reply": "2023-01-07T02:42:34.302389Z"
    },
    "papermill": {
     "duration": 0.315455,
     "end_time": "2023-01-07T02:42:34.306307",
     "exception": false,
     "start_time": "2023-01-07T02:42:33.990852",
     "status": "completed"
    },
    "tags": []
   },
   "outputs": [],
   "source": [
    "model.loc[30:,[\"test-rmse-mean\", \"train-rmse-mean\"]].plot()"
   ]
  },
  {
   "cell_type": "code",
   "execution_count": 0,
   "metadata": {
    "_cell_guid": "00b8a271-0f93-c757-7e33-516c3a297628",
    "application/vnd.databricks.v1+cell": {
     "cellMetadata": {},
     "inputWidgets": {},
     "nuid": "5483b8f1-2299-439d-a0e2-d5ed5db19bd2",
     "showTitle": false,
     "title": ""
    },
    "execution": {
     "iopub.execute_input": "2023-01-07T02:42:34.337711Z",
     "iopub.status.busy": "2023-01-07T02:42:34.337219Z",
     "iopub.status.idle": "2023-01-07T02:42:36.730514Z",
     "shell.execute_reply": "2023-01-07T02:42:36.729469Z"
    },
    "papermill": {
     "duration": 2.412019,
     "end_time": "2023-01-07T02:42:36.733065",
     "exception": false,
     "start_time": "2023-01-07T02:42:34.321046",
     "status": "completed"
    },
    "tags": []
   },
   "outputs": [],
   "source": [
    "model_xgb = xgb.XGBRegressor(n_estimators=360, max_depth=2, learning_rate=0.1) #the params were tuned using xgb.cv\n",
    "model_xgb.fit(X_train, y)"
   ]
  },
  {
   "cell_type": "code",
   "execution_count": 0,
   "metadata": {
    "_cell_guid": "2b87a004-3a9a-77cc-4b5b-6540f870c028",
    "application/vnd.databricks.v1+cell": {
     "cellMetadata": {},
     "inputWidgets": {},
     "nuid": "1ca33a2f-cb25-43da-83ce-6a108c65884d",
     "showTitle": false,
     "title": ""
    },
    "execution": {
     "iopub.execute_input": "2023-01-07T02:42:36.764718Z",
     "iopub.status.busy": "2023-01-07T02:42:36.763882Z",
     "iopub.status.idle": "2023-01-07T02:42:36.806060Z",
     "shell.execute_reply": "2023-01-07T02:42:36.804665Z"
    },
    "papermill": {
     "duration": 0.061196,
     "end_time": "2023-01-07T02:42:36.809068",
     "exception": false,
     "start_time": "2023-01-07T02:42:36.747872",
     "status": "completed"
    },
    "tags": []
   },
   "outputs": [],
   "source": [
    "xgb_preds = np.expm1(model_xgb.predict(X_test))\n",
    "lasso_preds = np.expm1(model_lasso.predict(X_test))"
   ]
  },
  {
   "cell_type": "code",
   "execution_count": 0,
   "metadata": {
    "_cell_guid": "1c9c640b-9e6c-a350-0691-7f6a7dc19c41",
    "application/vnd.databricks.v1+cell": {
     "cellMetadata": {},
     "inputWidgets": {},
     "nuid": "fabf0292-cefd-40f7-ac42-b358897c51c5",
     "showTitle": false,
     "title": ""
    },
    "execution": {
     "iopub.execute_input": "2023-01-07T02:42:36.866904Z",
     "iopub.status.busy": "2023-01-07T02:42:36.866151Z",
     "iopub.status.idle": "2023-01-07T02:42:37.117515Z",
     "shell.execute_reply": "2023-01-07T02:42:37.116384Z"
    },
    "papermill": {
     "duration": 0.292665,
     "end_time": "2023-01-07T02:42:37.120141",
     "exception": false,
     "start_time": "2023-01-07T02:42:36.827476",
     "status": "completed"
    },
    "tags": []
   },
   "outputs": [],
   "source": [
    "predictions = pd.DataFrame({\"xgb\":xgb_preds, \"lasso\":lasso_preds})\n",
    "predictions.plot(x = \"xgb\", y = \"lasso\", kind = \"scatter\")"
   ]
  },
  {
   "cell_type": "markdown",
   "metadata": {
    "_cell_guid": "74c9bdd2-afbb-5fdf-a776-a8eebfa30d12",
    "application/vnd.databricks.v1+cell": {
     "cellMetadata": {},
     "inputWidgets": {},
     "nuid": "f48619df-2a93-41f6-9a5a-57a69a8877cb",
     "showTitle": false,
     "title": ""
    },
    "papermill": {
     "duration": 0.015557,
     "end_time": "2023-01-07T02:42:37.151723",
     "exception": false,
     "start_time": "2023-01-07T02:42:37.136166",
     "status": "completed"
    },
    "tags": []
   },
   "source": [
    "Many times it makes sense to take a weighted average of uncorrelated results - this usually imporoves the score although in this case it doesn't help that much. Here we will just do a weighted average based on some randomly picked value. We could also do a CV grid search here as well."
   ]
  },
  {
   "cell_type": "code",
   "execution_count": 0,
   "metadata": {
    "_cell_guid": "623ed0fe-0150-5226-db27-90a321061d52",
    "application/vnd.databricks.v1+cell": {
     "cellMetadata": {},
     "inputWidgets": {},
     "nuid": "d475c9e4-8959-489c-98fd-6a995af9f596",
     "showTitle": false,
     "title": ""
    },
    "execution": {
     "iopub.execute_input": "2023-01-07T02:42:37.185187Z",
     "iopub.status.busy": "2023-01-07T02:42:37.184793Z",
     "iopub.status.idle": "2023-01-07T02:42:37.190280Z",
     "shell.execute_reply": "2023-01-07T02:42:37.189219Z"
    },
    "papermill": {
     "duration": 0.025132,
     "end_time": "2023-01-07T02:42:37.192738",
     "exception": false,
     "start_time": "2023-01-07T02:42:37.167606",
     "status": "completed"
    },
    "tags": []
   },
   "outputs": [],
   "source": [
    "preds = 0.7*lasso_preds + 0.3*xgb_preds"
   ]
  },
  {
   "cell_type": "code",
   "execution_count": 0,
   "metadata": {
    "_cell_guid": "569d7154-e3b5-84ab-1d28-57bdc02955d9",
    "application/vnd.databricks.v1+cell": {
     "cellMetadata": {},
     "inputWidgets": {},
     "nuid": "b42f3dea-817c-427b-a2de-7cf96b822cb3",
     "showTitle": false,
     "title": ""
    },
    "execution": {
     "iopub.execute_input": "2023-01-07T02:42:37.226398Z",
     "iopub.status.busy": "2023-01-07T02:42:37.225980Z",
     "iopub.status.idle": "2023-01-07T02:42:37.238252Z",
     "shell.execute_reply": "2023-01-07T02:42:37.236996Z"
    },
    "papermill": {
     "duration": 0.032224,
     "end_time": "2023-01-07T02:42:37.240869",
     "exception": false,
     "start_time": "2023-01-07T02:42:37.208645",
     "status": "completed"
    },
    "tags": []
   },
   "outputs": [],
   "source": [
    "solution = pd.DataFrame({\"id\":test.Id, \"SalePrice\":preds})\n",
    "solution.to_csv(\"ridge_sol.csv\", index = False)"
   ]
  }
 ],
 "metadata": {
  "application/vnd.databricks.v1+notebook": {
   "dashboards": [],
   "language": "python",
   "notebookMetadata": {},
   "notebookName": "regularized-linear-models",
   "notebookOrigID": 953089915965497,
   "widgets": {}
  },
  "kernelspec": {
   "display_name": "Python 3",
   "language": "python",
   "name": "python3"
  },
  "language_info": {
   "codemirror_mode": {
    "name": "ipython",
    "version": 3
   },
   "file_extension": ".py",
   "mimetype": "text/x-python",
   "name": "python",
   "nbconvert_exporter": "python",
   "pygments_lexer": "ipython3",
   "version": "3.7.12"
  },
  "papermill": {
   "default_parameters": {},
   "duration": 38.194525,
   "end_time": "2023-01-07T02:42:38.079089",
   "environment_variables": {},
   "exception": null,
   "input_path": "__notebook__.ipynb",
   "output_path": "__notebook__.ipynb",
   "parameters": {},
   "start_time": "2023-01-07T02:41:59.884564",
   "version": "2.3.4"
  }
 },
 "nbformat": 4,
 "nbformat_minor": 0
}
