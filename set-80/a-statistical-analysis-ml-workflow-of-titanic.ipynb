{
 "cells": [
  {
   "cell_type": "markdown",
   "metadata": {
    "_cell_guid": "9c75ca41-8357-479e-8a46-ebdec5f035f3",
    "_uuid": "319ae25236d9fddf1745ea1c4cb365e5dbb00372",
    "application/vnd.databricks.v1+cell": {
     "cellMetadata": {},
     "inputWidgets": {},
     "nuid": "b6e12d59-884d-418c-b985-b135b0131900",
     "showTitle": false,
     "title": ""
    }
   },
   "source": [
    "<img src=\"http://data.freehdw.com/ships-titanic-vehicles-best.jpg\"  Width=\"800\">"
   ]
  },
  {
   "cell_type": "markdown",
   "metadata": {
    "_uuid": "bdce3bc433feb19f6622ab910cfe2123ccd07a1c",
    "application/vnd.databricks.v1+cell": {
     "cellMetadata": {},
     "inputWidgets": {},
     "nuid": "0cb9cadd-2ad1-4a1e-b09f-632866169a90",
     "showTitle": false,
     "title": ""
    }
   },
   "source": [
    "<a id=\"introduction\" ></a><br>\n",
    "This kernel is for all aspiring data scientists to learn from and to review their knowledge. We will have a detailed statistical analysis of Titanic data set along with Machine learning model implementation. I am super excited to share my first kernel with the Kaggle community. As I go on in this journey and learn new topics, I will incorporate them with each new updates. So, check for them and please <b>leave a comment</b> if you have any suggestions to make this kernel better!! Going back to the topics of this kernel, I will do more in-depth visualizations to explain the data, and the machine learning classifiers will be used to predict passenger survival status.\n",
    "\n",
    "<div style=\"text-align: left\"> \n",
    "    <br>\n",
    "    NOTE:\n",
    "    <ul>\n",
    "        <li>Follow me on <a href=\"https://www.youtube.com/channel/UC1mPjGyLcZmsMgZ8SJgrfdw\"><b>YOUTUBE</b></a> to get the video tutorial for this notebook.\n",
    "        <li>If you want to learn more about Advanced Regression models, please check out <a href=\"https://www.kaggle.com/masumrumi/a-stats-analysis-and-ml-workflow-of-house-pricing\">this</a> kernel.</li>\n",
    "        <li>If you are reading this on github, I recommend you read this on <a href=\"https://www.kaggle.com/masumrumi/a-statistical-analysis-ml-workflow-of-titanic\">kaggle</a>.</li>\n",
    "    </ul>\n",
    "</div>"
   ]
  },
  {
   "cell_type": "markdown",
   "metadata": {
    "_cell_guid": "7224a910-ec6b-481d-82f1-90ca6b5d037e",
    "_uuid": "9cd04af82734c5b53aaddc80992e1f499c180611",
    "application/vnd.databricks.v1+cell": {
     "cellMetadata": {},
     "inputWidgets": {},
     "nuid": "825e78c2-9582-46dd-94c9-855ce8751846",
     "showTitle": false,
     "title": ""
    }
   },
   "source": [
    "# Kernel Goals\n",
    "<a id=\"aboutthiskernel\"></a>\n",
    "***\n",
    "There are three primary goals of this kernel.\n",
    "- <b>Do a statistical analysis</b> of how some group of people was survived more than others. \n",
    "- <b>Do an exploratory data analysis(EDA)</b> of titanic with visualizations and storytelling.  \n",
    "- <b>Predict</b>: Use machine learning classification models to predict the chances of passengers survival.\n",
    "\n",
    "P.S. If you want to learn more about regression models, try this [kernel](https://www.kaggle.com/masumrumi/a-stats-analysis-and-ml-workflow-of-house-pricing/edit/run/9585160)."
   ]
  },
  {
   "cell_type": "markdown",
   "metadata": {
    "_cell_guid": "b3b559a5-dad0-419e-835a-e6babd1042ff",
    "_uuid": "1b1a0b28ad37a349e284d1e6ce6477d11b95e7c9",
    "application/vnd.databricks.v1+cell": {
     "cellMetadata": {},
     "inputWidgets": {},
     "nuid": "3da551fe-3b10-479f-a4d4-be076f2782d6",
     "showTitle": false,
     "title": ""
    }
   },
   "source": [
    "# Part 1: Importing Necessary Libraries and datasets\n",
    "***\n",
    "<a id=\"import_libraries**\"></a>\n",
    "## 1a. Loading libraries\n",
    "\n",
    "Python is a fantastic language with a vibrant community that produces many amazing libraries. I am not a big fan of importing everything at once for the newcomers. So, I am going to introduce a few necessary libraries for now, and as we go on, we will keep unboxing new libraries when it seems appropriate."
   ]
  },
  {
   "cell_type": "code",
   "execution_count": 0,
   "metadata": {
    "_cell_guid": "80643cb5-64f3-4180-92a9-2f8e83263ac6",
    "_kg_hide-input": true,
    "_uuid": "33d54abf387474bce3017f1fc3832493355010c0",
    "application/vnd.databricks.v1+cell": {
     "cellMetadata": {},
     "inputWidgets": {},
     "nuid": "44953bae-a675-487c-a9a2-fa0235dde671",
     "showTitle": false,
     "title": ""
    },
    "tags": []
   },
   "outputs": [],
   "source": [
    "# Import necessary modules\n",
    "import pandas as pd\n",
    "import numpy as np\n",
    "from matplotlib import pyplot as plt\n",
    "import seaborn as sns\n",
    "\n",
    "%matplotlib inline \n",
    "# %config InlineBackend.figure_format = 'retina' ## This is preferable for retina display. \n",
    "\n",
    "import warnings ## importing warnings library. \n",
    "warnings.filterwarnings('ignore') ## Ignore warning\n",
    "\n",
    "\n",
    "\n",
    "import os ## imporing os\n",
    "print(os.listdir(\"../input/\"))"
   ]
  },
  {
   "cell_type": "markdown",
   "metadata": {
    "_cell_guid": "bd41125b-6dd4-41d9-8905-31edc812d18e",
    "_uuid": "82ccd43cc8449346749bf8a35e1acb9a40e3b141",
    "application/vnd.databricks.v1+cell": {
     "cellMetadata": {},
     "inputWidgets": {},
     "nuid": "47d32211-ffc7-4a6b-856f-31351e322236",
     "showTitle": false,
     "title": ""
    }
   },
   "source": [
    "## 1b. Loading Datasets\n",
    "<a id=\"load_data\"></a>\n",
    "***"
   ]
  },
  {
   "cell_type": "markdown",
   "metadata": {
    "_uuid": "30b23f046eef6d19c26e6ad967cef914cf312791",
    "application/vnd.databricks.v1+cell": {
     "cellMetadata": {},
     "inputWidgets": {},
     "nuid": "e133cefa-3f89-405b-ac66-f2fdee2ee7a3",
     "showTitle": false,
     "title": ""
    }
   },
   "source": [
    "After loading the necessary modules, we need to import the datasets. Many of the business problems usually come with a tremendous amount of messy data. We extract those data from many sources. I am hoping to write about that in a different kernel. For now, we are going to work with a less complicated and quite popular machine learning dataset."
   ]
  },
  {
   "cell_type": "code",
   "execution_count": 0,
   "metadata": {
    "_cell_guid": "28722a45-5f11-4629-8814-9ab913e9349a",
    "_kg_hide-input": false,
    "_uuid": "185b34e70f2efded0c665c6713f79b840ddf0c89",
    "application/vnd.databricks.v1+cell": {
     "cellMetadata": {},
     "inputWidgets": {},
     "nuid": "7dfa3b9b-bf60-4908-a28e-521c451685c0",
     "showTitle": false,
     "title": ""
    },
    "execution": {
     "iopub.execute_input": "2021-06-26T16:35:04.910168Z",
     "iopub.status.busy": "2021-06-26T16:35:04.909538Z",
     "iopub.status.idle": "2021-06-26T16:35:04.930876Z",
     "shell.execute_reply": "2021-06-26T16:35:04.930259Z",
     "shell.execute_reply.started": "2021-06-26T16:35:04.91012Z"
    }
   },
   "outputs": [],
   "source": [
    "## Importing the datasets\n",
    "train = pd.read_csv(\"../input/titanic/train.csv\")\n",
    "test = pd.read_csv(\"../input/titanic/test.csv\")"
   ]
  },
  {
   "cell_type": "markdown",
   "metadata": {
    "_uuid": "d55ae33391486797b979ef1117e8d8401ac1dab4",
    "application/vnd.databricks.v1+cell": {
     "cellMetadata": {},
     "inputWidgets": {},
     "nuid": "9afe3d1d-ec20-49dd-8699-b5bcc8eaddc8",
     "showTitle": false,
     "title": ""
    }
   },
   "source": [
    "You are probably wondering why two datasets? Also, Why have I named it \"train\" and \"test\"?  To explain that I am going to give you an overall picture of the supervised machine learning process. \n",
    "\n",
    "\"Machine Learning\" is simply \"Machine\" and \"Learning\". Nothing more and nothing less. In a supervised machine learning process, we are giving machine/computer/models specific inputs or data(text/number/image/audio) to learn from aka we are training the machine to learn certain aspects based on the data and the output. Now, how can we determine that machine is actually learning what we are try to teach? That is where the test set comes to play. We withhold part of the data where we know the output/result of each datapoints, and we use this data to test the trained models.  We then compare the outcomes to determine the performance of the algorithms. If you are a bit confused thats okay. I will explain more as we keep reading. Let's take a look at sample datasets."
   ]
  },
  {
   "cell_type": "code",
   "execution_count": 0,
   "metadata": {
    "application/vnd.databricks.v1+cell": {
     "cellMetadata": {},
     "inputWidgets": {},
     "nuid": "c124f807-38fa-47f5-894f-5addec2caf7f",
     "showTitle": false,
     "title": ""
    }
   },
   "outputs": [],
   "source": [
    "train.head()"
   ]
  },
  {
   "cell_type": "code",
   "execution_count": 0,
   "metadata": {
    "application/vnd.databricks.v1+cell": {
     "cellMetadata": {},
     "inputWidgets": {},
     "nuid": "58ec4ad0-0de7-4ae0-915a-5cd179d75beb",
     "showTitle": false,
     "title": ""
    }
   },
   "outputs": [],
   "source": [
    "temp = train.groupby(\"Sex\")['Age'].min().to_frame().reset_index()"
   ]
  },
  {
   "cell_type": "code",
   "execution_count": 0,
   "metadata": {
    "application/vnd.databricks.v1+cell": {
     "cellMetadata": {},
     "inputWidgets": {},
     "nuid": "78f3cbf2-c4c6-4aae-990f-1eeb85c8f7a3",
     "showTitle": false,
     "title": ""
    }
   },
   "outputs": [],
   "source": [
    "temp"
   ]
  },
  {
   "cell_type": "code",
   "execution_count": 0,
   "metadata": {
    "application/vnd.databricks.v1+cell": {
     "cellMetadata": {},
     "inputWidgets": {},
     "nuid": "0eed7fa1-a152-4fad-a21c-0b129cea3611",
     "showTitle": false,
     "title": ""
    }
   },
   "outputs": [],
   "source": [
    "temp = temp.rename(columns={\"Age\": \"min_age\"})"
   ]
  },
  {
   "cell_type": "code",
   "execution_count": 0,
   "metadata": {
    "application/vnd.databricks.v1+cell": {
     "cellMetadata": {},
     "inputWidgets": {},
     "nuid": "5daf3b8e-386f-44ad-97b8-92f54569600f",
     "showTitle": false,
     "title": ""
    }
   },
   "outputs": [],
   "source": [
    "temp"
   ]
  },
  {
   "cell_type": "code",
   "execution_count": 0,
   "metadata": {
    "application/vnd.databricks.v1+cell": {
     "cellMetadata": {},
     "inputWidgets": {},
     "nuid": "09543853-f48f-4b91-811e-40d637daff88",
     "showTitle": false,
     "title": ""
    }
   },
   "outputs": [],
   "source": [
    "train.head()"
   ]
  },
  {
   "cell_type": "code",
   "execution_count": 0,
   "metadata": {
    "application/vnd.databricks.v1+cell": {
     "cellMetadata": {},
     "inputWidgets": {},
     "nuid": "39f0cfdc-700d-4e40-86a0-406019ae1b3e",
     "showTitle": false,
     "title": ""
    }
   },
   "outputs": [],
   "source": [
    "train.dtypes"
   ]
  },
  {
   "cell_type": "markdown",
   "metadata": {
    "_cell_guid": "c87c72ba-c9b2-48e9-86d8-c711d0795ca0",
    "_uuid": "5759d720798ca115cc5d3d2f75be6961d1455832",
    "application/vnd.databricks.v1+cell": {
     "cellMetadata": {},
     "inputWidgets": {},
     "nuid": "a4b90bcb-b98a-4083-8c71-78197e87cc16",
     "showTitle": false,
     "title": ""
    }
   },
   "source": [
    "## 1c. A Glimpse of the Datasets. \n",
    "<a id=\"glimpse\"></a>\n",
    "***"
   ]
  },
  {
   "cell_type": "markdown",
   "metadata": {
    "application/vnd.databricks.v1+cell": {
     "cellMetadata": {},
     "inputWidgets": {},
     "nuid": "dc6d260f-5356-4b27-8fb4-ec7213055bf7",
     "showTitle": false,
     "title": ""
    }
   },
   "source": [
    "# Train Set"
   ]
  },
  {
   "cell_type": "code",
   "execution_count": 0,
   "metadata": {
    "application/vnd.databricks.v1+cell": {
     "cellMetadata": {},
     "inputWidgets": {},
     "nuid": "99f6e494-3007-4bca-85a6-1d906eb93dd9",
     "showTitle": false,
     "title": ""
    },
    "execution": {
     "iopub.execute_input": "2021-06-26T16:35:04.932322Z",
     "iopub.status.busy": "2021-06-26T16:35:04.932015Z",
     "iopub.status.idle": "2021-06-26T16:35:04.958015Z",
     "shell.execute_reply": "2021-06-26T16:35:04.957084Z",
     "shell.execute_reply.started": "2021-06-26T16:35:04.932234Z"
    }
   },
   "outputs": [],
   "source": [
    "%%time\n",
    "train.sample(5)"
   ]
  },
  {
   "cell_type": "markdown",
   "metadata": {
    "_cell_guid": "ab439b32-e251-489a-89fd-cfcd61b236bf",
    "_uuid": "69b24241db4d4eae9e46711c384d8130f6fa8322",
    "application/vnd.databricks.v1+cell": {
     "cellMetadata": {},
     "inputWidgets": {},
     "nuid": "7694d795-e140-4b8b-bd24-e9ca7f2928cd",
     "showTitle": false,
     "title": ""
    }
   },
   "source": [
    "# Test Set"
   ]
  },
  {
   "cell_type": "code",
   "execution_count": 0,
   "metadata": {
    "_cell_guid": "0f0649fa-b003-403f-9d7c-d2d14a6cf068",
    "_kg_hide-input": true,
    "_uuid": "877b2fc905cd60e3f9a525b6fedad9a5c0a671e5",
    "application/vnd.databricks.v1+cell": {
     "cellMetadata": {},
     "inputWidgets": {},
     "nuid": "8e8e85ad-7c58-46fb-bdbd-9ac61608bf79",
     "showTitle": false,
     "title": ""
    },
    "execution": {
     "iopub.execute_input": "2021-06-26T16:35:04.960536Z",
     "iopub.status.busy": "2021-06-26T16:35:04.960114Z",
     "iopub.status.idle": "2021-06-26T16:35:08.927166Z",
     "shell.execute_reply": "2021-06-26T16:35:08.926315Z",
     "shell.execute_reply.started": "2021-06-26T16:35:04.960357Z"
    }
   },
   "outputs": [],
   "source": [
    "## Take a look at the overview of the dataset. \n",
    "%timeit test.sample(5)"
   ]
  },
  {
   "cell_type": "markdown",
   "metadata": {
    "_uuid": "5f7426639cf97db92e4ca85a13e89c8394f6aa7c",
    "application/vnd.databricks.v1+cell": {
     "cellMetadata": {},
     "inputWidgets": {},
     "nuid": "cfc3dcba-d931-4afe-bd54-2137d8d82580",
     "showTitle": false,
     "title": ""
    }
   },
   "source": [
    "This is a sample of train and test dataset. Lets find out a bit more about the train and test dataset."
   ]
  },
  {
   "cell_type": "code",
   "execution_count": 0,
   "metadata": {
    "_kg_hide-input": true,
    "_uuid": "1258a94388599a131fe08cd6e05205b15d53df66",
    "application/vnd.databricks.v1+cell": {
     "cellMetadata": {},
     "inputWidgets": {},
     "nuid": "eff2274e-a5f1-4db1-b76e-270892269877",
     "showTitle": false,
     "title": ""
    },
    "execution": {
     "iopub.execute_input": "2021-06-26T16:35:08.929903Z",
     "iopub.status.busy": "2021-06-26T16:35:08.929444Z",
     "iopub.status.idle": "2021-06-26T16:35:08.945917Z",
     "shell.execute_reply": "2021-06-26T16:35:08.945011Z",
     "shell.execute_reply.started": "2021-06-26T16:35:08.92985Z"
    }
   },
   "outputs": [],
   "source": [
    "print (\"The shape of the train data is (row, column):\"+ str(train.shape))\n",
    "print (train.info())\n",
    "print (\"The shape of the test data is (row, column):\"+ str(test.shape))\n",
    "print (test.info())"
   ]
  },
  {
   "cell_type": "markdown",
   "metadata": {
    "_cell_guid": "15c64d36-94b3-4798-af86-775f70feb2dd",
    "_uuid": "c72d21139ee6220aee5d8f654561864a5f6499b7",
    "application/vnd.databricks.v1+cell": {
     "cellMetadata": {},
     "inputWidgets": {},
     "nuid": "2d1ee748-da1a-4ac2-b3fa-026d4d597b56",
     "showTitle": false,
     "title": ""
    }
   },
   "source": [
    "## 1d. About This Dataset\n",
    "<a id=\"aboutthisdataset\"></a>\n",
    "***\n",
    "The data has split into two groups:\n",
    "\n",
    "- training set (train.csv)\n",
    "- test set (test.csv)\n",
    "\n",
    "***The training set includes our target variable(dependent variable), passenger survival status***(also known as the ground truth from the Titanic tragedy) along with other independent features like gender, class, fare, and Pclass. \n",
    "\n",
    "The test set should be used to see how well our model performs on unseen data. When we say unseen data, we mean that the algorithm or machine learning models have no relation to the test data. We do not want to use any part of the test data in any way to modify our algorithms; Which are the reasons why we clean our test data and train data separately. ***The test set does not provide passengers survival status***. We are going to use our model to predict passenger survival status.\n",
    "\n",
    "Now let's go through the features and describe a little. There is a couple of different type of variables, They are...\n",
    "\n",
    "***\n",
    "**Categorical:**\n",
    "- **Nominal**(variables that have two or more categories, but which do not have an intrinsic order.)\n",
    "   > - **Cabin**\n",
    "   > - **Embarked**(Port of Embarkation)\n",
    "            C(Cherbourg)\n",
    "            Q(Queenstown) \n",
    "            S(Southampton)\n",
    "        \n",
    "- **Dichotomous**(Nominal variable with only two categories)\n",
    "   > - **Sex**\n",
    "            Female\n",
    "            Male\n",
    "- **Ordinal**(variables that have two or more categories just like nominal variables. Only the categories can also be ordered or ranked.)\n",
    "   > - **Pclass** (A proxy for socio-economic status (SES)) \n",
    "            1(Upper)\n",
    "            2(Middle) \n",
    "            3(Lower)\n",
    "***\n",
    "**Numeric:**\n",
    "- **Discrete**\n",
    "  >  - **Passenger ID**(Unique identifing # for each passenger)\n",
    "  >  - **SibSp**\n",
    "  >  - **Parch**\n",
    "  >  - **Survived** (Our outcome or dependent variable)\n",
    "            0\n",
    "            1\n",
    "- **Continous**\n",
    ">  - **Age**\n",
    ">  - **Fare**\n",
    "***\n",
    "**Text Variable**\n",
    "> - **Ticket** (Ticket number for passenger.)\n",
    "> - **Name**(  Name of the passenger.)"
   ]
  },
  {
   "cell_type": "markdown",
   "metadata": {
    "_cell_guid": "7b21d695-c767-48ad-a3c8-abb9bba56e71",
    "_uuid": "53fdd02b149e47bd7168dba94ddff754626b1781",
    "application/vnd.databricks.v1+cell": {
     "cellMetadata": {},
     "inputWidgets": {},
     "nuid": "df477028-841f-4f9b-80a1-b73630d3f447",
     "showTitle": false,
     "title": ""
    }
   },
   "source": [
    "## 1e. Tableau Visualization of the Data\n",
    "<a id='tableau_visualization'></a>\n",
    "***\n",
    "I have incorporated a tableau visualization below of the training data. This visualization... \n",
    "* is for us to have an overview and play around with the dataset. \n",
    "* is done without making any changes(including Null values) to any features of the dataset.\n",
    "***\n",
    "Let's get a better perspective of the dataset through this visualization."
   ]
  },
  {
   "cell_type": "code",
   "execution_count": 0,
   "metadata": {
    "_cell_guid": "0ca9339e-4d13-4eb6-b28b-4a9e614ca2d0",
    "_kg_hide-input": true,
    "_uuid": "bc9819aecc9adceb1fa3fe151388fd41f5dcece2",
    "application/vnd.databricks.v1+cell": {
     "cellMetadata": {},
     "inputWidgets": {},
     "nuid": "7486c513-5126-4a96-b984-9669c60cc899",
     "showTitle": false,
     "title": ""
    },
    "execution": {
     "iopub.execute_input": "2021-06-26T16:35:08.947896Z",
     "iopub.status.busy": "2021-06-26T16:35:08.947379Z",
     "iopub.status.idle": "2021-06-26T16:35:08.954197Z",
     "shell.execute_reply": "2021-06-26T16:35:08.953477Z",
     "shell.execute_reply.started": "2021-06-26T16:35:08.947651Z"
    }
   },
   "outputs": [],
   "source": [
    "%%HTML\n",
    "<div class='tableauPlaceholder' id='viz1516349898238' style='position: relative'><noscript><a href='#'><img alt='An Overview of Titanic Training Dataset ' src='https:&#47;&#47;public.tableau.com&#47;static&#47;images&#47;Ti&#47;Titanic_data_mining&#47;Dashboard1&#47;1_rss.png' style='border: none' /></a></noscript><object class='tableauViz'  style='display:none;'><param name='host_url' value='https%3A%2F%2Fpublic.tableau.com%2F' /> <param name='embed_code_version' value='3' /> <param name='site_root' value='' /><param name='name' value='Titanic_data_mining&#47;Dashboard1' /><param name='tabs' value='no' /><param name='toolbar' value='yes' /><param name='static_image' value='https:&#47;&#47;public.tableau.com&#47;static&#47;images&#47;Ti&#47;Titanic_data_mining&#47;Dashboard1&#47;1.png' /> <param name='animate_transition' value='yes' /><param name='display_static_image' value='yes' /><param name='display_spinner' value='yes' /><param name='display_overlay' value='yes' /><param name='display_count' value='yes' /><param name='filter' value='publish=yes' /></object></div>                <script type='text/javascript'>                    var divElement = document.getElementById('viz1516349898238');                    var vizElement = divElement.getElementsByTagName('object')[0];                    vizElement.style.width='100%';vizElement.style.height=(divElement.offsetWidth*0.75)+'px';                    var scriptElement = document.createElement('script');                    scriptElement.src = 'https://public.tableau.com/javascripts/api/viz_v1.js';                    vizElement.parentNode.insertBefore(scriptElement, vizElement);                </script>"
   ]
  },
  {
   "cell_type": "markdown",
   "metadata": {
    "_cell_guid": "2b6ce9bc-8210-433d-ab4b-d8afe93c3810",
    "_uuid": "b46be01bb1ba3ff4f23c72038679542ba3f780de",
    "application/vnd.databricks.v1+cell": {
     "cellMetadata": {},
     "inputWidgets": {},
     "nuid": "5f898ce9-778e-4a9e-b407-d0c6df9869b4",
     "showTitle": false,
     "title": ""
    }
   },
   "source": [
    "We want to see how the left vertical bar changes when we filter out unique values of certain features. We can use multiple filters to see if there are any correlations among them. For example, if we click on **upper** and **Female** tab, we would see that green color dominates the bar with a ratio of 91:3 survived and non survived female passengers; a 97% survival rate for females. We can reset the filters by clicking anywhere in the whilte space. The age distribution chart on top provides us with some more info such as, what was the age range of those three unlucky females as the red color give away the unsurvived once. If you would like to check out some of my other tableau charts, please click [here.](https://public.tableau.com/profile/masum.rumi#!/)"
   ]
  },
  {
   "cell_type": "markdown",
   "metadata": {
    "_cell_guid": "24dfbb58-4708-42a1-9122-c7e0b96ad0e9",
    "_uuid": "e789474652ddf03c65e7bb8f17f69544b907cecb",
    "application/vnd.databricks.v1+cell": {
     "cellMetadata": {},
     "inputWidgets": {},
     "nuid": "3f8914f2-5553-4039-bcfd-b15cf44947d4",
     "showTitle": false,
     "title": ""
    }
   },
   "source": [
    "# Part 2: Overview and Cleaning the Data\n",
    "<a id=\"cleaningthedata\"></a>\n",
    "***\n",
    "## 2a. Overview"
   ]
  },
  {
   "cell_type": "markdown",
   "metadata": {
    "_cell_guid": "359e6e3e-3a27-45aa-b6cf-ec18b8220eae",
    "_uuid": "f0ec8e9300f40427a2a53f9c3e3f92e120ce786b",
    "application/vnd.databricks.v1+cell": {
     "cellMetadata": {},
     "inputWidgets": {},
     "nuid": "2124c124-93fc-45a7-9a19-55aa75475f8d",
     "showTitle": false,
     "title": ""
    }
   },
   "source": [
    "Datasets in the real world are often messy, However, this dataset is almost clean. Lets analyze and see what we have here."
   ]
  },
  {
   "cell_type": "code",
   "execution_count": 0,
   "metadata": {
    "_cell_guid": "bf19c831-fbe0-49b6-8bf8-d7db118f40b1",
    "_kg_hide-input": true,
    "_uuid": "5a0593fb4564f0284ca7fdf5c006020cb288db95",
    "application/vnd.databricks.v1+cell": {
     "cellMetadata": {},
     "inputWidgets": {},
     "nuid": "a89df8f3-8615-4f03-9d2f-4fcf9ad3a4a7",
     "showTitle": false,
     "title": ""
    },
    "execution": {
     "iopub.execute_input": "2021-06-26T16:35:08.956119Z",
     "iopub.status.busy": "2021-06-26T16:35:08.955538Z",
     "iopub.status.idle": "2021-06-26T16:35:08.973222Z",
     "shell.execute_reply": "2021-06-26T16:35:08.972151Z",
     "shell.execute_reply.started": "2021-06-26T16:35:08.956072Z"
    }
   },
   "outputs": [],
   "source": [
    "## saving passenger id in advance in order to submit later. \n",
    "passengerid = test.PassengerId\n",
    "## We will drop PassengerID and Ticket since it will be useless for our data. \n",
    "#train.drop(['PassengerId'], axis=1, inplace=True)\n",
    "#test.drop(['PassengerId'], axis=1, inplace=True)\n",
    "\n",
    "print (train.info())\n",
    "print (\"*\"*40)\n",
    "print (test.info())"
   ]
  },
  {
   "cell_type": "markdown",
   "metadata": {
    "_cell_guid": "f9b2f56f-e95c-478d-aa49-3f6cb277830f",
    "_uuid": "b5accab7fc7471fea224dcae81683b9f3c0f617b",
    "application/vnd.databricks.v1+cell": {
     "cellMetadata": {},
     "inputWidgets": {},
     "nuid": "4c17321b-29ea-40eb-ae64-a1f85921abb5",
     "showTitle": false,
     "title": ""
    }
   },
   "source": [
    "It looks like, the features have unequal amount of data entries for every column and they have many different types of variables. This can happen for the following reasons...\n",
    "* We may have missing values in our features.\n",
    "* We may have categorical features. \n",
    "* We may have alphanumerical or/and text features."
   ]
  },
  {
   "cell_type": "markdown",
   "metadata": {
    "_cell_guid": "9912539a-12b5-4739-bc2c-e1cecf758dca",
    "_uuid": "6105e90cd8f0e8d49ae188edad65414678a7be23",
    "application/vnd.databricks.v1+cell": {
     "cellMetadata": {},
     "inputWidgets": {},
     "nuid": "a4fe5523-e0b4-4d27-9741-b7490b5ca975",
     "showTitle": false,
     "title": ""
    }
   },
   "source": [
    "## 2b. Dealing with Missing values\n",
    "<a id=\"dealwithnullvalues\"></a>\n",
    "***\n",
    "**Missing values in *train* dataset.**"
   ]
  },
  {
   "cell_type": "code",
   "execution_count": 0,
   "metadata": {
    "_kg_hide-input": true,
    "application/vnd.databricks.v1+cell": {
     "cellMetadata": {},
     "inputWidgets": {},
     "nuid": "8b5670f6-8457-48c4-ab0f-0af1695cd2de",
     "showTitle": false,
     "title": ""
    },
    "execution": {
     "iopub.execute_input": "2021-06-26T16:35:08.975451Z",
     "iopub.status.busy": "2021-06-26T16:35:08.974927Z",
     "iopub.status.idle": "2021-06-26T16:35:08.98326Z",
     "shell.execute_reply": "2021-06-26T16:35:08.982644Z",
     "shell.execute_reply.started": "2021-06-26T16:35:08.975205Z"
    }
   },
   "outputs": [],
   "source": [
    "# Let's write a functin to print the total percentage of the missing values.(this can be a good exercise for beginners to try to write simple functions like this.)\n",
    "def missing_percentage(df):\n",
    "    \"\"\"This function takes a DataFrame(df) as input and returns two columns, total missing values and total missing values percentage\"\"\"\n",
    "    total = df.isnull().sum().sort_values(ascending = False)\n",
    "    percent = round(df.isnull().sum().sort_values(ascending = False)/len(df)*100,2)\n",
    "    return pd.concat([total, percent], axis=1, keys=['Total','Percent'])"
   ]
  },
  {
   "cell_type": "code",
   "execution_count": 0,
   "metadata": {
    "_kg_hide-input": true,
    "application/vnd.databricks.v1+cell": {
     "cellMetadata": {},
     "inputWidgets": {},
     "nuid": "07e1df86-c19e-4b57-b175-14fbeb3bb0de",
     "showTitle": false,
     "title": ""
    },
    "execution": {
     "iopub.execute_input": "2021-06-26T16:35:08.985334Z",
     "iopub.status.busy": "2021-06-26T16:35:08.984844Z",
     "iopub.status.idle": "2021-06-26T16:35:09.090701Z",
     "shell.execute_reply": "2021-06-26T16:35:09.090116Z",
     "shell.execute_reply.started": "2021-06-26T16:35:08.985168Z"
    }
   },
   "outputs": [],
   "source": [
    "%timeit -r2 -n10 missing_percentage(train) # setting the number of runs(-r) and/or loops (-n)"
   ]
  },
  {
   "cell_type": "code",
   "execution_count": 0,
   "metadata": {
    "application/vnd.databricks.v1+cell": {
     "cellMetadata": {},
     "inputWidgets": {},
     "nuid": "a33842bd-ea3a-4237-95ed-84f20fb20cc3",
     "showTitle": false,
     "title": ""
    },
    "execution": {
     "iopub.execute_input": "2021-06-26T16:35:09.092256Z",
     "iopub.status.busy": "2021-06-26T16:35:09.09199Z",
     "iopub.status.idle": "2021-06-26T16:35:09.108063Z",
     "shell.execute_reply": "2021-06-26T16:35:09.107054Z",
     "shell.execute_reply.started": "2021-06-26T16:35:09.092212Z"
    }
   },
   "outputs": [],
   "source": [
    "missing_percentage(train)"
   ]
  },
  {
   "cell_type": "markdown",
   "metadata": {
    "_cell_guid": "6e1b2b57-78b9-4021-bc53-a7681b63f97c",
    "_uuid": "197487867c9d099548c7d009c4a80418927be07c",
    "application/vnd.databricks.v1+cell": {
     "cellMetadata": {},
     "inputWidgets": {},
     "nuid": "314f570f-d904-42c7-a928-b2a08a981c53",
     "showTitle": false,
     "title": ""
    }
   },
   "source": [
    "**Missing values in *test* set.**"
   ]
  },
  {
   "cell_type": "code",
   "execution_count": 0,
   "metadata": {
    "application/vnd.databricks.v1+cell": {
     "cellMetadata": {},
     "inputWidgets": {},
     "nuid": "f159c6e9-6ded-44ec-8f38-7596223512ef",
     "showTitle": false,
     "title": ""
    },
    "execution": {
     "iopub.execute_input": "2021-06-26T16:35:09.110118Z",
     "iopub.status.busy": "2021-06-26T16:35:09.109653Z",
     "iopub.status.idle": "2021-06-26T16:35:09.206762Z",
     "shell.execute_reply": "2021-06-26T16:35:09.205452Z",
     "shell.execute_reply.started": "2021-06-26T16:35:09.10993Z"
    }
   },
   "outputs": [],
   "source": [
    "%%timeit -r2 -n10 \n",
    "missing_percentage(test)"
   ]
  },
  {
   "cell_type": "code",
   "execution_count": 0,
   "metadata": {
    "_cell_guid": "073ef91b-e401-47a1-9b0a-d08ad710abce",
    "_kg_hide-input": true,
    "_uuid": "1ec1de271f57c9435ce111261ba08c5d6e34dbcb",
    "application/vnd.databricks.v1+cell": {
     "cellMetadata": {},
     "inputWidgets": {},
     "nuid": "63066bbd-bf12-459c-b667-32167598e2c7",
     "showTitle": false,
     "title": ""
    },
    "execution": {
     "iopub.execute_input": "2021-06-26T16:35:09.208229Z",
     "iopub.status.busy": "2021-06-26T16:35:09.207968Z",
     "iopub.status.idle": "2021-06-26T16:35:09.221423Z",
     "shell.execute_reply": "2021-06-26T16:35:09.220732Z",
     "shell.execute_reply.started": "2021-06-26T16:35:09.208186Z"
    }
   },
   "outputs": [],
   "source": [
    "missing_percentage(test)"
   ]
  },
  {
   "cell_type": "markdown",
   "metadata": {
    "_cell_guid": "0217a17b-8017-4221-a664-dbbc42f7a5eb",
    "_uuid": "2051377dfc36cbeb9fda78cb02d5bd3a00ee2457",
    "application/vnd.databricks.v1+cell": {
     "cellMetadata": {},
     "inputWidgets": {},
     "nuid": "9a675b4f-f41c-4bd1-bf7a-80ac995c50c2",
     "showTitle": false,
     "title": ""
    }
   },
   "source": [
    "We see that in both **train**, and **test** dataset have missing values. Let's make an effort to fill these missing values starting with \"Embarked\" feature."
   ]
  },
  {
   "cell_type": "markdown",
   "metadata": {
    "_cell_guid": "aaf73f0b-ec84-4da1-b424-0170691c50c8",
    "_uuid": "84d3c45c3a59e16ac2c887d6effe71434b2659ef",
    "application/vnd.databricks.v1+cell": {
     "cellMetadata": {},
     "inputWidgets": {},
     "nuid": "896ed09d-3ec6-4092-8d8f-4bf8aa37576c",
     "showTitle": false,
     "title": ""
    }
   },
   "source": [
    "### Embarked feature\n",
    "***"
   ]
  },
  {
   "cell_type": "code",
   "execution_count": 0,
   "metadata": {
    "_kg_hide-input": true,
    "application/vnd.databricks.v1+cell": {
     "cellMetadata": {},
     "inputWidgets": {},
     "nuid": "463ee81d-30c4-484f-9128-51baf1756d67",
     "showTitle": false,
     "title": ""
    },
    "execution": {
     "iopub.execute_input": "2021-06-26T16:35:09.223175Z",
     "iopub.status.busy": "2021-06-26T16:35:09.222681Z",
     "iopub.status.idle": "2021-06-26T16:35:09.230671Z",
     "shell.execute_reply": "2021-06-26T16:35:09.229793Z",
     "shell.execute_reply.started": "2021-06-26T16:35:09.223128Z"
    }
   },
   "outputs": [],
   "source": [
    "def percent_value_counts(df, feature):\n",
    "    \"\"\"This function takes in a dataframe and a column and finds the percentage of the value_counts\"\"\"\n",
    "    percent = pd.DataFrame(round(df.loc[:,feature].value_counts(dropna=False, normalize=True)*100,2))\n",
    "    ## creating a df with th\n",
    "    total = pd.DataFrame(df.loc[:,feature].value_counts(dropna=False))\n",
    "    ## concating percent and total dataframe\n",
    "\n",
    "    total.columns = [\"Total\"]\n",
    "    percent.columns = ['Percent']\n",
    "    return pd.concat([total, percent], axis = 1)\n",
    "    "
   ]
  },
  {
   "cell_type": "code",
   "execution_count": 0,
   "metadata": {
    "_kg_hide-input": true,
    "application/vnd.databricks.v1+cell": {
     "cellMetadata": {},
     "inputWidgets": {},
     "nuid": "67ddf0d7-78f5-42b3-be6f-99964c35da52",
     "showTitle": false,
     "title": ""
    },
    "execution": {
     "iopub.execute_input": "2021-06-26T16:35:09.236974Z",
     "iopub.status.busy": "2021-06-26T16:35:09.236548Z",
     "iopub.status.idle": "2021-06-26T16:35:09.254321Z",
     "shell.execute_reply": "2021-06-26T16:35:09.253654Z",
     "shell.execute_reply.started": "2021-06-26T16:35:09.236929Z"
    }
   },
   "outputs": [],
   "source": [
    "percent_value_counts(train, 'Embarked')"
   ]
  },
  {
   "cell_type": "code",
   "execution_count": 0,
   "metadata": {
    "application/vnd.databricks.v1+cell": {
     "cellMetadata": {},
     "inputWidgets": {},
     "nuid": "5ce56d4e-69af-44c7-9056-b4ce26beb9d6",
     "showTitle": false,
     "title": ""
    },
    "execution": {
     "iopub.execute_input": "2021-06-26T16:35:09.259474Z",
     "iopub.status.busy": "2021-06-26T16:35:09.259268Z",
     "iopub.status.idle": "2021-06-26T16:35:09.274228Z",
     "shell.execute_reply": "2021-06-26T16:35:09.27333Z",
     "shell.execute_reply.started": "2021-06-26T16:35:09.259433Z"
    }
   },
   "outputs": [],
   "source": [
    "percent_value_counts(train, 'Embarked')"
   ]
  },
  {
   "cell_type": "markdown",
   "metadata": {
    "_cell_guid": "826ae31d-4bd0-45f6-8c05-8b5d12d41144",
    "_uuid": "174873ebdb2cd6c23777d464103afa26c0183ab2",
    "application/vnd.databricks.v1+cell": {
     "cellMetadata": {},
     "inputWidgets": {},
     "nuid": "0ed6b477-2294-4b7c-8241-d7d007dd9a24",
     "showTitle": false,
     "title": ""
    }
   },
   "source": [
    "It looks like there are only two null values( ~ 0.22 %) in the Embarked feature, we can replace these with the mode value \"S\". However, let's dig a little deeper. \n",
    "\n",
    "**Let's see what are those two null values**"
   ]
  },
  {
   "cell_type": "code",
   "execution_count": 0,
   "metadata": {
    "_cell_guid": "000ebdd7-ff57-48d9-91bf-a29ba79f1a1c",
    "_kg_hide-input": true,
    "_uuid": "6b9cb050e9dae424bb738ba9cdf3c84715887fa3",
    "application/vnd.databricks.v1+cell": {
     "cellMetadata": {},
     "inputWidgets": {},
     "nuid": "323c13e0-2d79-4716-8224-72e2f4f37729",
     "showTitle": false,
     "title": ""
    },
    "execution": {
     "iopub.execute_input": "2021-06-26T16:35:09.276102Z",
     "iopub.status.busy": "2021-06-26T16:35:09.275649Z",
     "iopub.status.idle": "2021-06-26T16:35:09.292037Z",
     "shell.execute_reply": "2021-06-26T16:35:09.291163Z",
     "shell.execute_reply.started": "2021-06-26T16:35:09.275879Z"
    }
   },
   "outputs": [],
   "source": [
    "train[train.Embarked.isnull()]"
   ]
  },
  {
   "cell_type": "markdown",
   "metadata": {
    "_cell_guid": "306da283-fbd9-45fc-a79e-ac4a3fa7d396",
    "_uuid": "57a4016a0ff673cdf5716310d42d7f142d275132",
    "application/vnd.databricks.v1+cell": {
     "cellMetadata": {},
     "inputWidgets": {},
     "nuid": "eb262b6f-9fa8-47d8-b80a-3c4f19aaeb6e",
     "showTitle": false,
     "title": ""
    }
   },
   "source": [
    "We may be able to solve these two missing values by looking at other independent variables of the two raws. Both passengers paid a fare of $80, are of Pclass 1 and female Sex. Let's see how the **Fare** is distributed among all **Pclass** and **Embarked** feature values"
   ]
  },
  {
   "cell_type": "code",
   "execution_count": 0,
   "metadata": {
    "_cell_guid": "bf257322-0c9c-4fc5-8790-87d8c94ad28a",
    "_kg_hide-input": true,
    "_uuid": "ad15052fe6cebe37161c6e01e33a5c083dc2b558",
    "application/vnd.databricks.v1+cell": {
     "cellMetadata": {},
     "inputWidgets": {},
     "nuid": "a37ff2da-f0c9-4165-bf04-b0cf72e307c5",
     "showTitle": false,
     "title": ""
    },
    "execution": {
     "iopub.execute_input": "2021-06-26T16:35:09.293919Z",
     "iopub.status.busy": "2021-06-26T16:35:09.293564Z",
     "iopub.status.idle": "2021-06-26T16:35:09.866643Z",
     "shell.execute_reply": "2021-06-26T16:35:09.865701Z",
     "shell.execute_reply.started": "2021-06-26T16:35:09.293817Z"
    }
   },
   "outputs": [],
   "source": [
    "import seaborn as sns\n",
    "import matplotlib.pyplot as plt\n",
    "sns.set_style('darkgrid')\n",
    "fig, ax = plt.subplots(figsize=(16,12),ncols=2)\n",
    "ax1 = sns.boxplot(x=\"Embarked\", y=\"Fare\", hue=\"Pclass\", data=train, ax = ax[0]);\n",
    "ax2 = sns.boxplot(x=\"Embarked\", y=\"Fare\", hue=\"Pclass\", data=test, ax = ax[1]);\n",
    "ax1.set_title(\"Training Set\", fontsize = 18)\n",
    "ax2.set_title('Test Set',  fontsize = 18)\n",
    "\n",
    "\n",
    "# ## Fixing legends\n",
    "# leg_1 = ax1.get_legend()\n",
    "# leg_1.set_title(\"PClass\")\n",
    "# legs = leg_1.texts\n",
    "# legs[0].set_text('Upper')\n",
    "# legs[1].set_text('Middle')\n",
    "# legs[2].set_text('Lower')\n",
    "\n",
    "fig.show()"
   ]
  },
  {
   "cell_type": "markdown",
   "metadata": {
    "_cell_guid": "0e353881-a7d7-4fbf-bfd3-874479c0a650",
    "_uuid": "c8a7f8c033f571d2fc8986009765ac4a78d3b6a7",
    "application/vnd.databricks.v1+cell": {
     "cellMetadata": {},
     "inputWidgets": {},
     "nuid": "cbbef517-d4a3-44c6-9625-772f4f7b12cd",
     "showTitle": false,
     "title": ""
    }
   },
   "source": [
    "Here, in both training set and test set, the average fare closest to $80 are in the <b>C</b> Embarked values where pclass is 1. So, let's fill in the missing values as \"C\""
   ]
  },
  {
   "cell_type": "code",
   "execution_count": 0,
   "metadata": {
    "_cell_guid": "2f5f3c63-d22c-483c-a688-a5ec2a477330",
    "_kg_hide-input": true,
    "_uuid": "52e51ada5dfeb700bf775c66e9307d6d1e2233de",
    "application/vnd.databricks.v1+cell": {
     "cellMetadata": {},
     "inputWidgets": {},
     "nuid": "9affb705-da66-430d-bade-26c928d618a1",
     "showTitle": false,
     "title": ""
    },
    "execution": {
     "iopub.execute_input": "2021-06-26T16:35:09.868523Z",
     "iopub.status.busy": "2021-06-26T16:35:09.868016Z",
     "iopub.status.idle": "2021-06-26T16:35:09.874135Z",
     "shell.execute_reply": "2021-06-26T16:35:09.873022Z",
     "shell.execute_reply.started": "2021-06-26T16:35:09.868249Z"
    },
    "scrolled": true
   },
   "outputs": [],
   "source": [
    "## Replacing the null values in the Embarked column with the mode. \n",
    "train.Embarked.fillna(\"C\", inplace=True)"
   ]
  },
  {
   "cell_type": "markdown",
   "metadata": {
    "_cell_guid": "47c17b1e-9486-43da-84ad-f91014225e88",
    "_uuid": "44af808c1563671899ee498c9df12312c294277c",
    "application/vnd.databricks.v1+cell": {
     "cellMetadata": {},
     "inputWidgets": {},
     "nuid": "ffd35ec7-aa01-4503-b853-7fd9cf34e078",
     "showTitle": false,
     "title": ""
    }
   },
   "source": [
    "### Cabin Feature\n",
    "***"
   ]
  },
  {
   "cell_type": "code",
   "execution_count": 0,
   "metadata": {
    "_cell_guid": "e76cd770-b498-4444-b47a-4ac6ae63193b",
    "_kg_hide-input": true,
    "_uuid": "b809a788784e2fb443457d7ef4ca17a896bf58b4",
    "application/vnd.databricks.v1+cell": {
     "cellMetadata": {},
     "inputWidgets": {},
     "nuid": "6e834b83-c03e-4c0e-babb-d276e4d3a56d",
     "showTitle": false,
     "title": ""
    },
    "execution": {
     "iopub.execute_input": "2021-06-26T16:35:09.876171Z",
     "iopub.status.busy": "2021-06-26T16:35:09.875621Z",
     "iopub.status.idle": "2021-06-26T16:35:09.886193Z",
     "shell.execute_reply": "2021-06-26T16:35:09.885088Z",
     "shell.execute_reply.started": "2021-06-26T16:35:09.875859Z"
    },
    "scrolled": true
   },
   "outputs": [],
   "source": [
    "print(\"Train Cabin missing: \" + str(train.Cabin.isnull().sum()/len(train.Cabin)))\n",
    "print(\"Test Cabin missing: \" + str(test.Cabin.isnull().sum()/len(test.Cabin)))"
   ]
  },
  {
   "cell_type": "markdown",
   "metadata": {
    "_cell_guid": "47d450a8-0692-4403-8447-ab09d6dd0b8f",
    "_uuid": "e61d1e4613dd4f51970d504e93ae30c072ca9d98",
    "application/vnd.databricks.v1+cell": {
     "cellMetadata": {},
     "inputWidgets": {},
     "nuid": "97883f62-0731-42cf-9636-f592e8110c51",
     "showTitle": false,
     "title": ""
    }
   },
   "source": [
    "Approximately 77% of Cabin feature is missing in the training data and 78% missing on the test data. \n",
    "We have two choices, \n",
    "* we can either get rid of the whole feature, or \n",
    "* we can brainstorm a little and find an appropriate way to put them in use. For example, We may say passengers with cabin record had a higher socio-economic-status then others. We may also say passengers with cabin record were more likely to be taken into consideration when loading into the boat.\n",
    "\n",
    "Let's combine train and test data first and for now, will assign all the null values as **\"N\"**"
   ]
  },
  {
   "cell_type": "code",
   "execution_count": 0,
   "metadata": {
    "_kg_hide-input": true,
    "_uuid": "8ff7b4f88285bc65d72063d7fdf8a09a5acb62d3",
    "application/vnd.databricks.v1+cell": {
     "cellMetadata": {},
     "inputWidgets": {},
     "nuid": "bc5c95c3-513e-48b3-a58c-5b82b28ba636",
     "showTitle": false,
     "title": ""
    },
    "execution": {
     "iopub.execute_input": "2021-06-26T16:35:09.888377Z",
     "iopub.status.busy": "2021-06-26T16:35:09.88784Z",
     "iopub.status.idle": "2021-06-26T16:35:09.902296Z",
     "shell.execute_reply": "2021-06-26T16:35:09.901697Z",
     "shell.execute_reply.started": "2021-06-26T16:35:09.888114Z"
    }
   },
   "outputs": [],
   "source": [
    "## Concat train and test into a variable \"all_data\"\n",
    "survivers = train.Survived\n",
    "\n",
    "train.drop([\"Survived\"],axis=1, inplace=True)\n",
    "\n",
    "all_data = pd.concat([train,test], ignore_index=False)\n",
    "\n",
    "## Assign all the null values to N\n",
    "all_data.Cabin.fillna(\"N\", inplace=True)"
   ]
  },
  {
   "cell_type": "markdown",
   "metadata": {
    "_cell_guid": "dae4beab-8c5a-4192-a460-e9abc6f14d3e",
    "_uuid": "e2d84eff7cafdd68a471876b65e0ae866151d6d2",
    "application/vnd.databricks.v1+cell": {
     "cellMetadata": {},
     "inputWidgets": {},
     "nuid": "964e5788-e8dd-44ce-b1ab-5b078ed399ea",
     "showTitle": false,
     "title": ""
    }
   },
   "source": [
    "All the cabin names start with an English alphabet following by multiple digits. It seems like there are some passengers that had booked multiple cabin rooms in their name. This is because many of them travelled with family. However, they all seem to book under the same letter followed by different numbers. It seems like there is a significance with the letters rather than the numbers. Therefore, we can group these cabins according to the letter of the cabin name."
   ]
  },
  {
   "cell_type": "code",
   "execution_count": 0,
   "metadata": {
    "_cell_guid": "87995359-8a77-4e38-b8bb-e9b4bdeb17ed",
    "_kg_hide-input": true,
    "_uuid": "c1e9e06eb7f2a6eeb1a6d69f000217e7de7d5f25",
    "application/vnd.databricks.v1+cell": {
     "cellMetadata": {},
     "inputWidgets": {},
     "nuid": "87782113-52b9-49b1-abe5-326b478de87c",
     "showTitle": false,
     "title": ""
    },
    "execution": {
     "iopub.execute_input": "2021-06-26T16:35:09.904181Z",
     "iopub.status.busy": "2021-06-26T16:35:09.903766Z",
     "iopub.status.idle": "2021-06-26T16:35:09.909654Z",
     "shell.execute_reply": "2021-06-26T16:35:09.908573Z",
     "shell.execute_reply.started": "2021-06-26T16:35:09.904014Z"
    }
   },
   "outputs": [],
   "source": [
    "all_data.Cabin = [i[0] for i in all_data.Cabin]"
   ]
  },
  {
   "cell_type": "markdown",
   "metadata": {
    "application/vnd.databricks.v1+cell": {
     "cellMetadata": {},
     "inputWidgets": {},
     "nuid": "b8055f89-dd57-48d4-b9bc-ff1f469993bb",
     "showTitle": false,
     "title": ""
    }
   },
   "source": [
    "Now let's look at the value counts of the cabin features and see how it looks."
   ]
  },
  {
   "cell_type": "code",
   "execution_count": 0,
   "metadata": {
    "_kg_hide-input": true,
    "application/vnd.databricks.v1+cell": {
     "cellMetadata": {},
     "inputWidgets": {},
     "nuid": "94aab68d-45bc-490c-b72d-60cd5c1bc4a5",
     "showTitle": false,
     "title": ""
    },
    "execution": {
     "iopub.execute_input": "2021-06-26T16:35:09.91156Z",
     "iopub.status.busy": "2021-06-26T16:35:09.911098Z",
     "iopub.status.idle": "2021-06-26T16:35:09.928945Z",
     "shell.execute_reply": "2021-06-26T16:35:09.928025Z",
     "shell.execute_reply.started": "2021-06-26T16:35:09.911398Z"
    }
   },
   "outputs": [],
   "source": [
    "percent_value_counts(all_data, \"Cabin\")"
   ]
  },
  {
   "cell_type": "markdown",
   "metadata": {
    "_uuid": "5e8cff0316f95162cdc9c2f3da905ad49fc548ca",
    "application/vnd.databricks.v1+cell": {
     "cellMetadata": {},
     "inputWidgets": {},
     "nuid": "0c9161c3-2ab4-4d51-a42a-60d468a394aa",
     "showTitle": false,
     "title": ""
    }
   },
   "source": [
    "So, We still haven't done any effective work to replace the null values. Let's stop for a second here and think through how we can take advantage of some of the other features here.  \n",
    "* We can use the average of the fare column We can use pythons ***groupby*** function to get the mean fare of each cabin letter."
   ]
  },
  {
   "cell_type": "code",
   "execution_count": 0,
   "metadata": {
    "_kg_hide-input": true,
    "application/vnd.databricks.v1+cell": {
     "cellMetadata": {},
     "inputWidgets": {},
     "nuid": "a5fa77fa-e274-4c28-9b1a-1ec58e85dd94",
     "showTitle": false,
     "title": ""
    },
    "execution": {
     "iopub.execute_input": "2021-06-26T16:35:09.930774Z",
     "iopub.status.busy": "2021-06-26T16:35:09.930283Z",
     "iopub.status.idle": "2021-06-26T16:35:09.942122Z",
     "shell.execute_reply": "2021-06-26T16:35:09.941067Z",
     "shell.execute_reply.started": "2021-06-26T16:35:09.930532Z"
    }
   },
   "outputs": [],
   "source": [
    "all_data.groupby(\"Cabin\")['Fare'].mean().sort_values()"
   ]
  },
  {
   "cell_type": "markdown",
   "metadata": {
    "_uuid": "8605664271220cb4a17fa1aca65207681503c9dd",
    "application/vnd.databricks.v1+cell": {
     "cellMetadata": {},
     "inputWidgets": {},
     "nuid": "c5239356-de6d-4a26-bcb0-e2e92e1b6ff7",
     "showTitle": false,
     "title": ""
    }
   },
   "source": [
    "Now, these means can help us determine the unknown cabins, if we compare each unknown cabin rows with the given mean's above. Let's write a simple function so that we can give cabin names based on the means."
   ]
  },
  {
   "cell_type": "code",
   "execution_count": 0,
   "metadata": {
    "_kg_hide-input": true,
    "_uuid": "a466da29f1989fa983147faf9e63d18783468567",
    "application/vnd.databricks.v1+cell": {
     "cellMetadata": {},
     "inputWidgets": {},
     "nuid": "3b229271-ab0c-4d7c-9f2b-7a49afc38f7a",
     "showTitle": false,
     "title": ""
    },
    "execution": {
     "iopub.execute_input": "2021-06-26T16:35:09.943855Z",
     "iopub.status.busy": "2021-06-26T16:35:09.943364Z",
     "iopub.status.idle": "2021-06-26T16:35:09.952677Z",
     "shell.execute_reply": "2021-06-26T16:35:09.952057Z",
     "shell.execute_reply.started": "2021-06-26T16:35:09.943627Z"
    }
   },
   "outputs": [],
   "source": [
    "def cabin_estimator(i):\n",
    "    \"\"\"Grouping cabin feature by the first letter\"\"\"\n",
    "    a = 0\n",
    "    if i<16:\n",
    "        a = \"G\"\n",
    "    elif i>=16 and i<27:\n",
    "        a = \"F\"\n",
    "    elif i>=27 and i<38:\n",
    "        a = \"T\"\n",
    "    elif i>=38 and i<47:\n",
    "        a = \"A\"\n",
    "    elif i>= 47 and i<53:\n",
    "        a = \"E\"\n",
    "    elif i>= 53 and i<54:\n",
    "        a = \"D\"\n",
    "    elif i>=54 and i<116:\n",
    "        a = 'C'\n",
    "    else:\n",
    "        a = \"B\"\n",
    "    return a\n",
    "    "
   ]
  },
  {
   "cell_type": "markdown",
   "metadata": {
    "_uuid": "6f56c9950206a5a8f30c39ca207dc47859b8d8a0",
    "application/vnd.databricks.v1+cell": {
     "cellMetadata": {},
     "inputWidgets": {},
     "nuid": "e2cb1178-e3ff-42c1-b3b6-962163053218",
     "showTitle": false,
     "title": ""
    }
   },
   "source": [
    "Let's apply <b>cabin_estimator</b> function in each unknown cabins(cabin with <b>null</b> values). Once that is done we will separate our train and test to continue towards machine learning modeling."
   ]
  },
  {
   "cell_type": "code",
   "execution_count": 0,
   "metadata": {
    "application/vnd.databricks.v1+cell": {
     "cellMetadata": {},
     "inputWidgets": {},
     "nuid": "7cf1c3f4-b79d-44bf-944d-747c0af9ab67",
     "showTitle": false,
     "title": ""
    },
    "execution": {
     "iopub.execute_input": "2021-06-26T16:35:09.95455Z",
     "iopub.status.busy": "2021-06-26T16:35:09.954083Z",
     "iopub.status.idle": "2021-06-26T16:35:09.96302Z",
     "shell.execute_reply": "2021-06-26T16:35:09.962357Z",
     "shell.execute_reply.started": "2021-06-26T16:35:09.95437Z"
    }
   },
   "outputs": [],
   "source": [
    "with_N = all_data[all_data.Cabin == \"N\"]\n",
    "\n",
    "without_N = all_data[all_data.Cabin != \"N\"]"
   ]
  },
  {
   "cell_type": "code",
   "execution_count": 0,
   "metadata": {
    "_kg_hide-input": true,
    "_uuid": "1c646b64c6e062656e5f727d5499266f847c4832",
    "application/vnd.databricks.v1+cell": {
     "cellMetadata": {},
     "inputWidgets": {},
     "nuid": "5e360970-7b1d-4379-8e40-4439c89a80e4",
     "showTitle": false,
     "title": ""
    },
    "execution": {
     "iopub.execute_input": "2021-06-26T16:35:09.965179Z",
     "iopub.status.busy": "2021-06-26T16:35:09.96464Z",
     "iopub.status.idle": "2021-06-26T16:35:09.981536Z",
     "shell.execute_reply": "2021-06-26T16:35:09.980705Z",
     "shell.execute_reply.started": "2021-06-26T16:35:09.964885Z"
    }
   },
   "outputs": [],
   "source": [
    "##applying cabin estimator function. \n",
    "with_N['Cabin'] = with_N.Fare.apply(lambda x: cabin_estimator(x))\n",
    "\n",
    "## getting back train. \n",
    "all_data = pd.concat([with_N, without_N], axis=0)\n",
    "\n",
    "## PassengerId helps us separate train and test. \n",
    "all_data.sort_values(by = 'PassengerId', inplace=True)\n",
    "\n",
    "## Separating train and test from all_data. \n",
    "train = all_data[:891]\n",
    "\n",
    "test = all_data[891:]\n",
    "\n",
    "# adding saved target variable with train. \n",
    "train['Survived'] = survivers"
   ]
  },
  {
   "cell_type": "markdown",
   "metadata": {
    "_cell_guid": "26d918c2-3c6b-48e8-8e2b-fc4531e8c59e",
    "_uuid": "05a777057d9803235a17d79b72eefe7085ebf2e5",
    "application/vnd.databricks.v1+cell": {
     "cellMetadata": {},
     "inputWidgets": {},
     "nuid": "2d63cc1b-11de-4315-bb4f-b53cff66a910",
     "showTitle": false,
     "title": ""
    }
   },
   "source": [
    "### Fare Feature\n",
    "***\n",
    "If you have paid attention so far, you know that there is only one missing value in the fare column. Let's have it."
   ]
  },
  {
   "cell_type": "code",
   "execution_count": 0,
   "metadata": {
    "_cell_guid": "2c75f369-e781-43df-be06-32585b372a0a",
    "_kg_hide-input": true,
    "_uuid": "020cafd121f2e6cbed89265c993ef3d76566cd6b",
    "application/vnd.databricks.v1+cell": {
     "cellMetadata": {},
     "inputWidgets": {},
     "nuid": "246e7bf4-2df9-4d1d-b49b-69a5d787734d",
     "showTitle": false,
     "title": ""
    },
    "execution": {
     "iopub.execute_input": "2021-06-26T16:35:09.983259Z",
     "iopub.status.busy": "2021-06-26T16:35:09.982793Z",
     "iopub.status.idle": "2021-06-26T16:35:10.000785Z",
     "shell.execute_reply": "2021-06-26T16:35:09.999778Z",
     "shell.execute_reply.started": "2021-06-26T16:35:09.983086Z"
    }
   },
   "outputs": [],
   "source": [
    "test[test.Fare.isnull()]"
   ]
  },
  {
   "cell_type": "markdown",
   "metadata": {
    "_cell_guid": "0ffece2f-9df0-44e5-80cc-84894a8d0d45",
    "_uuid": "bce23c7620db2cde9bae8efa04b00c78819f0268",
    "application/vnd.databricks.v1+cell": {
     "cellMetadata": {},
     "inputWidgets": {},
     "nuid": "f5af81a6-1e51-405f-bf8c-b459738011f3",
     "showTitle": false,
     "title": ""
    }
   },
   "source": [
    "Here, We can take the average of the **Fare** column to fill in the NaN value. However, for the sake of learning and practicing, we will try something else. We can take the average of the values where**Pclass** is ***3***, **Sex** is ***male*** and **Embarked** is ***S***"
   ]
  },
  {
   "cell_type": "code",
   "execution_count": 0,
   "metadata": {
    "_cell_guid": "e742aa76-b6f8-4882-8bd6-aa10b96f06aa",
    "_kg_hide-input": true,
    "_uuid": "f1dc8c6c33ba7df075ee608467be2a83dc1764fd",
    "application/vnd.databricks.v1+cell": {
     "cellMetadata": {},
     "inputWidgets": {},
     "nuid": "a1601f2b-d919-434c-b524-72f59aad9811",
     "showTitle": false,
     "title": ""
    },
    "execution": {
     "iopub.execute_input": "2021-06-26T16:35:10.002749Z",
     "iopub.status.busy": "2021-06-26T16:35:10.002232Z",
     "iopub.status.idle": "2021-06-26T16:35:10.012662Z",
     "shell.execute_reply": "2021-06-26T16:35:10.011431Z",
     "shell.execute_reply.started": "2021-06-26T16:35:10.00248Z"
    }
   },
   "outputs": [],
   "source": [
    "missing_value = test[(test.Pclass == 3) & \n",
    "                     (test.Embarked == \"S\") & \n",
    "                     (test.Sex == \"male\")].Fare.mean()\n",
    "## replace the test.fare null values with test.fare mean\n",
    "test.Fare.fillna(missing_value, inplace=True)"
   ]
  },
  {
   "cell_type": "markdown",
   "metadata": {
    "_cell_guid": "3ff2fbe3-9858-4aad-9e33-e909d5128879",
    "_uuid": "e04222497a5dfd77ac07dbcacbdc10dc1732da21",
    "application/vnd.databricks.v1+cell": {
     "cellMetadata": {},
     "inputWidgets": {},
     "nuid": "08699cc4-0742-481a-8f9a-bc6536963a6d",
     "showTitle": false,
     "title": ""
    }
   },
   "source": [
    "### Age Feature\n",
    "***\n",
    "We know that the feature \"Age\" is the one with most missing values, let's see it in terms of percentage."
   ]
  },
  {
   "cell_type": "code",
   "execution_count": 0,
   "metadata": {
    "_cell_guid": "8ff25fb3-7a4a-4e06-b48f-a06b8d844917",
    "_kg_hide-input": true,
    "_uuid": "c356e8e85f53a27e44b5f28936773a289592c5eb",
    "application/vnd.databricks.v1+cell": {
     "cellMetadata": {},
     "inputWidgets": {},
     "nuid": "0535317c-6ed0-46a9-b2b7-0a22c985d421",
     "showTitle": false,
     "title": ""
    },
    "execution": {
     "iopub.execute_input": "2021-06-26T16:35:10.014347Z",
     "iopub.status.busy": "2021-06-26T16:35:10.014023Z",
     "iopub.status.idle": "2021-06-26T16:35:10.024214Z",
     "shell.execute_reply": "2021-06-26T16:35:10.023404Z",
     "shell.execute_reply.started": "2021-06-26T16:35:10.014284Z"
    }
   },
   "outputs": [],
   "source": [
    "print (\"Train age missing value: \" + str((train.Age.isnull().sum()/len(train))*100)+str(\"%\"))\n",
    "print (\"Test age missing value: \" + str((test.Age.isnull().sum()/len(test))*100)+str(\"%\"))"
   ]
  },
  {
   "cell_type": "markdown",
   "metadata": {
    "_cell_guid": "105d0bf8-dada-4499-8a41-499caf20fa81",
    "_uuid": "8678df259a8f4e7f85f92603f312e1df76a26589",
    "application/vnd.databricks.v1+cell": {
     "cellMetadata": {},
     "inputWidgets": {},
     "nuid": "8aa6df63-9c8d-4644-9624-02bba4f16bfc",
     "showTitle": false,
     "title": ""
    }
   },
   "source": [
    "We will take a different approach since **~20% data in the Age column is missing** in both train and test dataset. The age variable seems to be promising for determining survival rate. Therefore, It would be unwise to replace the missing values with median, mean or mode. We will use machine learning model Random Forest Regressor to impute missing value instead of Null value. We will keep the age column unchanged for now and work on that in the feature engineering section."
   ]
  },
  {
   "cell_type": "markdown",
   "metadata": {
    "_cell_guid": "81537f22-2c69-45f2-90d3-a2a8790cb2fd",
    "_uuid": "84518982b94e7e811bf3560a3862f06a46f1b530",
    "application/vnd.databricks.v1+cell": {
     "cellMetadata": {},
     "inputWidgets": {},
     "nuid": "013a2103-737e-4484-9f3f-9f0d9674b16b",
     "showTitle": false,
     "title": ""
    }
   },
   "source": [
    "# Part 3. Visualization and Feature Relations\n",
    "<a id=\"visualization_and_feature_relations\" ></a>\n",
    "***\n",
    "Before we dive into finding relations between independent variables and our dependent variable(survivor), let us create some assumptions about how the relations may turn-out among features.\n",
    "\n",
    "**Assumptions:**\n",
    "- Gender: More female survived than male\n",
    "- Pclass: Higher socio-economic status passenger survived more than others. \n",
    "- Age: Younger passenger survived more than other passengers. \n",
    "- Fare: Passenger with higher fare survived more that other passengers. This can be quite correlated with Pclass. \n",
    "\n",
    "\n",
    "Now, let's see how the features are related to each other by creating some visualizations."
   ]
  },
  {
   "cell_type": "markdown",
   "metadata": {
    "_cell_guid": "63420775-00e1-4650-a2f3-2ae6eebab23c",
    "_uuid": "ca8bfb1bfe4d1079635a54c8daec3399b8355749",
    "application/vnd.databricks.v1+cell": {
     "cellMetadata": {},
     "inputWidgets": {},
     "nuid": "8dba73ab-52f9-4d96-b0de-976947fafaaa",
     "showTitle": false,
     "title": ""
    }
   },
   "source": [
    "## 3a. Gender and Survived\n",
    "<a id=\"gender_and_survived\"></a>\n",
    "***"
   ]
  },
  {
   "cell_type": "code",
   "execution_count": 0,
   "metadata": {
    "_cell_guid": "78322e76-ccaa-4bb9-9cc2-7a3394ddfe8c",
    "_kg_hide-input": true,
    "_uuid": "6008755b1522e2a849b6e1ccbb7da57270293ca4",
    "application/vnd.databricks.v1+cell": {
     "cellMetadata": {},
     "inputWidgets": {},
     "nuid": "c04b67a2-bf6a-49fb-8702-63c3c80658c0",
     "showTitle": false,
     "title": ""
    },
    "execution": {
     "iopub.execute_input": "2021-06-26T16:35:10.026025Z",
     "iopub.status.busy": "2021-06-26T16:35:10.025517Z",
     "iopub.status.idle": "2021-06-26T16:35:10.265216Z",
     "shell.execute_reply": "2021-06-26T16:35:10.26434Z",
     "shell.execute_reply.started": "2021-06-26T16:35:10.025965Z"
    }
   },
   "outputs": [],
   "source": [
    "import seaborn as sns\n",
    "pal = {'male':\"green\", 'female':\"Pink\"}\n",
    "sns.set(style=\"darkgrid\")\n",
    "plt.subplots(figsize = (15,8))\n",
    "ax = sns.barplot(x = \"Sex\", \n",
    "                 y = \"Survived\", \n",
    "                 data=train, \n",
    "                 palette = pal,\n",
    "                 linewidth=5,\n",
    "                 order = ['female','male'],\n",
    "                 capsize = .05,\n",
    "\n",
    "                )\n",
    "\n",
    "plt.title(\"Survived/Non-Survived Passenger Gender Distribution\", fontsize = 25,loc = 'center', pad = 40)\n",
    "plt.ylabel(\"% of passenger survived\", fontsize = 15, )\n",
    "plt.xlabel(\"Sex\",fontsize = 15);\n",
    "\n"
   ]
  },
  {
   "cell_type": "markdown",
   "metadata": {
    "_cell_guid": "fa7cb175-3c4d-4367-8b35-d3b43fb7d07d",
    "_uuid": "ef171de53cb343da95d1ba82ebd961b1ff1756c3",
    "application/vnd.databricks.v1+cell": {
     "cellMetadata": {},
     "inputWidgets": {},
     "nuid": "f8addd98-9c34-400e-a2cb-5d010de1560b",
     "showTitle": false,
     "title": ""
    }
   },
   "source": [
    "This bar plot above shows the distribution of female and male survived. The ***x_label*** represents **Sex** feature while the ***y_label*** represents the % of **passenger survived**. This bar plot shows that ~74% female passenger survived while only ~19% male passenger survived."
   ]
  },
  {
   "cell_type": "code",
   "execution_count": 0,
   "metadata": {
    "_cell_guid": "6e303476-c1ed-49bb-8b9d-14659dd5739d",
    "_kg_hide-input": true,
    "_uuid": "163515a4c926323f7288f385795ea7b1ea545d7a",
    "application/vnd.databricks.v1+cell": {
     "cellMetadata": {},
     "inputWidgets": {},
     "nuid": "6fe42166-6c2a-468f-b403-268135d06d01",
     "showTitle": false,
     "title": ""
    },
    "execution": {
     "iopub.execute_input": "2021-06-26T16:35:10.267021Z",
     "iopub.status.busy": "2021-06-26T16:35:10.266613Z",
     "iopub.status.idle": "2021-06-26T16:35:10.438911Z",
     "shell.execute_reply": "2021-06-26T16:35:10.437974Z",
     "shell.execute_reply.started": "2021-06-26T16:35:10.266858Z"
    }
   },
   "outputs": [],
   "source": [
    "pal = {1:\"seagreen\", 0:\"gray\"}\n",
    "sns.set(style=\"darkgrid\")\n",
    "plt.subplots(figsize = (15,8))\n",
    "ax = sns.countplot(x = \"Sex\", \n",
    "                   hue=\"Survived\",\n",
    "                   data = train, \n",
    "                   linewidth=4, \n",
    "                   palette = pal\n",
    ")\n",
    "\n",
    "## Fixing title, xlabel and ylabel\n",
    "plt.title(\"Passenger Gender Distribution - Survived vs Not-survived\", fontsize = 25, pad=40)\n",
    "plt.xlabel(\"Sex\", fontsize = 15);\n",
    "plt.ylabel(\"# of Passenger Survived\", fontsize = 15)\n",
    "\n",
    "## Fixing xticks\n",
    "#labels = ['Female', 'Male']\n",
    "#plt.xticks(sorted(train.Sex.unique()), labels)\n",
    "\n",
    "## Fixing legends\n",
    "leg = ax.get_legend()\n",
    "leg.set_title(\"Survived\")\n",
    "legs = leg.texts\n",
    "legs[0].set_text(\"No\")\n",
    "legs[1].set_text(\"Yes\")\n",
    "plt.show()"
   ]
  },
  {
   "cell_type": "markdown",
   "metadata": {
    "_cell_guid": "0835c20e-f155-4bd7-8032-895d8c8042e6",
    "_uuid": "bf15a586513bdde73dfa2279b739ffca040e71e4",
    "application/vnd.databricks.v1+cell": {
     "cellMetadata": {},
     "inputWidgets": {},
     "nuid": "919e9a02-4d37-459d-9fa0-ae1644dd057d",
     "showTitle": false,
     "title": ""
    }
   },
   "source": [
    "This count plot shows the actual distribution of male and female passengers that survived and did not survive. It shows that among all the females ~ 230 survived and ~ 70 did not survive. While among male passengers ~110 survived and ~480 did not survive. \n",
    "\n",
    "**Summary**\n",
    "***\n",
    "- As we suspected, female passengers have survived at a much better rate than male passengers. \n",
    "- It seems about right since females and children were the priority."
   ]
  },
  {
   "cell_type": "markdown",
   "metadata": {
    "_cell_guid": "2daa3614-866c-48d7-a8cb-26ee8126a806",
    "_uuid": "e746a4be3c0ed3d94a7a4366a5bff565c7bc9834",
    "application/vnd.databricks.v1+cell": {
     "cellMetadata": {},
     "inputWidgets": {},
     "nuid": "a7c78ef1-0623-4113-ba2f-cac9db16ab24",
     "showTitle": false,
     "title": ""
    }
   },
   "source": [
    "## 3b. Pclass and Survived\n",
    "<a id=\"pcalss_and_survived\"></a>\n",
    "***"
   ]
  },
  {
   "cell_type": "code",
   "execution_count": 0,
   "metadata": {
    "_kg_hide-input": true,
    "application/vnd.databricks.v1+cell": {
     "cellMetadata": {},
     "inputWidgets": {},
     "nuid": "c005f9b5-dbda-4ec9-b629-3690e0306a0e",
     "showTitle": false,
     "title": ""
    },
    "execution": {
     "iopub.execute_input": "2021-06-26T16:35:10.441162Z",
     "iopub.status.busy": "2021-06-26T16:35:10.440668Z",
     "iopub.status.idle": "2021-06-26T16:35:10.62703Z",
     "shell.execute_reply": "2021-06-26T16:35:10.62605Z",
     "shell.execute_reply.started": "2021-06-26T16:35:10.440907Z"
    }
   },
   "outputs": [],
   "source": [
    "temp = train[['Pclass', 'Survived', 'PassengerId']].groupby(['Pclass', 'Survived']).count().reset_index()\n",
    "temp_df = pd.pivot_table(temp, values = 'PassengerId', index = 'Pclass',columns = 'Survived')\n",
    "names = ['No', 'Yes']\n",
    "temp_df.columns = names\n",
    "r = [0,1,2]\n",
    "totals = [i+j for i, j in zip(temp_df['No'], temp_df['Yes'])]\n",
    "No_s = [i / j * 100 for i,j in zip(temp_df['No'], totals)]\n",
    "Yes_s = [i / j * 100 for i,j in zip(temp_df['Yes'], totals)]\n",
    "## Plotting\n",
    "plt.subplots(figsize = (15,10))\n",
    "barWidth = 0.60\n",
    "names = ('Upper', 'Middle', 'Lower')\n",
    "# Create green Bars\n",
    "plt.bar(r, No_s, color='Red', edgecolor='white', width=barWidth)\n",
    "# Create orange Bars\n",
    "plt.bar(r, Yes_s, bottom=No_s, color='Green', edgecolor='white', width=barWidth)\n",
    "\n",
    " \n",
    "# Custom x axis\n",
    "plt.xticks(r, names)\n",
    "plt.xlabel(\"Pclass\")\n",
    "plt.ylabel('Percentage')\n",
    " \n",
    "# Show graphic\n",
    "plt.show()\n"
   ]
  },
  {
   "cell_type": "code",
   "execution_count": 0,
   "metadata": {
    "_cell_guid": "93a3a621-7be8-4f28-960d-939068944d3f",
    "_kg_hide-input": true,
    "_uuid": "61543e636b742647f90ea778f30a178a84e50533",
    "application/vnd.databricks.v1+cell": {
     "cellMetadata": {},
     "inputWidgets": {},
     "nuid": "ee4b7a24-21a1-48e3-98ee-a2bb98e0e8c4",
     "showTitle": false,
     "title": ""
    },
    "execution": {
     "iopub.execute_input": "2021-06-26T16:35:10.628812Z",
     "iopub.status.busy": "2021-06-26T16:35:10.628387Z",
     "iopub.status.idle": "2021-06-26T16:35:10.938152Z",
     "shell.execute_reply": "2021-06-26T16:35:10.937374Z",
     "shell.execute_reply.started": "2021-06-26T16:35:10.628643Z"
    }
   },
   "outputs": [],
   "source": [
    "plt.subplots(figsize = (15,10))\n",
    "sns.barplot(x = \"Pclass\", \n",
    "            y = \"Survived\", \n",
    "            data=train, \n",
    "            linewidth=6,\n",
    "            capsize = .05,\n",
    "            errcolor='blue',\n",
    "            errwidth = 3\n",
    "            \n",
    "\n",
    "           )\n",
    "plt.title(\"Passenger Class Distribution - Survived vs Non-Survived\", fontsize = 25, pad=40)\n",
    "plt.xlabel(\"Socio-Economic class\", fontsize = 15);\n",
    "plt.ylabel(\"% of Passenger Survived\", fontsize = 15);\n",
    "names = ['Upper', 'Middle', 'Lower']\n",
    "#val = sorted(train.Pclass.unique())\n",
    "val = [0,1,2] ## this is just a temporary trick to get the label right. \n",
    "plt.xticks(val, names);"
   ]
  },
  {
   "cell_type": "markdown",
   "metadata": {
    "_cell_guid": "e2c5ce9f-9759-43b6-b286-ec771a5a64c1",
    "_uuid": "6faf3d5f770c23febb20cdc81cc079ed37d59959",
    "application/vnd.databricks.v1+cell": {
     "cellMetadata": {},
     "inputWidgets": {},
     "nuid": "ac382bfb-85a2-4ba2-b414-8aac1e381cc2",
     "showTitle": false,
     "title": ""
    }
   },
   "source": [
    "- It looks like ...\n",
    "    - ~ 63% first class passenger survived titanic tragedy, while \n",
    "    - ~ 48% second class and \n",
    "    - ~ only  24% third class passenger survived."
   ]
  },
  {
   "cell_type": "code",
   "execution_count": 0,
   "metadata": {
    "_cell_guid": "f6eba487-9c63-4cd8-908a-393e2c277e45",
    "_kg_hide-input": true,
    "_uuid": "10867e6cb57231ae599406d827ba5e3f13ccb088",
    "application/vnd.databricks.v1+cell": {
     "cellMetadata": {},
     "inputWidgets": {},
     "nuid": "c3863272-94ce-4212-a95a-5fdc904099da",
     "showTitle": false,
     "title": ""
    },
    "execution": {
     "iopub.execute_input": "2021-06-26T16:35:10.939885Z",
     "iopub.status.busy": "2021-06-26T16:35:10.939421Z",
     "iopub.status.idle": "2021-06-26T16:35:11.16284Z",
     "shell.execute_reply": "2021-06-26T16:35:11.161997Z",
     "shell.execute_reply.started": "2021-06-26T16:35:10.939834Z"
    }
   },
   "outputs": [],
   "source": [
    "# Kernel Density Plot\n",
    "fig = plt.figure(figsize=(15,8),)\n",
    "## I have included to different ways to code a plot below, choose the one that suites you. \n",
    "ax=sns.kdeplot(train.Pclass[train.Survived == 0] , \n",
    "               color='gray',\n",
    "               shade=True,\n",
    "               label='not survived')\n",
    "ax=sns.kdeplot(train.loc[(train['Survived'] == 1),'Pclass'] , \n",
    "               color='g',\n",
    "               shade=True, \n",
    "               label='survived', \n",
    "              )\n",
    "plt.title('Passenger Class Distribution - Survived vs Non-Survived', fontsize = 25, pad = 40)\n",
    "plt.ylabel(\"Frequency of Passenger Survived\", fontsize = 15, labelpad = 20)\n",
    "plt.xlabel(\"Passenger Class\", fontsize = 15,labelpad =20)\n",
    "## Converting xticks into words for better understanding\n",
    "labels = ['Upper', 'Middle', 'Lower']\n",
    "plt.xticks(sorted(train.Pclass.unique()), labels);"
   ]
  },
  {
   "cell_type": "markdown",
   "metadata": {
    "_cell_guid": "43ffcf43-2d0c-4033-8112-9edcca3576f1",
    "_uuid": "f397633bae24a35d3fbe87d1ca54023356e065f9",
    "application/vnd.databricks.v1+cell": {
     "cellMetadata": {},
     "inputWidgets": {},
     "nuid": "e372a878-6ef4-4968-af2a-1ff7c92ffe64",
     "showTitle": false,
     "title": ""
    }
   },
   "source": [
    "This KDE plot is pretty self-explanatory with all the labels and colors. Something I have noticed that some readers might find questionable is that the lower class passengers have survived more than second-class passengers. It is true since there were a lot more third-class passengers than first and second. \n",
    "\n",
    "**Summary**\n",
    "***\n",
    "The first class passengers had the upper hand during the tragedy. You can probably agree with me more on this, in the next section of visualizations where we look at the distribution of ticket fare and survived column."
   ]
  },
  {
   "cell_type": "markdown",
   "metadata": {
    "_cell_guid": "1cb9d740-749b-4700-b9e9-973dbcad6aab",
    "_uuid": "8eeb41d08ce680d51452deeb0ad054b184d67e16",
    "application/vnd.databricks.v1+cell": {
     "cellMetadata": {},
     "inputWidgets": {},
     "nuid": "0058d530-bc2c-4c34-9e2f-51f6ecd69710",
     "showTitle": false,
     "title": ""
    }
   },
   "source": [
    "## 3c. Fare and Survived\n",
    "<a id=\"fare_and_survived\"></a>\n",
    "***"
   ]
  },
  {
   "cell_type": "code",
   "execution_count": 0,
   "metadata": {
    "_cell_guid": "cd6eb8a9-10a6-4ab8-aaec-4820df35f4c1",
    "_kg_hide-input": true,
    "_uuid": "85737078f0e84fe972a5ddb81b29e114fcfb54be",
    "application/vnd.databricks.v1+cell": {
     "cellMetadata": {},
     "inputWidgets": {},
     "nuid": "eb7e2c71-9153-44e4-975b-7e431f770432",
     "showTitle": false,
     "title": ""
    },
    "execution": {
     "iopub.execute_input": "2021-06-26T16:35:11.164195Z",
     "iopub.status.busy": "2021-06-26T16:35:11.163924Z",
     "iopub.status.idle": "2021-06-26T16:35:11.392608Z",
     "shell.execute_reply": "2021-06-26T16:35:11.391811Z",
     "shell.execute_reply.started": "2021-06-26T16:35:11.164152Z"
    }
   },
   "outputs": [],
   "source": [
    "# Kernel Density Plot\n",
    "fig = plt.figure(figsize=(15,8),)\n",
    "ax=sns.kdeplot(train.loc[(train['Survived'] == 0),'Fare'] , color='gray',shade=True,label='not survived')\n",
    "ax=sns.kdeplot(train.loc[(train['Survived'] == 1),'Fare'] , color='g',shade=True, label='survived')\n",
    "plt.title('Fare Distribution Survived vs Non Survived', fontsize = 25, pad = 40)\n",
    "plt.ylabel(\"Frequency of Passenger Survived\", fontsize = 15, labelpad = 20)\n",
    "plt.xlabel(\"Fare\", fontsize = 15, labelpad = 20);\n",
    "\n"
   ]
  },
  {
   "cell_type": "markdown",
   "metadata": {
    "_cell_guid": "6073f329-df80-4ab9-b99b-72e6fcdfe0c6",
    "_uuid": "b5eba2b28ea428114d8ffab52feef95484bd76c0",
    "application/vnd.databricks.v1+cell": {
     "cellMetadata": {},
     "inputWidgets": {},
     "nuid": "5dc9ee43-cdb6-42d1-87fd-4a15f8971478",
     "showTitle": false,
     "title": ""
    }
   },
   "source": [
    "This plot shows something impressive..\n",
    "- The spike in the plot under 100 dollar represents that a lot of passengers who bought the ticket within that range did not survive. \n",
    "- When fare is approximately more than 280 dollars, there is no gray shade which means, either everyone passed that fare point survived or maybe there is an outlier that clouds our judgment. Let's check..."
   ]
  },
  {
   "cell_type": "code",
   "execution_count": 0,
   "metadata": {
    "_cell_guid": "bee8b01b-a56a-4762-bde0-4404a1c5ac1a",
    "_kg_hide-input": true,
    "_uuid": "916ab9dc56a05105afa80127d69deb9fc0095ba2",
    "application/vnd.databricks.v1+cell": {
     "cellMetadata": {},
     "inputWidgets": {},
     "nuid": "64824bfc-d53a-48cb-a627-8a88e2198ca8",
     "showTitle": false,
     "title": ""
    },
    "execution": {
     "iopub.execute_input": "2021-06-26T16:35:11.394719Z",
     "iopub.status.busy": "2021-06-26T16:35:11.394204Z",
     "iopub.status.idle": "2021-06-26T16:35:11.41273Z",
     "shell.execute_reply": "2021-06-26T16:35:11.411929Z",
     "shell.execute_reply.started": "2021-06-26T16:35:11.394447Z"
    }
   },
   "outputs": [],
   "source": [
    "train[train.Fare > 280]"
   ]
  },
  {
   "cell_type": "markdown",
   "metadata": {
    "_cell_guid": "3467e2d8-315c-4223-9166-0aca54543cdd",
    "_uuid": "443d93fcfbad82fc611ce88e12556a6325ccd15c",
    "application/vnd.databricks.v1+cell": {
     "cellMetadata": {},
     "inputWidgets": {},
     "nuid": "c5edf0a6-d939-4e97-bd41-a179c081b10d",
     "showTitle": false,
     "title": ""
    }
   },
   "source": [
    "As we assumed, it looks like an outlier with a fare of $512. We sure can delete this point. However, we will keep it for now."
   ]
  },
  {
   "cell_type": "markdown",
   "metadata": {
    "_cell_guid": "95c27d94-fa65-4bf9-a855-8e5dab17704e",
    "_uuid": "64ff8df884805f04692dc601da1ef99527309d54",
    "application/vnd.databricks.v1+cell": {
     "cellMetadata": {},
     "inputWidgets": {},
     "nuid": "2b8b076b-2985-4ec6-95bd-8b60e452d1c0",
     "showTitle": false,
     "title": ""
    }
   },
   "source": [
    "## 3d. Age and Survived\n",
    "<a id=\"age_and_survived\"></a>\n",
    "***"
   ]
  },
  {
   "cell_type": "code",
   "execution_count": 0,
   "metadata": {
    "_cell_guid": "9eb6733b-7577-4360-8252-e6d97c78b7db",
    "_kg_hide-input": true,
    "_uuid": "c6a4f46a7ce0e197f72abe293b69100c29a044ca",
    "application/vnd.databricks.v1+cell": {
     "cellMetadata": {},
     "inputWidgets": {},
     "nuid": "da3efd0c-bf36-4720-97f4-24e0abbca2c5",
     "showTitle": false,
     "title": ""
    },
    "execution": {
     "iopub.execute_input": "2021-06-26T16:35:11.41461Z",
     "iopub.status.busy": "2021-06-26T16:35:11.414164Z",
     "iopub.status.idle": "2021-06-26T16:35:11.66643Z",
     "shell.execute_reply": "2021-06-26T16:35:11.665545Z",
     "shell.execute_reply.started": "2021-06-26T16:35:11.414413Z"
    }
   },
   "outputs": [],
   "source": [
    "# Kernel Density Plot\n",
    "fig = plt.figure(figsize=(15,8),)\n",
    "ax=sns.kdeplot(train.loc[(train['Survived'] == 0),'Age'] , color='gray',shade=True,label='not survived')\n",
    "ax=sns.kdeplot(train.loc[(train['Survived'] == 1),'Age'] , color='g',shade=True, label='survived')\n",
    "plt.title('Age Distribution - Surviver V.S. Non Survivors', fontsize = 25, pad = 40)\n",
    "plt.xlabel(\"Age\", fontsize = 15, labelpad = 20)\n",
    "plt.ylabel('Frequency', fontsize = 15, labelpad= 20);"
   ]
  },
  {
   "cell_type": "markdown",
   "metadata": {
    "_cell_guid": "a9aab64c-6170-4c8d-8446-cecdc9804b55",
    "_uuid": "5238df80f5454d29e3793596a21fd0c00cb64a6c",
    "application/vnd.databricks.v1+cell": {
     "cellMetadata": {},
     "inputWidgets": {},
     "nuid": "1f7a6846-e3e8-4684-885e-f92656b42fc2",
     "showTitle": false,
     "title": ""
    }
   },
   "source": [
    "There is nothing out of the ordinary about this plot, except the very left part of the distribution. This may hint on the posibility that children and infants were the priority."
   ]
  },
  {
   "cell_type": "markdown",
   "metadata": {
    "_cell_guid": "077605b2-e9b4-4c45-8c5a-188508165f10",
    "_uuid": "f8245da79c5394f7665d0b5429cb2fe4c4d0b057",
    "application/vnd.databricks.v1+cell": {
     "cellMetadata": {},
     "inputWidgets": {},
     "nuid": "d5bb90e3-7c1b-46a8-ae4a-3bb19beaa6ee",
     "showTitle": false,
     "title": ""
    }
   },
   "source": [
    "## 3e. Combined Feature Relations\n",
    "<a id='combined_feature_relations'></a>\n",
    "***\n",
    "In this section, we are going to discover more than two feature relations in a single graph. I will try my best to illustrate most of the feature relations. Let's get to it."
   ]
  },
  {
   "cell_type": "code",
   "execution_count": 0,
   "metadata": {
    "_cell_guid": "924e19c4-8d58-404c-9a84-02f096269351",
    "_kg_hide-input": true,
    "_uuid": "71fc1c9843f789e19a5e8b2929579914d8ecdb3f",
    "application/vnd.databricks.v1+cell": {
     "cellMetadata": {},
     "inputWidgets": {},
     "nuid": "f536296a-528d-4b38-b4bf-6b0c3df56375",
     "showTitle": false,
     "title": ""
    },
    "execution": {
     "iopub.execute_input": "2021-06-26T16:35:11.668148Z",
     "iopub.status.busy": "2021-06-26T16:35:11.667828Z",
     "iopub.status.idle": "2021-06-26T16:35:12.368731Z",
     "shell.execute_reply": "2021-06-26T16:35:12.367992Z",
     "shell.execute_reply.started": "2021-06-26T16:35:11.668097Z"
    }
   },
   "outputs": [],
   "source": [
    "pal = {1:\"seagreen\", 0:\"gray\"}\n",
    "g = sns.FacetGrid(train,size=5, col=\"Sex\", row=\"Survived\", margin_titles=True, hue = \"Survived\",\n",
    "                  palette=pal)\n",
    "g = g.map(plt.hist, \"Age\", edgecolor = 'white');\n",
    "g.fig.suptitle(\"Survived by Sex and Age\", size = 25)\n",
    "plt.subplots_adjust(top=0.90)\n"
   ]
  },
  {
   "cell_type": "markdown",
   "metadata": {
    "_cell_guid": "089999b4-bc44-49c6-9f86-aaaccabaa224",
    "_uuid": "6aac036e1b235e5b10bc6a153ed226acfce2cfcb",
    "application/vnd.databricks.v1+cell": {
     "cellMetadata": {},
     "inputWidgets": {},
     "nuid": "4f5bd583-1d88-4ecf-ad05-5bbb6c6a9927",
     "showTitle": false,
     "title": ""
    }
   },
   "source": [
    "Facetgrid is a great way to visualize multiple variables and their relationships at once. From the chart in section 3a we have a intuation that female passengers had better prority than males during the tragedy. However, from this facet grid, we can also understand which age range groups survived more than others or were not so lucky"
   ]
  },
  {
   "cell_type": "code",
   "execution_count": 0,
   "metadata": {
    "_cell_guid": "dcc34a91-261d-4929-a4eb-5072fcaf86ce",
    "_kg_hide-input": true,
    "_uuid": "b2ad776bf0254be1ccf76f46a40db7960aa3db24",
    "application/vnd.databricks.v1+cell": {
     "cellMetadata": {},
     "inputWidgets": {},
     "nuid": "819c6460-cf7d-40c9-9457-6af183bb7730",
     "showTitle": false,
     "title": ""
    },
    "execution": {
     "iopub.execute_input": "2021-06-26T16:35:12.370419Z",
     "iopub.status.busy": "2021-06-26T16:35:12.369999Z",
     "iopub.status.idle": "2021-06-26T16:35:14.029152Z",
     "shell.execute_reply": "2021-06-26T16:35:14.028323Z",
     "shell.execute_reply.started": "2021-06-26T16:35:12.370369Z"
    }
   },
   "outputs": [],
   "source": [
    "g = sns.FacetGrid(train,size=5, col=\"Sex\", row=\"Embarked\", margin_titles=True, hue = \"Survived\",\n",
    "                  palette = pal\n",
    "                  )\n",
    "g = g.map(plt.hist, \"Age\", edgecolor = 'white').add_legend();\n",
    "g.fig.suptitle(\"Survived by Sex and Age\", size = 25)\n",
    "plt.subplots_adjust(top=0.90)"
   ]
  },
  {
   "cell_type": "markdown",
   "metadata": {
    "_cell_guid": "b9b9906c-805d-438b-b72e-a57cc60d5ae8",
    "_uuid": "4070616f2637a720a3cb580264cfaed9235b9020",
    "application/vnd.databricks.v1+cell": {
     "cellMetadata": {},
     "inputWidgets": {},
     "nuid": "b4da9abe-b44c-437f-a116-cdd437072b05",
     "showTitle": false,
     "title": ""
    }
   },
   "source": [
    "This is another compelling facet grid illustrating four features relationship at once. They are **Embarked, Age, Survived & Sex**. \n",
    "* The color illustrates passengers survival status(green represents survived, gray represents not survived)\n",
    "* The column represents Sex(left being male, right stands for female)\n",
    "* The row represents Embarked(from top to bottom: S, C, Q)\n",
    "***\n",
    "Now that I have steered out the apparent let's see if we can get some insights that are not so obvious as we look at the data. \n",
    "* Most passengers seem to be boarded on Southampton(S).\n",
    "* More than 60% of the passengers died boarded on Southampton. \n",
    "* More than 60% of the passengers lived boarded on Cherbourg(C).\n",
    "* Pretty much every male that boarded on Queenstown(Q) did not survive. \n",
    "* There were very few females boarded on Queenstown, however, most of them survived."
   ]
  },
  {
   "cell_type": "code",
   "execution_count": 0,
   "metadata": {
    "_cell_guid": "fd9fe9e2-f7d4-4f83-9ce4-0a22160ef4fe",
    "_kg_hide-input": true,
    "_uuid": "f4d77506cabc7150466fa5bda64585d15814d48c",
    "application/vnd.databricks.v1+cell": {
     "cellMetadata": {},
     "inputWidgets": {},
     "nuid": "79dd1ad7-54a9-4fb3-b117-6bcab4a3d455",
     "showTitle": false,
     "title": ""
    },
    "execution": {
     "iopub.execute_input": "2021-06-26T16:35:14.030913Z",
     "iopub.status.busy": "2021-06-26T16:35:14.030621Z",
     "iopub.status.idle": "2021-06-26T16:35:14.493248Z",
     "shell.execute_reply": "2021-06-26T16:35:14.49225Z",
     "shell.execute_reply.started": "2021-06-26T16:35:14.030867Z"
    }
   },
   "outputs": [],
   "source": [
    "g = sns.FacetGrid(train, size=5,hue=\"Survived\", col =\"Sex\", margin_titles=True,\n",
    "                palette=pal,)\n",
    "g.map(plt.scatter, \"Fare\", \"Age\",edgecolor=\"w\").add_legend()\n",
    "g.fig.suptitle(\"Survived by Sex, Fare and Age\", size = 25)\n",
    "plt.subplots_adjust(top=0.85)"
   ]
  },
  {
   "cell_type": "markdown",
   "metadata": {
    "_cell_guid": "1c309d4b-3e24-406b-bd28-d5055a660f16",
    "_uuid": "90bbc6e6edbf6188170a4de1b38732d009f7afae",
    "application/vnd.databricks.v1+cell": {
     "cellMetadata": {},
     "inputWidgets": {},
     "nuid": "8e544719-25fa-46f7-9e8a-87b0e5767e1f",
     "showTitle": false,
     "title": ""
    }
   },
   "source": [
    "This facet grid unveils a couple of interesting insights. Let's find out.\n",
    "* The grid above clearly demonstrates the three outliers with Fare of over \\$500. At this point, I think we are quite confident that these outliers should be deleted.\n",
    "* Most of the passengers were with in the Fare range of \\$100."
   ]
  },
  {
   "cell_type": "code",
   "execution_count": 0,
   "metadata": {
    "_cell_guid": "783403f6-9d3c-4a12-8505-cf321bd1a1ef",
    "_kg_hide-input": true,
    "_uuid": "75c41c85dc76c9749e5c417e1ed0425eed9c55e0",
    "application/vnd.databricks.v1+cell": {
     "cellMetadata": {},
     "inputWidgets": {},
     "nuid": "59213c72-e93b-42e3-9115-9186b34f1c51",
     "showTitle": false,
     "title": ""
    },
    "execution": {
     "iopub.execute_input": "2021-06-26T16:35:14.495102Z",
     "iopub.status.busy": "2021-06-26T16:35:14.494676Z",
     "iopub.status.idle": "2021-06-26T16:35:14.888836Z",
     "shell.execute_reply": "2021-06-26T16:35:14.887825Z",
     "shell.execute_reply.started": "2021-06-26T16:35:14.494921Z"
    }
   },
   "outputs": [],
   "source": [
    "## dropping the three outliers where Fare is over $500 \n",
    "train = train[train.Fare < 500]\n",
    "## factor plot\n",
    "sns.factorplot(x = \"Parch\", y = \"Survived\", data = train,kind = \"point\",size = 8)\n",
    "plt.title(\"Factorplot of Parents/Children survived\", fontsize = 25)\n",
    "plt.subplots_adjust(top=0.85)"
   ]
  },
  {
   "cell_type": "markdown",
   "metadata": {
    "_cell_guid": "33916321-237d-4381-990f-0faa11723c20",
    "_uuid": "263113f38121c9e5f14247f05c262ee218be87f2",
    "application/vnd.databricks.v1+cell": {
     "cellMetadata": {},
     "inputWidgets": {},
     "nuid": "f599ff4d-7211-49a9-933d-f8c4e2578f06",
     "showTitle": false,
     "title": ""
    }
   },
   "source": [
    "**Passenger who traveled in big groups with parents/children had less survival rate than other passengers.**"
   ]
  },
  {
   "cell_type": "code",
   "execution_count": 0,
   "metadata": {
    "_cell_guid": "f6ed143e-3e02-4e97-a255-73807018f0d1",
    "_kg_hide-input": true,
    "_uuid": "4ce5a4a6cff3966ac1811ee95f81c81fe4861a51",
    "application/vnd.databricks.v1+cell": {
     "cellMetadata": {},
     "inputWidgets": {},
     "nuid": "47f45c8b-7759-4246-b3f9-ca9fa368d135",
     "showTitle": false,
     "title": ""
    },
    "execution": {
     "iopub.execute_input": "2021-06-26T16:35:14.890716Z",
     "iopub.status.busy": "2021-06-26T16:35:14.890276Z",
     "iopub.status.idle": "2021-06-26T16:35:15.244771Z",
     "shell.execute_reply": "2021-06-26T16:35:15.243687Z",
     "shell.execute_reply.started": "2021-06-26T16:35:14.890522Z"
    }
   },
   "outputs": [],
   "source": [
    "sns.factorplot(x =  \"SibSp\", y = \"Survived\", data = train,kind = \"point\",size = 8)\n",
    "plt.title('Factorplot of Sibilings/Spouses survived', fontsize = 25)\n",
    "plt.subplots_adjust(top=0.85)"
   ]
  },
  {
   "cell_type": "markdown",
   "metadata": {
    "_cell_guid": "ee5b61b4-67d3-46b4-847d-4b5b85a8c791",
    "_uuid": "c7a045b78e6b5f45ad891cf0515a6a4b2534d2ff",
    "application/vnd.databricks.v1+cell": {
     "cellMetadata": {},
     "inputWidgets": {},
     "nuid": "b720edfd-5672-462e-bb49-665fa56ad3ad",
     "showTitle": false,
     "title": ""
    }
   },
   "source": [
    "**While, passenger who traveled in small groups with sibilings/spouses had better changes of survivint than other passengers.**"
   ]
  },
  {
   "cell_type": "code",
   "execution_count": 0,
   "metadata": {
    "_cell_guid": "50a0920d-556b-4439-a67f-384ce793d094",
    "_kg_hide-input": true,
    "_uuid": "dfe723c71d4d29f599701d806ca97cd01a60142f",
    "application/vnd.databricks.v1+cell": {
     "cellMetadata": {},
     "inputWidgets": {},
     "nuid": "76ef0778-2ef4-432c-8033-b121e0b0063c",
     "showTitle": false,
     "title": ""
    },
    "execution": {
     "iopub.execute_input": "2021-06-26T16:35:15.246815Z",
     "iopub.status.busy": "2021-06-26T16:35:15.246286Z",
     "iopub.status.idle": "2021-06-26T16:35:15.256239Z",
     "shell.execute_reply": "2021-06-26T16:35:15.255215Z",
     "shell.execute_reply.started": "2021-06-26T16:35:15.246539Z"
    }
   },
   "outputs": [],
   "source": [
    "# Placing 0 for female and \n",
    "# 1 for male in the \"Sex\" column. \n",
    "train['Sex'] = train.Sex.apply(lambda x: 0 if x == \"female\" else 1)\n",
    "test['Sex'] = test.Sex.apply(lambda x: 0 if x == \"female\" else 1)"
   ]
  },
  {
   "cell_type": "markdown",
   "metadata": {
    "_cell_guid": "003a7779-5966-45f8-a711-67e67234a654",
    "_uuid": "402cd49464156ead61d5dd5698ffeb00eb71d0d3",
    "application/vnd.databricks.v1+cell": {
     "cellMetadata": {},
     "inputWidgets": {},
     "nuid": "0aab79b5-6fec-425a-9e3a-6319357cea2f",
     "showTitle": false,
     "title": ""
    }
   },
   "source": [
    "# Part 4: Statistical Overview\n",
    "<a id=\"statisticaloverview\"></a>\n",
    "***"
   ]
  },
  {
   "cell_type": "markdown",
   "metadata": {
    "_cell_guid": "91eba73b-f744-478b-bd6b-13da6cff000b",
    "_uuid": "3e8b752c8963a76a86c8b1db80783c644090bdfa",
    "application/vnd.databricks.v1+cell": {
     "cellMetadata": {},
     "inputWidgets": {},
     "nuid": "c54ca161-0483-400b-a1ba-c23cadcbc5b4",
     "showTitle": false,
     "title": ""
    }
   },
   "source": [
    "![title](https://cdn-images-1.medium.com/max/400/1*hFJ-LI7IXcWpxSLtaC0dfg.png)"
   ]
  },
  {
   "cell_type": "markdown",
   "metadata": {
    "_cell_guid": "7b7e6e77-50bf-469f-b92b-73056224bc61",
    "_uuid": "797aa171f2e13ea965cb9a352fcfd2001e119747",
    "application/vnd.databricks.v1+cell": {
     "cellMetadata": {},
     "inputWidgets": {},
     "nuid": "b27bd078-1622-4748-b2cb-64bdfe5929ce",
     "showTitle": false,
     "title": ""
    }
   },
   "source": [
    "**Train info**"
   ]
  },
  {
   "cell_type": "code",
   "execution_count": 0,
   "metadata": {
    "_cell_guid": "ad856ee6-b1ec-445d-92b0-cd6a83d58301",
    "_kg_hide-input": true,
    "_uuid": "35fc657641cc24aff89ade7d83d8b92e472dc3e6",
    "application/vnd.databricks.v1+cell": {
     "cellMetadata": {},
     "inputWidgets": {},
     "nuid": "3493a545-8abf-47bb-8d27-af460694633a",
     "showTitle": false,
     "title": ""
    },
    "execution": {
     "iopub.execute_input": "2021-06-26T16:35:15.258807Z",
     "iopub.status.busy": "2021-06-26T16:35:15.258212Z",
     "iopub.status.idle": "2021-06-26T16:35:15.297787Z",
     "shell.execute_reply": "2021-06-26T16:35:15.297008Z",
     "shell.execute_reply.started": "2021-06-26T16:35:15.258485Z"
    }
   },
   "outputs": [],
   "source": [
    "train.describe()"
   ]
  },
  {
   "cell_type": "code",
   "execution_count": 0,
   "metadata": {
    "_cell_guid": "327c6775-9ba4-4d65-8c97-304cc9512e6a",
    "_kg_hide-input": true,
    "_uuid": "2f9f5fb7bade4d82d7b5a564a8ac91123b4921d2",
    "application/vnd.databricks.v1+cell": {
     "cellMetadata": {},
     "inputWidgets": {},
     "nuid": "259ba4d7-323b-44e5-8f38-653e52b4b02c",
     "showTitle": false,
     "title": ""
    },
    "execution": {
     "iopub.execute_input": "2021-06-26T16:35:15.299834Z",
     "iopub.status.busy": "2021-06-26T16:35:15.299339Z",
     "iopub.status.idle": "2021-06-26T16:35:15.331049Z",
     "shell.execute_reply": "2021-06-26T16:35:15.330129Z",
     "shell.execute_reply.started": "2021-06-26T16:35:15.29957Z"
    }
   },
   "outputs": [],
   "source": [
    "train.describe(include =['O'])"
   ]
  },
  {
   "cell_type": "code",
   "execution_count": 0,
   "metadata": {
    "_cell_guid": "5b817552-ecb8-4f6e-9950-6697d4c44d1f",
    "_kg_hide-input": true,
    "_uuid": "c88dcae6209f02226f2e772b42616b5650d108f4",
    "application/vnd.databricks.v1+cell": {
     "cellMetadata": {},
     "inputWidgets": {},
     "nuid": "0db6c22c-be61-4887-8a59-a2394398e323",
     "showTitle": false,
     "title": ""
    },
    "execution": {
     "iopub.execute_input": "2021-06-26T16:35:15.33335Z",
     "iopub.status.busy": "2021-06-26T16:35:15.332779Z",
     "iopub.status.idle": "2021-06-26T16:35:15.352959Z",
     "shell.execute_reply": "2021-06-26T16:35:15.35204Z",
     "shell.execute_reply.started": "2021-06-26T16:35:15.333034Z"
    }
   },
   "outputs": [],
   "source": [
    "# Overview(Survived vs non survied)\n",
    "survived_summary = train.groupby(\"Survived\")\n",
    "survived_summary.mean().reset_index()"
   ]
  },
  {
   "cell_type": "code",
   "execution_count": 0,
   "metadata": {
    "_cell_guid": "502dd0d2-a51a-47da-904c-66c9840a1b74",
    "_kg_hide-input": true,
    "_uuid": "65f9a660b942a8f92db94fe8fc41ccfa76a354cd",
    "application/vnd.databricks.v1+cell": {
     "cellMetadata": {},
     "inputWidgets": {},
     "nuid": "b3842e04-c190-43fb-990d-1a016ad8b8c9",
     "showTitle": false,
     "title": ""
    },
    "execution": {
     "iopub.execute_input": "2021-06-26T16:35:15.354847Z",
     "iopub.status.busy": "2021-06-26T16:35:15.354359Z",
     "iopub.status.idle": "2021-06-26T16:35:15.371166Z",
     "shell.execute_reply": "2021-06-26T16:35:15.37032Z",
     "shell.execute_reply.started": "2021-06-26T16:35:15.354612Z"
    }
   },
   "outputs": [],
   "source": [
    "survived_summary = train.groupby(\"Sex\")\n",
    "survived_summary.mean().reset_index()"
   ]
  },
  {
   "cell_type": "code",
   "execution_count": 0,
   "metadata": {
    "_cell_guid": "68cb2dac-6295-44d6-8aa0-5cddb53dd72c",
    "_kg_hide-input": true,
    "_uuid": "e49170e6e56329f68aba07a36389883ee1bee5ca",
    "application/vnd.databricks.v1+cell": {
     "cellMetadata": {},
     "inputWidgets": {},
     "nuid": "f16d819f-595d-43d7-9f7f-c29dd6b97c8c",
     "showTitle": false,
     "title": ""
    },
    "execution": {
     "iopub.execute_input": "2021-06-26T16:35:15.373155Z",
     "iopub.status.busy": "2021-06-26T16:35:15.372618Z",
     "iopub.status.idle": "2021-06-26T16:35:15.392055Z",
     "shell.execute_reply": "2021-06-26T16:35:15.391506Z",
     "shell.execute_reply.started": "2021-06-26T16:35:15.373092Z"
    }
   },
   "outputs": [],
   "source": [
    "survived_summary = train.groupby(\"Pclass\")\n",
    "survived_summary.mean().reset_index()"
   ]
  },
  {
   "cell_type": "markdown",
   "metadata": {
    "_cell_guid": "89ba2894-b129-4709-913d-f8cb35815925",
    "_uuid": "e310c182f3541069329efcdd37373235fb144567",
    "application/vnd.databricks.v1+cell": {
     "cellMetadata": {},
     "inputWidgets": {},
     "nuid": "690ccf7c-5dc2-4465-b883-32e289f7c9ed",
     "showTitle": false,
     "title": ""
    }
   },
   "source": [
    "I have gathered a small summary from the statistical overview above. Let's see what they are...\n",
    "- This train data set has 891 raw and 9 columns. \n",
    "- only 38% passenger survived during that tragedy.\n",
    "- ~74% female passenger survived, while only ~19% male passenger survived. \n",
    "- ~63% first class passengers survived, while only 24% lower class passenger survived."
   ]
  },
  {
   "cell_type": "markdown",
   "metadata": {
    "_cell_guid": "5454218c-0a45-4a89-96fe-83d89b588183",
    "_uuid": "d00b4e471e863f766c4aad7b88e1e6d9e57d6423",
    "application/vnd.databricks.v1+cell": {
     "cellMetadata": {},
     "inputWidgets": {},
     "nuid": "6429b5f8-102a-47fe-a0b0-1eba2bab61b8",
     "showTitle": false,
     "title": ""
    }
   },
   "source": [
    "## 4a. Correlation Matrix and Heatmap\n",
    "<a id=\"heatmap\"></a>\n",
    "***\n",
    "### Correlations"
   ]
  },
  {
   "cell_type": "code",
   "execution_count": 0,
   "metadata": {
    "_cell_guid": "d0acfa7a-6f3e-4783-925d-6e443a9a5baa",
    "_kg_hide-input": true,
    "_uuid": "c4057023aa30d3ce1befae168c00f3cb8491804b",
    "application/vnd.databricks.v1+cell": {
     "cellMetadata": {},
     "inputWidgets": {},
     "nuid": "f518ed2d-4980-4c41-923f-508d430b92d8",
     "showTitle": false,
     "title": ""
    },
    "execution": {
     "iopub.execute_input": "2021-06-26T16:35:15.393816Z",
     "iopub.status.busy": "2021-06-26T16:35:15.393405Z",
     "iopub.status.idle": "2021-06-26T16:35:15.406432Z",
     "shell.execute_reply": "2021-06-26T16:35:15.405713Z",
     "shell.execute_reply.started": "2021-06-26T16:35:15.393654Z"
    }
   },
   "outputs": [],
   "source": [
    "pd.DataFrame(abs(train.corr()['Survived']).sort_values(ascending = False))"
   ]
  },
  {
   "cell_type": "markdown",
   "metadata": {
    "_cell_guid": "92a69940-78f8-4139-a9a7-24ccf5f6afe7",
    "_uuid": "211c5e2e817f4b10e64a28f5f8ce1d7eec9761fc",
    "application/vnd.databricks.v1+cell": {
     "cellMetadata": {},
     "inputWidgets": {},
     "nuid": "85381897-83d2-4594-b012-eae73b93ad9e",
     "showTitle": false,
     "title": ""
    }
   },
   "source": [
    "** Sex is the most important correlated feature with *Survived(dependent variable)* feature followed by Pclass.**"
   ]
  },
  {
   "cell_type": "code",
   "execution_count": 0,
   "metadata": {
    "_cell_guid": "3e9fdd2e-f081-48ad-9c0f-afa475b15dfe",
    "_kg_hide-input": true,
    "_uuid": "c3212c222341c250aacee47c43b1a023b9b65857",
    "application/vnd.databricks.v1+cell": {
     "cellMetadata": {},
     "inputWidgets": {},
     "nuid": "1232932c-cf10-4aeb-a701-66b832d98d8a",
     "showTitle": false,
     "title": ""
    },
    "execution": {
     "iopub.execute_input": "2021-06-26T16:35:15.408424Z",
     "iopub.status.busy": "2021-06-26T16:35:15.407893Z",
     "iopub.status.idle": "2021-06-26T16:35:15.421826Z",
     "shell.execute_reply": "2021-06-26T16:35:15.42092Z",
     "shell.execute_reply.started": "2021-06-26T16:35:15.408231Z"
    }
   },
   "outputs": [],
   "source": [
    "## get the most important variables. \n",
    "corr = train.corr()**2\n",
    "corr.Survived.sort_values(ascending=False)"
   ]
  },
  {
   "cell_type": "markdown",
   "metadata": {
    "_cell_guid": "f5f257ef-88b1-4302-ad41-d90892fbe4e9",
    "_uuid": "1837acd3898d4787c9011e353dfc4dc15fd1abb2",
    "application/vnd.databricks.v1+cell": {
     "cellMetadata": {},
     "inputWidgets": {},
     "nuid": "c8f421f0-5020-42c8-a0b4-12f05f2e3d2a",
     "showTitle": false,
     "title": ""
    }
   },
   "source": [
    "**Squaring the correlation feature not only gives on positive correlations but also amplifies the relationships.**"
   ]
  },
  {
   "cell_type": "code",
   "execution_count": 0,
   "metadata": {
    "_cell_guid": "eee23849-a390-4d16-a8df-d29c6f575413",
    "_kg_hide-input": true,
    "_uuid": "285660c315b854497fe00847d051ceac5c9ec298",
    "application/vnd.databricks.v1+cell": {
     "cellMetadata": {},
     "inputWidgets": {},
     "nuid": "98d28ae7-39e0-49fc-a713-8e7da483c26d",
     "showTitle": false,
     "title": ""
    },
    "execution": {
     "iopub.execute_input": "2021-06-26T16:35:15.423924Z",
     "iopub.status.busy": "2021-06-26T16:35:15.423431Z",
     "iopub.status.idle": "2021-06-26T16:35:15.769867Z",
     "shell.execute_reply": "2021-06-26T16:35:15.768898Z",
     "shell.execute_reply.started": "2021-06-26T16:35:15.423681Z"
    }
   },
   "outputs": [],
   "source": [
    "## heatmeap to see the correlation between features. \n",
    "# Generate a mask for the upper triangle (taken from seaborn example gallery)\n",
    "import numpy as np\n",
    "mask = np.zeros_like(train.corr(), dtype=np.bool)\n",
    "mask[np.triu_indices_from(mask)] = True\n",
    "sns.set_style('whitegrid')\n",
    "plt.subplots(figsize = (15,12))\n",
    "sns.heatmap(train.corr(), \n",
    "            annot=True,\n",
    "            mask = mask,\n",
    "            cmap = 'RdBu', ## in order to reverse the bar replace \"RdBu\" with \"RdBu_r\"\n",
    "            linewidths=.9, \n",
    "            linecolor='white',\n",
    "            fmt='.2g',\n",
    "            center = 0,\n",
    "            square=True)\n",
    "plt.title(\"Correlations Among Features\", y = 1.03,fontsize = 20, pad = 40);"
   ]
  },
  {
   "cell_type": "markdown",
   "metadata": {
    "_cell_guid": "0e0b5ceb-fde5-40a7-b33b-b44e8f04189a",
    "_uuid": "41e2bc2eff5699b14a0f47d5bd2e428ee5bec3b8",
    "application/vnd.databricks.v1+cell": {
     "cellMetadata": {},
     "inputWidgets": {},
     "nuid": "84e1f5d1-3967-4adc-84b5-27f627e69fc6",
     "showTitle": false,
     "title": ""
    }
   },
   "source": [
    "#### Positive Correlation Features:\n",
    "- Fare and Survived: 0.26\n",
    "\n",
    "#### Negative Correlation Features:\n",
    "- Fare and Pclass: -0.6\n",
    "- Sex and Survived: -0.55\n",
    "- Pclass and Survived: -0.33\n",
    "\n",
    "\n",
    "**So, Let's analyze these correlations a bit.** We have found some moderately strong relationships between different features. There is a definite positive correlation between Fare and Survived rated. This relationship reveals that the passenger who paid more money for their ticket were more likely to survive. This theory aligns with one other correlation which is the correlation between Fare and Pclass(-0.6). This relationship can be explained by saying that first class passenger(1) paid more for fare then second class passenger(2), similarly second class passenger paid more than the third class passenger(3). This theory can also be supported by mentioning another Pclass correlation with our dependent variable, Survived. The correlation between Pclass and Survived is -0.33. This can also be explained by saying that first class passenger had a better chance of surviving than the second or the third and so on.\n",
    "\n",
    "However, the most significant correlation with our dependent variable is the Sex variable, which is the info on whether the passenger was male or female. This negative correlation with a magnitude of -0.54 which points towards some undeniable insights. Let's do some statistics to see how statistically significant this correlation is."
   ]
  },
  {
   "cell_type": "markdown",
   "metadata": {
    "_cell_guid": "85faf680-5f78-414f-87b9-b72ef6d6ffc2",
    "_uuid": "18c908fdbe16ae939827ec12a4ce028094a8a587",
    "application/vnd.databricks.v1+cell": {
     "cellMetadata": {},
     "inputWidgets": {},
     "nuid": "43e6c89e-1c92-4301-9cb8-4aba8bdf2377",
     "showTitle": false,
     "title": ""
    }
   },
   "source": [
    "## 4b. Statistical Test for Correlation\n",
    "<a id=\"statistical_test\"></a>\n",
    "***\n",
    "\n",
    "Statistical tests are the scientific way to prove the validation of theories. In any case, when we look at the data, we seem to have an intuitive understanding of where data is leading us. However, when we do statistical tests, we get a scientific or mathematical perspective of how significant these results are. Let's apply some of these methods and see how we are doing with our predictions.\n",
    "\n",
    "###  Hypothesis Testing Outline\n",
    "\n",
    "A hypothesis test compares the mean of a control group and experimental group and tries to find out whether the two sample means are different from each other and if they are different, how significant that difference is.\n",
    " \n",
    "A **hypothesis test** usually consists of multiple parts: \n",
    "\n",
    "1. Formulate a well-developed research problem or question: The hypothesis test usually starts with a concrete and well-developed researched problem. We need to ask the right question that can be answered using statistical analysis. \n",
    "2. **The null hypothesis($H_0$) and Alternating hypothesis($H_1$)**:\n",
    "> * The **null hypothesis($H_0$)** is something that is assumed to be true. It is the status quo. In a null hypothesis, the observations are the result of pure chance. When we set out to experiment, we form the null hypothesis by saying that there is no difference between the means of the control group and the experimental group.\n",
    "> *  An **Alternative hypothesis($H_A$)** is a claim and the opposite of the null hypothesis.  It is going against the status quo. In an alternative theory, the observations show a real effect combined with a component of chance variation.\n",
    "    \n",
    "3. Determine the **test statistic**: test statistic can be used to assess the truth of the null hypothesis. Depending on the standard deviation we either use t-statistics or z-statistics. In addition to that, we want to identify whether the test is a one-tailed test or two-tailed test. [This](https://support.minitab.com/en-us/minitab/18/help-and-how-to/statistics/basic-statistics/supporting-topics/basics/null-and-alternative-hypotheses/) article explains it pretty well. [This](https://stattrek.com/hypothesis-test/hypothesis-testing.aspx) article is pretty good as well. \n",
    "\n",
    "4. Specify a **Significance level** and **Confidence Interval**: The significance level($\\alpha$) is the probability of rejecting a null hypothesis when it is true. In other words, we are ***comfortable/confident*** with rejecting the null hypothesis a significant amount of times even though it is true. This considerable amount is our Significant level. In addition to that, Significance level is one minus our Confidence interval. For example, if we say, our significance level is 5%, then our confidence interval would be (1 - 0.05) = 0.95 or 95%. \n",
    "\n",
    "5. Compute the **T-Statistics/Z-Statistics**: Computing the t-statistics follows a simple equation. This equation slightly differs depending on one sample test or two sample test  \n",
    "\n",
    "6. Compute the **P-value**: P-value is the probability that a test statistic at least as significant as the one observed would be obtained assuming that the null hypothesis is correct. The p-value is known to be unintuitive, and even many professors are known to explain it wrong. I think this [video](https://www.youtube.com/watch?v=E4KCfcVwzyw) explains the p-value well. **The smaller the P-value, the stronger the evidence against the null hypothesis.**\n",
    "\n",
    "7. **Describe the result and compare the p-value with the significance value($\\alpha$)**: If p<=$\\alpha$, then the observed effect is statistically significant, the null hypothesis is ruled out, and the alternative hypothesis is valid. However if the p> $\\alpha$, we say that, we fail to reject the null hypothesis. Even though this sentence is grammatically wrong, it is logically right. We never accept the null hypothesis just because we are doing the statistical test with sample data points.\n",
    "\n",
    "We will follow each of these steps above to do your hypothesis testing below.\n",
    "\n",
    "P.S. Khan Academy has a set of videos that I think are intuative and helped me understand conceptually. \n",
    "\n",
    "***"
   ]
  },
  {
   "cell_type": "markdown",
   "metadata": {
    "_uuid": "f3b49278bd1b8eff8fe1b14c1506d73cf53bd859",
    "application/vnd.databricks.v1+cell": {
     "cellMetadata": {},
     "inputWidgets": {},
     "nuid": "043457d8-bbbb-4bb0-9c40-fd139565c3fc",
     "showTitle": false,
     "title": ""
    }
   },
   "source": [
    "### Hypothesis testing for Titanic\n",
    "#### Formulating a well developed researched question: \n",
    "Regarding this dataset, we can formulate the null hypothesis and alternative hypothesis by asking the following questions. \n",
    "> * **Is there a significant difference in the mean sex between the passenger who survived and passenger who did not survive?**. \n",
    "> * **Is there a substantial difference in the survival rate between the male and female passengers?**\n",
    "\n",
    "\n",
    "#### The Null Hypothesis and The Alternative Hypothesis:\n",
    "We can formulate our hypothesis by asking questions differently. However, it is essential to understand what our end goal is. Here our dependent variable or target variable is **Survived**. Therefore, we say\n",
    "\n",
    "> ** Null Hypothesis($H_0$):** There is no difference in the survival rate between the male and female passengers. or the mean difference between male and female passenger in the survival rate is zero.  \n",
    ">  ** Alternative Hypothesis($H_A$):** There is a difference in the survival rate between the male and female passengers. or the mean difference in the survival rate between male and female is not zero.\n",
    "\n",
    "\n",
    "Onc thing we can do is try to set up the Null and Alternative Hypothesis in such way that, when we do our t-test, we can choose to do one tailed test. According to [this](https://support.minitab.com/en-us/minitab/18/help-and-how-to/statistics/basic-statistics/supporting-topics/basics/null-and-alternative-hypotheses/) article, one-tailed tests are more powerful than two-tailed test. In addition to that, [this](https://www.youtube.com/watch?v=5NcMFlrnYp8&list=PLIeGtxpvyG-LrjxQ60pxZaimkaKKs0zGF) video is also quite helpful understanding these topics. with this in mind we can update/modify our null and alternative hypothesis. Let's see how we can rewrite this..\n",
    "\n",
    "> **Null Hypothesis(H0):** male mean is greater or equal to female mean.\n",
    "\n",
    "> **Alternative Hypothesis(H1):** male mean is less than female mean. \n",
    "\n",
    "#### Determine the test statistics:\n",
    "> This will be a two-tailed test since the difference between male and female passenger in the survival rate could be higher or lower than 0. \n",
    "> Since we do not know the standard deviation($\\sigma$) and n is small, we will use the t-distribution. \n",
    "\n",
    "#### Specify the significance level:\n",
    "> Specifying a significance level is an important step of the hypothesis test. It is an ultimate balance between type 1 error and type 2 error. We will discuss more in-depth about those in another lesson. For now, we have decided to make our significance level($\\alpha$) = 0.05. So, our confidence interval or non-rejection region would be (1 - $\\alpha$)=(1-0.05) = 95%. \n",
    "\n",
    "#### Computing T-statistics and P-value:\n",
    "Let's take a random sample and see the difference."
   ]
  },
  {
   "cell_type": "code",
   "execution_count": 0,
   "metadata": {
    "_kg_hide-input": true,
    "_uuid": "abd034cffc591bf1ef2b4a8ed3e5a65eb133d61e",
    "application/vnd.databricks.v1+cell": {
     "cellMetadata": {},
     "inputWidgets": {},
     "nuid": "1a6d4dd6-7820-4638-97d5-2c113c9a8f13",
     "showTitle": false,
     "title": ""
    },
    "execution": {
     "iopub.execute_input": "2021-06-26T16:35:15.771771Z",
     "iopub.status.busy": "2021-06-26T16:35:15.771345Z",
     "iopub.status.idle": "2021-06-26T16:35:15.783362Z",
     "shell.execute_reply": "2021-06-26T16:35:15.782301Z",
     "shell.execute_reply.started": "2021-06-26T16:35:15.771603Z"
    }
   },
   "outputs": [],
   "source": [
    "male_mean = train[train['Sex'] == 1].Survived.mean()\n",
    "\n",
    "female_mean = train[train['Sex'] == 0].Survived.mean()\n",
    "print (\"Male survival mean: \" + str(male_mean))\n",
    "print (\"female survival mean: \" + str(female_mean))\n",
    "\n",
    "print (\"The mean difference between male and female survival rate: \" + str(female_mean - male_mean))"
   ]
  },
  {
   "cell_type": "markdown",
   "metadata": {
    "_uuid": "0c1c27af262ba094ff1fd02867b1a41d5369720f",
    "application/vnd.databricks.v1+cell": {
     "cellMetadata": {},
     "inputWidgets": {},
     "nuid": "efc13494-3e57-4f0b-ba75-b4b33d5a9b4f",
     "showTitle": false,
     "title": ""
    }
   },
   "source": [
    "Now, we have to understand that those two means are not  **the population mean ($\\bar{\\mu}$)**.  *The population mean is a statistical term statistician uses to indicate the actual average of the entire group. The group can be any gathering of multiple numbers such as animal, human, plants, money, stocks.* For example, To find the age population mean of Bulgaria; we will have to account for every single person's age and take their age. Which is almost impossible and if we were to go that route; there is no point of doing statistics in the first place. Therefore we approach this problem using sample sets. The idea of using sample set is that; if we take multiple samples of the same population and take the mean of them and put them in a distribution; eventually the distribution start to look more like a **normal distribution**. The more samples we take and the more sample means will be added and, the closer the normal distribution will reach towards population mean. This is where **Central limit theory** comes from. We will go more in depth of this topic later on. \n",
    "\n",
    "Going back to our dataset, like we are saying these means above are part of the whole story. We were given part of the data to train our machine learning models, and the other part of the data was held back for testing. Therefore, It is impossible for us at this point to know the population means of survival for male and females. Situation like this calls for a statistical approach. We will use the sampling distribution approach to do the test. let's take 50 random sample of male and female from our train data."
   ]
  },
  {
   "cell_type": "code",
   "execution_count": 0,
   "metadata": {
    "application/vnd.databricks.v1+cell": {
     "cellMetadata": {},
     "inputWidgets": {},
     "nuid": "0e76180f-0090-4d3b-91e6-08a249447a1f",
     "showTitle": false,
     "title": ""
    },
    "execution": {
     "iopub.execute_input": "2021-06-26T16:35:15.785359Z",
     "iopub.status.busy": "2021-06-26T16:35:15.784861Z",
     "iopub.status.idle": "2021-06-26T16:35:15.815921Z",
     "shell.execute_reply": "2021-06-26T16:35:15.815302Z",
     "shell.execute_reply.started": "2021-06-26T16:35:15.785103Z"
    }
   },
   "outputs": [],
   "source": [
    "# separating male and female dataframe. \n",
    "import random\n",
    "male = train[train['Sex'] == 1]\n",
    "female = train[train['Sex'] == 0]\n",
    "\n",
    "## empty list for storing mean sample\n",
    "m_mean_samples = []\n",
    "f_mean_samples = []\n",
    "\n",
    "for i in range(50):\n",
    "    m_mean_samples.append(np.mean(random.sample(list(male['Survived']),50,)))\n",
    "    f_mean_samples.append(np.mean(random.sample(list(female['Survived']),50,)))\n",
    "    \n",
    "\n",
    "# Print them out\n",
    "print (f\"Male mean sample mean: {round(np.mean(m_mean_samples),2)}\")\n",
    "print (f\"Male mean sample mean: {round(np.mean(f_mean_samples),2)}\")\n",
    "print (f\"Difference between male and female mean sample mean: {round(np.mean(f_mean_samples) - np.mean(m_mean_samples),2)}\")"
   ]
  },
  {
   "cell_type": "markdown",
   "metadata": {
    "application/vnd.databricks.v1+cell": {
     "cellMetadata": {},
     "inputWidgets": {},
     "nuid": "550c1346-6767-45b9-9a3d-b118e000840f",
     "showTitle": false,
     "title": ""
    }
   },
   "source": [
    "H0: male mean is greater or equal to female mean<br>\n",
    "H1: male mean is less than female mean."
   ]
  },
  {
   "cell_type": "markdown",
   "metadata": {
    "_uuid": "706d89356793f306d807c3fb277963e07181915c",
    "application/vnd.databricks.v1+cell": {
     "cellMetadata": {},
     "inputWidgets": {},
     "nuid": "5a3f564c-f5ee-45b5-be98-a742555d813a",
     "showTitle": false,
     "title": ""
    }
   },
   "source": [
    "According to the samples our male samples ($\\bar{x}_m$) and female samples($\\bar{x}_f$) mean measured difference is ~ 0.55(statistically this is called the point estimate of the male population mean and female population mean). keeping in mind that...\n",
    "* We randomly select 50 people to be in the male group and 50 people to be in the female group. \n",
    "* We know our sample is selected from a broader population(trainning set). \n",
    "* We know we could have totally ended up with a different random sample of males and females.\n",
    "***\n",
    "With all three points above in mind, how confident are we that, the measured difference is real or statistically significant? we can perform a **t-test** to evaluate that. When we perform a **t-test** we are usually trying to find out **an evidence of significant difference between population mean with hypothesized mean(1 sample t-test) or in our case difference between two population means(2 sample t-test).** \n",
    "\n",
    "\n",
    "\n",
    "The **t-statistics** is the measure of a degree to which our groups differ standardized by the variance of our measurements. In order words, it is basically the measure of signal over noise. Let us describe the previous sentence a bit more for clarification. I am going to use [this post](http://blog.minitab.com/blog/statistics-and-quality-data-analysis/what-is-a-t-test-and-why-is-it-like-telling-a-kid-to-clean-up-that-mess-in-the-kitchen) as reference to describe the t-statistics here. \n",
    "\n",
    "\n",
    "#### Calculating the t-statistics\n",
    "# $$t = \\frac{\\bar{x}-\\mu}{\\frac{S} {\\sqrt{n}} }$$\n",
    "\n",
    "Here..\n",
    "* $\\bar{x}$ is the sample mean. \n",
    "* $\\mu$ is the hypothesized mean. \n",
    "* S is the standard deviation. \n",
    "* n is the sample size. \n",
    "\n",
    "\n",
    "1. Now, the denominator of this fraction $(\\bar{x}-\\mu)$ is basically the strength of the signal. where we calculate the difference between hypothesized mean and sample mean. If the mean difference is higher, then the signal is stronger. \n",
    "\n",
    "the numerator of this fraction ** ${S}/ {\\sqrt{n}}$ ** calculates the amount of variation or noise of the data set. Here S is standard deviation, which tells us how much variation is there in the data. n is the sample size. \n",
    "\n",
    "So, according to the explanation above, the t-value or t-statistics is basically measures the strength of the signal(the difference) to the amount of noise(the variation) in the data and that is how we calculate the t-value in one sample t-test. However, in order to calculate between two sample population mean or in our case we will use the follow equation. \n",
    "\n",
    "# $$t = \\frac{\\bar{x}_M - \\bar{x}_F}{\\sqrt {s^2 (\\frac{1}{n_M} + \\frac{1}{n_F})}}$$\n",
    "\n",
    "This equation may seem too complex, however, the idea behind these two are similar. Both of them have the concept of signal/noise. The only difference is that we replace our hypothesis mean with another sample mean and the two sample sizes repalce one sample size. \n",
    "\n",
    "Here..\n",
    "* $\\bar{x}_M$ is the mean of our male group sample measurements. \n",
    "* $ \\bar{x}_F$ is the mean of female group samples. \n",
    "* $ n_M$ and $n_F$ are the sample number of observations in each group. \n",
    "* $ S^2$ is the sample variance.\n",
    "\n",
    "It is good to have an understanding of what going on in the background. However, we will use **scipy.stats** to find the t-statistics."
   ]
  },
  {
   "cell_type": "markdown",
   "metadata": {
    "_uuid": "44e9000aefed8ea0125463486cc4a00c17e580e5",
    "application/vnd.databricks.v1+cell": {
     "cellMetadata": {},
     "inputWidgets": {},
     "nuid": "f9f7750e-55b7-4349-a353-5942a09640d3",
     "showTitle": false,
     "title": ""
    }
   },
   "source": [
    "#### Compare P-value with $\\alpha$\n",
    "> It looks like the p-value is very small compared to our significance level($\\alpha$)of 0.05. Our observation sample is statistically significant. Therefore, our null hypothesis is ruled out, and our alternative hypothesis is valid, which is \"**There is a significant difference in the survival rate between the male and female passengers.\"**"
   ]
  },
  {
   "cell_type": "markdown",
   "metadata": {
    "_cell_guid": "df06b6c8-daf6-4f5b-af51-9c1dfbac7a68",
    "_uuid": "34869ce4ce852633b1f4a5cd111b98841982cc19",
    "application/vnd.databricks.v1+cell": {
     "cellMetadata": {},
     "inputWidgets": {},
     "nuid": "13a90b62-ec31-40db-a25d-2e5431fbf4fe",
     "showTitle": false,
     "title": ""
    }
   },
   "source": [
    "# Part 5: Feature Engineering\n",
    "<a id=\"feature_engineering\"></a>\n",
    "***\n",
    "Feature Engineering is exactly what its sounds like. Sometimes we want to create extra features from with in the features that we have, sometimes we want to remove features that are alike. Features engineering is the simple word for doing all those. It is important to remember that we will create new features in such ways that will not cause **multicollinearity(when there is a relationship among independent variables)** to occur."
   ]
  },
  {
   "cell_type": "markdown",
   "metadata": {
    "_cell_guid": "8c439069-6168-4cda-846f-db4c21265089",
    "_uuid": "3ca0785fe824c6ea471b2bcf9600007ed238d450",
    "application/vnd.databricks.v1+cell": {
     "cellMetadata": {},
     "inputWidgets": {},
     "nuid": "53dd8ae5-9fe1-49c6-b020-46ce6cf8581b",
     "showTitle": false,
     "title": ""
    }
   },
   "source": [
    "## name_length\n",
    "***Creating a new feature \"name_length\" that will take the count of letters of each name***"
   ]
  },
  {
   "cell_type": "code",
   "execution_count": 0,
   "metadata": {
    "_cell_guid": "d30d71c1-55bc-41c8-8536-9909d9f02538",
    "_kg_hide-input": true,
    "_uuid": "cb17c6f59bb2123cbf2cbc9c282b4d70ee283a86",
    "application/vnd.databricks.v1+cell": {
     "cellMetadata": {},
     "inputWidgets": {},
     "nuid": "67a59772-d63f-4b4f-9b3d-69c6db247e6e",
     "showTitle": false,
     "title": ""
    },
    "execution": {
     "iopub.execute_input": "2021-06-26T16:35:15.817993Z",
     "iopub.status.busy": "2021-06-26T16:35:15.817477Z",
     "iopub.status.idle": "2021-06-26T16:35:15.832377Z",
     "shell.execute_reply": "2021-06-26T16:35:15.831471Z",
     "shell.execute_reply.started": "2021-06-26T16:35:15.817745Z"
    }
   },
   "outputs": [],
   "source": [
    "# Creating a new colomn with a \n",
    "train['name_length'] = [len(i) for i in train.Name]\n",
    "test['name_length'] = [len(i) for i in test.Name]\n",
    "\n",
    "def name_length_group(size):\n",
    "    a = ''\n",
    "    if (size <=20):\n",
    "        a = 'short'\n",
    "    elif (size <=35):\n",
    "        a = 'medium'\n",
    "    elif (size <=45):\n",
    "        a = 'good'\n",
    "    else:\n",
    "        a = 'long'\n",
    "    return a\n",
    "\n",
    "\n",
    "train['nLength_group'] = train['name_length'].map(name_length_group)\n",
    "test['nLength_group'] = test['name_length'].map(name_length_group)\n",
    "\n",
    "## Here \"map\" is python's built-in function. \n",
    "## \"map\" function basically takes a function and \n",
    "## returns an iterable list/tuple or in this case series. \n",
    "## However,\"map\" can also be used like map(function) e.g. map(name_length_group) \n",
    "## or map(function, iterable{list, tuple}) e.g. map(name_length_group, train[feature]]). \n",
    "## However, here we don't need to use parameter(\"size\") for name_length_group because when we \n",
    "## used the map function like \".map\" with a series before dot, we are basically hinting that series \n",
    "## and the iterable. This is similar to .append approach in python. list.append(a) meaning applying append on list. \n",
    "\n",
    "\n",
    "## cuts the column by given bins based on the range of name_length\n",
    "#group_names = ['short', 'medium', 'good', 'long']\n",
    "#train['name_len_group'] = pd.cut(train['name_length'], bins = 4, labels=group_names)"
   ]
  },
  {
   "cell_type": "markdown",
   "metadata": {
    "_uuid": "012489c507bf8bfb1ca3db9b0506493cf5595e61",
    "application/vnd.databricks.v1+cell": {
     "cellMetadata": {},
     "inputWidgets": {},
     "nuid": "8d34f647-d1b6-4981-8122-bc489ccbca29",
     "showTitle": false,
     "title": ""
    }
   },
   "source": [
    "## title\n",
    "**Getting the title of each name as a new feature. **"
   ]
  },
  {
   "cell_type": "code",
   "execution_count": 0,
   "metadata": {
    "_cell_guid": "ded64d5f-43de-4a9e-b9c5-ec4d2869387a",
    "_kg_hide-input": true,
    "_uuid": "9c23229f7d06a1303a04b4a81c927453686ffec9",
    "application/vnd.databricks.v1+cell": {
     "cellMetadata": {},
     "inputWidgets": {},
     "nuid": "5e9831bd-286e-499e-8b47-6f68e1fd6942",
     "showTitle": false,
     "title": ""
    },
    "execution": {
     "iopub.execute_input": "2021-06-26T16:35:15.833953Z",
     "iopub.status.busy": "2021-06-26T16:35:15.833501Z",
     "iopub.status.idle": "2021-06-26T16:35:15.842414Z",
     "shell.execute_reply": "2021-06-26T16:35:15.841468Z",
     "shell.execute_reply.started": "2021-06-26T16:35:15.83376Z"
    }
   },
   "outputs": [],
   "source": [
    "## get the title from the name\n",
    "train[\"title\"] = [i.split('.')[0] for i in train.Name]\n",
    "train[\"title\"] = [i.split(',')[1] for i in train.title]\n",
    "## Whenever we split like that, there is a good change that we will end up with while space around our string values. Let's check that. "
   ]
  },
  {
   "cell_type": "code",
   "execution_count": 0,
   "metadata": {
    "application/vnd.databricks.v1+cell": {
     "cellMetadata": {},
     "inputWidgets": {},
     "nuid": "98783cf5-6d40-4b02-8965-b38f5e94801e",
     "showTitle": false,
     "title": ""
    },
    "execution": {
     "iopub.execute_input": "2021-06-26T16:35:15.84422Z",
     "iopub.status.busy": "2021-06-26T16:35:15.843818Z",
     "iopub.status.idle": "2021-06-26T16:35:15.853522Z",
     "shell.execute_reply": "2021-06-26T16:35:15.852642Z",
     "shell.execute_reply.started": "2021-06-26T16:35:15.84407Z"
    }
   },
   "outputs": [],
   "source": [
    "print(train.title.unique())"
   ]
  },
  {
   "cell_type": "code",
   "execution_count": 0,
   "metadata": {
    "application/vnd.databricks.v1+cell": {
     "cellMetadata": {},
     "inputWidgets": {},
     "nuid": "3209d07f-fdc6-43b0-818e-6c8c651d6f0c",
     "showTitle": false,
     "title": ""
    },
    "execution": {
     "iopub.execute_input": "2021-06-26T16:35:15.855322Z",
     "iopub.status.busy": "2021-06-26T16:35:15.854858Z",
     "iopub.status.idle": "2021-06-26T16:35:15.86306Z",
     "shell.execute_reply": "2021-06-26T16:35:15.86222Z",
     "shell.execute_reply.started": "2021-06-26T16:35:15.855101Z"
    }
   },
   "outputs": [],
   "source": [
    "## Let's fix that\n",
    "train.title = train.title.apply(lambda x: x.strip())"
   ]
  },
  {
   "cell_type": "code",
   "execution_count": 0,
   "metadata": {
    "application/vnd.databricks.v1+cell": {
     "cellMetadata": {},
     "inputWidgets": {},
     "nuid": "c421f5f4-4e10-40f2-a6a0-0a1d20c7a072",
     "showTitle": false,
     "title": ""
    },
    "execution": {
     "iopub.execute_input": "2021-06-26T16:35:15.864826Z",
     "iopub.status.busy": "2021-06-26T16:35:15.864362Z",
     "iopub.status.idle": "2021-06-26T16:35:15.872663Z",
     "shell.execute_reply": "2021-06-26T16:35:15.871817Z",
     "shell.execute_reply.started": "2021-06-26T16:35:15.864612Z"
    }
   },
   "outputs": [],
   "source": [
    "## We can also combile all three lines above for test set here\n",
    "test['title'] = [i.split('.')[0].split(',')[1].strip() for i in test.Name]\n",
    "\n",
    "## However it is important to be able to write readable code, and the line above is not so readable. "
   ]
  },
  {
   "cell_type": "code",
   "execution_count": 0,
   "metadata": {
    "application/vnd.databricks.v1+cell": {
     "cellMetadata": {},
     "inputWidgets": {},
     "nuid": "fefcec08-05e9-4aab-823c-c52dc0ed4d83",
     "showTitle": false,
     "title": ""
    },
    "execution": {
     "iopub.execute_input": "2021-06-26T16:35:15.874489Z",
     "iopub.status.busy": "2021-06-26T16:35:15.873918Z",
     "iopub.status.idle": "2021-06-26T16:35:15.896665Z",
     "shell.execute_reply": "2021-06-26T16:35:15.895832Z",
     "shell.execute_reply.started": "2021-06-26T16:35:15.874258Z"
    }
   },
   "outputs": [],
   "source": [
    "## Let's replace some of the rare values with the keyword 'rare' and other word choice of our own. \n",
    "## train Data\n",
    "train[\"title\"] = [i.replace('Ms', 'Miss') for i in train.title]\n",
    "train[\"title\"] = [i.replace('Mlle', 'Miss') for i in train.title]\n",
    "train[\"title\"] = [i.replace('Mme', 'Mrs') for i in train.title]\n",
    "train[\"title\"] = [i.replace('Dr', 'rare') for i in train.title]\n",
    "train[\"title\"] = [i.replace('Col', 'rare') for i in train.title]\n",
    "train[\"title\"] = [i.replace('Major', 'rare') for i in train.title]\n",
    "train[\"title\"] = [i.replace('Don', 'rare') for i in train.title]\n",
    "train[\"title\"] = [i.replace('Jonkheer', 'rare') for i in train.title]\n",
    "train[\"title\"] = [i.replace('Sir', 'rare') for i in train.title]\n",
    "train[\"title\"] = [i.replace('Lady', 'rare') for i in train.title]\n",
    "train[\"title\"] = [i.replace('Capt', 'rare') for i in train.title]\n",
    "train[\"title\"] = [i.replace('the Countess', 'rare') for i in train.title]\n",
    "train[\"title\"] = [i.replace('Rev', 'rare') for i in train.title]\n",
    "\n",
    "\n",
    "## Now in programming there is a term called DRY(Don't repeat yourself), whenever we are repeating  \n",
    "## same code over and over again, there should be a light-bulb turning on in our head and make us think\n",
    "## to code in a way that is not repeating or dull. Let's write a function to do exactly what we \n",
    "## did in the code above, only not repeating and more interesting. "
   ]
  },
  {
   "cell_type": "code",
   "execution_count": 0,
   "metadata": {
    "application/vnd.databricks.v1+cell": {
     "cellMetadata": {},
     "inputWidgets": {},
     "nuid": "16d378bf-c088-472d-b5d5-1c4c80d9c787",
     "showTitle": false,
     "title": ""
    },
    "execution": {
     "iopub.execute_input": "2021-06-26T16:35:15.900031Z",
     "iopub.status.busy": "2021-06-26T16:35:15.899771Z",
     "iopub.status.idle": "2021-06-26T16:35:15.910036Z",
     "shell.execute_reply": "2021-06-26T16:35:15.908929Z",
     "shell.execute_reply.started": "2021-06-26T16:35:15.899989Z"
    }
   },
   "outputs": [],
   "source": [
    "## we are writing a function that can help us modify title column\n",
    "def name_converted(feature):\n",
    "    \"\"\"\n",
    "    This function helps modifying the title column\n",
    "    \"\"\"\n",
    "    \n",
    "    result = ''\n",
    "    if feature in ['the Countess','Capt','Lady','Sir','Jonkheer','Don','Major','Col', 'Rev', 'Dona', 'Dr']:\n",
    "        result = 'rare'\n",
    "    elif feature in ['Ms', 'Mlle']:\n",
    "        result = 'Miss'\n",
    "    elif feature == 'Mme':\n",
    "        result = 'Mrs'\n",
    "    else:\n",
    "        result = feature\n",
    "    return result\n",
    "\n",
    "test.title = test.title.map(name_converted)\n",
    "train.title = train.title.map(name_converted)"
   ]
  },
  {
   "cell_type": "code",
   "execution_count": 0,
   "metadata": {
    "application/vnd.databricks.v1+cell": {
     "cellMetadata": {},
     "inputWidgets": {},
     "nuid": "63c61dc6-1131-4e86-b3d1-b217aed0b563",
     "showTitle": false,
     "title": ""
    },
    "execution": {
     "iopub.execute_input": "2021-06-26T16:35:15.912187Z",
     "iopub.status.busy": "2021-06-26T16:35:15.911644Z",
     "iopub.status.idle": "2021-06-26T16:35:15.923512Z",
     "shell.execute_reply": "2021-06-26T16:35:15.922507Z",
     "shell.execute_reply.started": "2021-06-26T16:35:15.912136Z"
    }
   },
   "outputs": [],
   "source": [
    "print(train.title.unique())\n",
    "print(test.title.unique())"
   ]
  },
  {
   "cell_type": "markdown",
   "metadata": {
    "_cell_guid": "42ccf293-04c7-4bea-9570-4cce9227b8af",
    "_uuid": "e870c4fc44de4b2395963e583c84d2cae83c004b",
    "application/vnd.databricks.v1+cell": {
     "cellMetadata": {},
     "inputWidgets": {},
     "nuid": "9d7f400d-b827-4509-956e-84d50c7e2cb0",
     "showTitle": false,
     "title": ""
    }
   },
   "source": [
    "## family_size\n",
    "***Creating a new feature called \"family_size\".***"
   ]
  },
  {
   "cell_type": "code",
   "execution_count": 0,
   "metadata": {
    "_cell_guid": "7083a7e7-d1d5-4cc1-ad67-c454b139f5f1",
    "_kg_hide-input": true,
    "_uuid": "cdfd54429cb235dd3b73535518950b2e515e54f2",
    "application/vnd.databricks.v1+cell": {
     "cellMetadata": {},
     "inputWidgets": {},
     "nuid": "721d9691-a660-41e5-9a09-2b9a27058c2b",
     "showTitle": false,
     "title": ""
    },
    "execution": {
     "iopub.execute_input": "2021-06-26T16:35:15.925581Z",
     "iopub.status.busy": "2021-06-26T16:35:15.925033Z",
     "iopub.status.idle": "2021-06-26T16:35:15.933955Z",
     "shell.execute_reply": "2021-06-26T16:35:15.933137Z",
     "shell.execute_reply.started": "2021-06-26T16:35:15.925315Z"
    }
   },
   "outputs": [],
   "source": [
    "## Family_size seems like a good feature to create\n",
    "train['family_size'] = train.SibSp + train.Parch+1\n",
    "test['family_size'] = test.SibSp + test.Parch+1"
   ]
  },
  {
   "cell_type": "code",
   "execution_count": 0,
   "metadata": {
    "_cell_guid": "3d471d07-7735-4aab-8b26-3f26e481dc49",
    "_kg_hide-input": true,
    "_uuid": "2e23467af7a2e85fcaa06b52b303daf2e5e44250",
    "application/vnd.databricks.v1+cell": {
     "cellMetadata": {},
     "inputWidgets": {},
     "nuid": "f648f479-aeaa-4990-9a5b-29a30cc4e4c7",
     "showTitle": false,
     "title": ""
    },
    "execution": {
     "iopub.execute_input": "2021-06-26T16:35:15.935971Z",
     "iopub.status.busy": "2021-06-26T16:35:15.935422Z",
     "iopub.status.idle": "2021-06-26T16:35:15.942647Z",
     "shell.execute_reply": "2021-06-26T16:35:15.941882Z",
     "shell.execute_reply.started": "2021-06-26T16:35:15.935671Z"
    }
   },
   "outputs": [],
   "source": [
    "## bin the family size. \n",
    "def family_group(size):\n",
    "    \"\"\"\n",
    "    This funciton groups(loner, small, large) family based on family size\n",
    "    \"\"\"\n",
    "    \n",
    "    a = ''\n",
    "    if (size <= 1):\n",
    "        a = 'loner'\n",
    "    elif (size <= 4):\n",
    "        a = 'small'\n",
    "    else:\n",
    "        a = 'large'\n",
    "    return a"
   ]
  },
  {
   "cell_type": "code",
   "execution_count": 0,
   "metadata": {
    "_cell_guid": "82f3cf5a-7e8d-42c3-a06b-56e17e890358",
    "_kg_hide-input": true,
    "_uuid": "549239812f919f5348da08db4264632d2b21b587",
    "application/vnd.databricks.v1+cell": {
     "cellMetadata": {},
     "inputWidgets": {},
     "nuid": "4f361548-fc53-478f-993d-bf885eb2cdf5",
     "showTitle": false,
     "title": ""
    },
    "execution": {
     "iopub.execute_input": "2021-06-26T16:35:15.944511Z",
     "iopub.status.busy": "2021-06-26T16:35:15.94417Z",
     "iopub.status.idle": "2021-06-26T16:35:15.95416Z",
     "shell.execute_reply": "2021-06-26T16:35:15.953395Z",
     "shell.execute_reply.started": "2021-06-26T16:35:15.944448Z"
    }
   },
   "outputs": [],
   "source": [
    "## apply the family_group function in family_size\n",
    "train['family_group'] = train['family_size'].map(family_group)\n",
    "test['family_group'] = test['family_size'].map(family_group)"
   ]
  },
  {
   "cell_type": "markdown",
   "metadata": {
    "_cell_guid": "d827a2d9-8ca5-454a-8323-90c397b25ccf",
    "_uuid": "3aa4ad0fac364f8f3c04e240841ee097baa3c871",
    "application/vnd.databricks.v1+cell": {
     "cellMetadata": {},
     "inputWidgets": {},
     "nuid": "be49728f-a258-4ac2-9532-8ed3f7756fec",
     "showTitle": false,
     "title": ""
    }
   },
   "source": [
    "## is_alone"
   ]
  },
  {
   "cell_type": "code",
   "execution_count": 0,
   "metadata": {
    "_cell_guid": "298b28d6-75a7-4e49-b1c3-7755f1727327",
    "_kg_hide-input": true,
    "_uuid": "45315bb62f69e94e66109e7da06c6c5ade578398",
    "application/vnd.databricks.v1+cell": {
     "cellMetadata": {},
     "inputWidgets": {},
     "nuid": "58369cb4-ea80-45e4-b948-19c9e8850ea0",
     "showTitle": false,
     "title": ""
    },
    "execution": {
     "iopub.execute_input": "2021-06-26T16:35:15.956031Z",
     "iopub.status.busy": "2021-06-26T16:35:15.955569Z",
     "iopub.status.idle": "2021-06-26T16:35:15.964779Z",
     "shell.execute_reply": "2021-06-26T16:35:15.963853Z",
     "shell.execute_reply.started": "2021-06-26T16:35:15.955855Z"
    }
   },
   "outputs": [],
   "source": [
    "train['is_alone'] = [1 if i<2 else 0 for i in train.family_size]\n",
    "test['is_alone'] = [1 if i<2 else 0 for i in test.family_size]"
   ]
  },
  {
   "cell_type": "markdown",
   "metadata": {
    "_cell_guid": "fee91907-4197-46c2-92c1-92474565e9a0",
    "_uuid": "0a6032d2746a7cf75e2cc899615d72433572fd6d",
    "application/vnd.databricks.v1+cell": {
     "cellMetadata": {},
     "inputWidgets": {},
     "nuid": "852206a0-d406-43ae-8cae-d5347b22ae04",
     "showTitle": false,
     "title": ""
    }
   },
   "source": [
    "## ticket"
   ]
  },
  {
   "cell_type": "code",
   "execution_count": 0,
   "metadata": {
    "_cell_guid": "352c794d-728d-44de-9160-25da7abe0c06",
    "_kg_hide-input": true,
    "_uuid": "5b99e1f7d7757f11e6dd6dbc627f3bd6e2fbd874",
    "application/vnd.databricks.v1+cell": {
     "cellMetadata": {},
     "inputWidgets": {},
     "nuid": "3f11b46c-eb55-407e-9a1b-782f744912c5",
     "showTitle": false,
     "title": ""
    },
    "execution": {
     "iopub.execute_input": "2021-06-26T16:35:15.966936Z",
     "iopub.status.busy": "2021-06-26T16:35:15.9664Z",
     "iopub.status.idle": "2021-06-26T16:35:15.97799Z",
     "shell.execute_reply": "2021-06-26T16:35:15.976969Z",
     "shell.execute_reply.started": "2021-06-26T16:35:15.966816Z"
    }
   },
   "outputs": [],
   "source": [
    "train.Ticket.value_counts().sample(10)"
   ]
  },
  {
   "cell_type": "markdown",
   "metadata": {
    "_uuid": "dd50f2d503d4b951bee458793dde6e23f0e35dc9",
    "application/vnd.databricks.v1+cell": {
     "cellMetadata": {},
     "inputWidgets": {},
     "nuid": "4d5ee735-d749-4773-898a-6a5901a3b379",
     "showTitle": false,
     "title": ""
    }
   },
   "source": [
    "I have yet to figureout how to best manage ticket feature. So, any suggestion would be truly appreciated. For now, I will get rid off the ticket feature."
   ]
  },
  {
   "cell_type": "code",
   "execution_count": 0,
   "metadata": {
    "_kg_hide-input": true,
    "_uuid": "d23d451982f0cbe44976c2eacafb726d816e9195",
    "application/vnd.databricks.v1+cell": {
     "cellMetadata": {},
     "inputWidgets": {},
     "nuid": "d1ff02d5-c310-4a59-9a92-e22744217b26",
     "showTitle": false,
     "title": ""
    },
    "execution": {
     "iopub.execute_input": "2021-06-26T16:35:15.979613Z",
     "iopub.status.busy": "2021-06-26T16:35:15.979155Z",
     "iopub.status.idle": "2021-06-26T16:35:15.989456Z",
     "shell.execute_reply": "2021-06-26T16:35:15.988913Z",
     "shell.execute_reply.started": "2021-06-26T16:35:15.97941Z"
    }
   },
   "outputs": [],
   "source": [
    "train.drop(['Ticket'], axis=1, inplace=True)\n",
    "\n",
    "test.drop(['Ticket'], axis=1, inplace=True)"
   ]
  },
  {
   "cell_type": "markdown",
   "metadata": {
    "_cell_guid": "60cb16dc-9bc3-4ff3-93b8-e3b3d4bcc0c8",
    "_uuid": "800052abc32a56c5f5f875bb3652c02e93c6b0a8",
    "application/vnd.databricks.v1+cell": {
     "cellMetadata": {},
     "inputWidgets": {},
     "nuid": "767c1d62-cca7-4020-94fd-2ceaafd95a57",
     "showTitle": false,
     "title": ""
    }
   },
   "source": [
    "## calculated_fare"
   ]
  },
  {
   "cell_type": "code",
   "execution_count": 0,
   "metadata": {
    "_cell_guid": "adaa30fe-cb0f-4666-bf95-505f1dcce188",
    "_kg_hide-input": true,
    "_uuid": "9374a6357551a7551e71731d72f5ceb3144856df",
    "application/vnd.databricks.v1+cell": {
     "cellMetadata": {},
     "inputWidgets": {},
     "nuid": "e457e271-c872-4489-8502-b4c69c156e21",
     "showTitle": false,
     "title": ""
    },
    "execution": {
     "iopub.execute_input": "2021-06-26T16:35:15.991841Z",
     "iopub.status.busy": "2021-06-26T16:35:15.991313Z",
     "iopub.status.idle": "2021-06-26T16:35:15.999545Z",
     "shell.execute_reply": "2021-06-26T16:35:15.998734Z",
     "shell.execute_reply.started": "2021-06-26T16:35:15.991562Z"
    }
   },
   "outputs": [],
   "source": [
    "## Calculating fare based on family size. \n",
    "train['calculated_fare'] = train.Fare/train.family_size\n",
    "test['calculated_fare'] = test.Fare/test.family_size"
   ]
  },
  {
   "cell_type": "markdown",
   "metadata": {
    "_uuid": "157cec80a8138c7976b135f093fc52832b82d71e",
    "application/vnd.databricks.v1+cell": {
     "cellMetadata": {},
     "inputWidgets": {},
     "nuid": "a7aa22f4-308e-4d62-85a4-6e7f6e65235d",
     "showTitle": false,
     "title": ""
    }
   },
   "source": [
    "Some people have travelled in groups like family or friends. It seems like Fare column kept a record of the total fare rather than the fare of individual passenger, therefore calculated fare will be much handy in this situation."
   ]
  },
  {
   "cell_type": "markdown",
   "metadata": {
    "_cell_guid": "60579ed1-9978-4d4a-aea0-79c75b6b1376",
    "_uuid": "c0e1c25bc6a7717646a5d0d063acae220e496e9e",
    "application/vnd.databricks.v1+cell": {
     "cellMetadata": {},
     "inputWidgets": {},
     "nuid": "2f907b18-1bbe-4281-9f81-569dd89e1e88",
     "showTitle": false,
     "title": ""
    }
   },
   "source": [
    "## fare_group"
   ]
  },
  {
   "cell_type": "code",
   "execution_count": 0,
   "metadata": {
    "_cell_guid": "8c33b78c-14cb-4cc2-af0f-65079a741570",
    "_kg_hide-input": true,
    "_uuid": "35685a6ca28651eab389c4673c21da2ea5ba4187",
    "application/vnd.databricks.v1+cell": {
     "cellMetadata": {},
     "inputWidgets": {},
     "nuid": "6f57397b-45ae-4f78-8b2f-014b29c6f95a",
     "showTitle": false,
     "title": ""
    },
    "execution": {
     "iopub.execute_input": "2021-06-26T16:35:16.001667Z",
     "iopub.status.busy": "2021-06-26T16:35:16.001088Z",
     "iopub.status.idle": "2021-06-26T16:35:16.012304Z",
     "shell.execute_reply": "2021-06-26T16:35:16.011542Z",
     "shell.execute_reply.started": "2021-06-26T16:35:16.00135Z"
    }
   },
   "outputs": [],
   "source": [
    "def fare_group(fare):\n",
    "    \"\"\"\n",
    "    This function creates a fare group based on the fare provided\n",
    "    \"\"\"\n",
    "    \n",
    "    a= ''\n",
    "    if fare <= 4:\n",
    "        a = 'Very_low'\n",
    "    elif fare <= 10:\n",
    "        a = 'low'\n",
    "    elif fare <= 20:\n",
    "        a = 'mid'\n",
    "    elif fare <= 45:\n",
    "        a = 'high'\n",
    "    else:\n",
    "        a = \"very_high\"\n",
    "    return a\n",
    "\n",
    "train['fare_group'] = train['calculated_fare'].map(fare_group)\n",
    "test['fare_group'] = test['calculated_fare'].map(fare_group)\n",
    "\n",
    "#train['fare_group'] = pd.cut(train['calculated_fare'], bins = 4, labels=groups)"
   ]
  },
  {
   "cell_type": "markdown",
   "metadata": {
    "_cell_guid": "5f5072cf-2234-425e-b91d-9609971117a0",
    "_uuid": "907614ee16efce8cbcc32b5535648688d23271eb",
    "application/vnd.databricks.v1+cell": {
     "cellMetadata": {},
     "inputWidgets": {},
     "nuid": "87c65bcf-ea18-4590-a8de-a3ffbf1d532f",
     "showTitle": false,
     "title": ""
    }
   },
   "source": [
    "Fare group was calculated based on <i>calculated_fare</i>. This can further help our cause."
   ]
  },
  {
   "cell_type": "markdown",
   "metadata": {
    "_uuid": "57a333f5c225ce65ec46a7e8b3c33d78fd70752e",
    "application/vnd.databricks.v1+cell": {
     "cellMetadata": {},
     "inputWidgets": {},
     "nuid": "2dd44763-d20d-461c-ae68-4039bfa491b3",
     "showTitle": false,
     "title": ""
    }
   },
   "source": [
    "## PassengerId"
   ]
  },
  {
   "cell_type": "markdown",
   "metadata": {
    "_uuid": "b44cc5b5f6fd4d844b85f689f3a713599915bbce",
    "application/vnd.databricks.v1+cell": {
     "cellMetadata": {},
     "inputWidgets": {},
     "nuid": "5b7f2269-7315-4dda-a186-dcbaf7eca48b",
     "showTitle": false,
     "title": ""
    }
   },
   "source": [
    "It seems like <i>PassengerId</i> column only works as an id in this dataset without any significant effect on the dataset. Let's drop it."
   ]
  },
  {
   "cell_type": "code",
   "execution_count": 0,
   "metadata": {
    "_uuid": "dadea67801cf5b56a882aa96bb874a4afa0e0bec",
    "application/vnd.databricks.v1+cell": {
     "cellMetadata": {},
     "inputWidgets": {},
     "nuid": "31960aee-099b-4c8e-8194-30d276f53e53",
     "showTitle": false,
     "title": ""
    },
    "execution": {
     "iopub.execute_input": "2021-06-26T16:35:16.014434Z",
     "iopub.status.busy": "2021-06-26T16:35:16.013951Z",
     "iopub.status.idle": "2021-06-26T16:35:16.025524Z",
     "shell.execute_reply": "2021-06-26T16:35:16.024631Z",
     "shell.execute_reply.started": "2021-06-26T16:35:16.014266Z"
    }
   },
   "outputs": [],
   "source": [
    "train.drop(['PassengerId'], axis=1, inplace=True)\n",
    "\n",
    "test.drop(['PassengerId'], axis=1, inplace=True)"
   ]
  },
  {
   "cell_type": "markdown",
   "metadata": {
    "_cell_guid": "6a494c58-c1cf-44e9-be41-f404626ab299",
    "_uuid": "704994b577f803ae51c5c6473a2d96f49bdd12ea",
    "application/vnd.databricks.v1+cell": {
     "cellMetadata": {},
     "inputWidgets": {},
     "nuid": "04d8c645-c3f0-4678-9c9b-890050a9497c",
     "showTitle": false,
     "title": ""
    }
   },
   "source": [
    "## Creating dummy variables\n",
    "\n",
    "You might be wondering what is a dummy variable? \n",
    "\n",
    "Dummy variable is an important **prepocessing machine learning step**. Often times Categorical variables are an important features, which can be the difference between a good model and a great model. While working with a dataset, having meaningful value for example, \"male\" or \"female\" instead of 0's and 1's is more intuitive for us. However, machines do not understand the value of categorical values, for example, in this dataset we have gender male or female, algorithms do not accept categorical variables as input. In order to feed data in a machine learning model, we"
   ]
  },
  {
   "cell_type": "code",
   "execution_count": 0,
   "metadata": {
    "_cell_guid": "9243ac8c-be44-46d0-a0ca-ee5f19b89bd4",
    "_kg_hide-input": true,
    "_uuid": "7b8db3930fb1bfb91db16686223dfc6d8e77744d",
    "application/vnd.databricks.v1+cell": {
     "cellMetadata": {},
     "inputWidgets": {},
     "nuid": "50fd5be6-4bab-4a74-b10e-abe1efcbda5a",
     "showTitle": false,
     "title": ""
    },
    "execution": {
     "iopub.execute_input": "2021-06-26T16:35:16.027132Z",
     "iopub.status.busy": "2021-06-26T16:35:16.026701Z",
     "iopub.status.idle": "2021-06-26T16:35:16.059319Z",
     "shell.execute_reply": "2021-06-26T16:35:16.058745Z",
     "shell.execute_reply.started": "2021-06-26T16:35:16.027081Z"
    }
   },
   "outputs": [],
   "source": [
    "\n",
    "train = pd.get_dummies(train, columns=['title',\"Pclass\", 'Cabin','Embarked','nLength_group', 'family_group', 'fare_group'], drop_first=False)\n",
    "test = pd.get_dummies(test, columns=['title',\"Pclass\",'Cabin','Embarked','nLength_group', 'family_group', 'fare_group'], drop_first=False)\n",
    "train.drop(['family_size','Name', 'Fare','name_length'], axis=1, inplace=True)\n",
    "test.drop(['Name','family_size',\"Fare\",'name_length'], axis=1, inplace=True)"
   ]
  },
  {
   "cell_type": "markdown",
   "metadata": {
    "_cell_guid": "67dc98ce-bedc-456d-bdbb-9684bbd88d66",
    "_uuid": "23586743d94d093f76f05a2fd3ca0ae75c0d663c",
    "application/vnd.databricks.v1+cell": {
     "cellMetadata": {},
     "inputWidgets": {},
     "nuid": "ed28b211-0a49-4b6e-bd99-d7c102a573f9",
     "showTitle": false,
     "title": ""
    }
   },
   "source": [
    "## age"
   ]
  },
  {
   "cell_type": "markdown",
   "metadata": {
    "_uuid": "a519858b2df34c499bb53808a5a23592ba7af040",
    "application/vnd.databricks.v1+cell": {
     "cellMetadata": {},
     "inputWidgets": {},
     "nuid": "91031c1f-97d3-46ac-bc55-6b560c74676f",
     "showTitle": false,
     "title": ""
    }
   },
   "source": [
    "As I promised before, we are going to use Random forest regressor in this section to predict the missing age values. Let's do it"
   ]
  },
  {
   "cell_type": "code",
   "execution_count": 0,
   "metadata": {
    "application/vnd.databricks.v1+cell": {
     "cellMetadata": {},
     "inputWidgets": {},
     "nuid": "23021b2a-ba25-4e4f-8ff2-538f8a0cf0fb",
     "showTitle": false,
     "title": ""
    },
    "execution": {
     "iopub.execute_input": "2021-06-26T16:35:16.061141Z",
     "iopub.status.busy": "2021-06-26T16:35:16.060714Z",
     "iopub.status.idle": "2021-06-26T16:35:16.084728Z",
     "shell.execute_reply": "2021-06-26T16:35:16.083793Z",
     "shell.execute_reply.started": "2021-06-26T16:35:16.060961Z"
    }
   },
   "outputs": [],
   "source": [
    "train.head()"
   ]
  },
  {
   "cell_type": "code",
   "execution_count": 0,
   "metadata": {
    "_kg_hide-input": true,
    "_uuid": "9597c320c3db4db5e5c28980a28abaae7281bc61",
    "application/vnd.databricks.v1+cell": {
     "cellMetadata": {},
     "inputWidgets": {},
     "nuid": "8a0a28da-41fe-4219-a9b8-d9e876a25aa0",
     "showTitle": false,
     "title": ""
    },
    "execution": {
     "iopub.execute_input": "2021-06-26T16:35:16.086463Z",
     "iopub.status.busy": "2021-06-26T16:35:16.086001Z",
     "iopub.status.idle": "2021-06-26T16:35:16.096908Z",
     "shell.execute_reply": "2021-06-26T16:35:16.095838Z",
     "shell.execute_reply.started": "2021-06-26T16:35:16.086235Z"
    }
   },
   "outputs": [],
   "source": [
    "## rearranging the columns so that I can easily use the dataframe to predict the missing age values. \n",
    "train = pd.concat([train[[\"Survived\", \"Age\", \"Sex\",\"SibSp\",\"Parch\"]], train.loc[:,\"is_alone\":]], axis=1)\n",
    "test = pd.concat([test[[\"Age\", \"Sex\"]], test.loc[:,\"SibSp\":]], axis=1)"
   ]
  },
  {
   "cell_type": "code",
   "execution_count": 0,
   "metadata": {
    "_kg_hide-input": true,
    "_uuid": "91662e7b63c2361fdcf3215f130b3895154ad92d",
    "application/vnd.databricks.v1+cell": {
     "cellMetadata": {},
     "inputWidgets": {},
     "nuid": "c718b97d-cab9-44c0-925b-2880fd65c134",
     "showTitle": false,
     "title": ""
    },
    "execution": {
     "iopub.execute_input": "2021-06-26T16:35:16.098683Z",
     "iopub.status.busy": "2021-06-26T16:35:16.098263Z",
     "iopub.status.idle": "2021-06-26T16:35:22.704889Z",
     "shell.execute_reply": "2021-06-26T16:35:22.704165Z",
     "shell.execute_reply.started": "2021-06-26T16:35:16.098504Z"
    }
   },
   "outputs": [],
   "source": [
    "## Importing RandomForestRegressor\n",
    "from sklearn.ensemble import RandomForestRegressor\n",
    "\n",
    "## writing a function that takes a dataframe with missing values and outputs it by filling the missing values. \n",
    "def completing_age(df):\n",
    "    ## gettting all the features except survived\n",
    "    age_df = df.loc[:,\"Age\":] \n",
    "    \n",
    "    temp_train = age_df.loc[age_df.Age.notnull()] ## df with age values\n",
    "    temp_test = age_df.loc[age_df.Age.isnull()] ## df without age values\n",
    "    \n",
    "    y = temp_train.Age.values ## setting target variables(age) in y \n",
    "    x = temp_train.loc[:, \"Sex\":].values\n",
    "    \n",
    "    rfr = RandomForestRegressor(n_estimators=1500, n_jobs=-1)\n",
    "    rfr.fit(x, y)\n",
    "    \n",
    "    predicted_age = rfr.predict(temp_test.loc[:, \"Sex\":])\n",
    "    \n",
    "    df.loc[df.Age.isnull(), \"Age\"] = predicted_age\n",
    "    \n",
    "\n",
    "    return df\n",
    "\n",
    "## Implementing the completing_age function in both train and test dataset. \n",
    "completing_age(train)\n",
    "completing_age(test);"
   ]
  },
  {
   "cell_type": "markdown",
   "metadata": {
    "_uuid": "8f4891f73fe40cdf20cbcdfce93bda7a4f5ccc5d",
    "application/vnd.databricks.v1+cell": {
     "cellMetadata": {},
     "inputWidgets": {},
     "nuid": "1608c840-659a-49cc-97ea-68b120c58b4e",
     "showTitle": false,
     "title": ""
    }
   },
   "source": [
    "Let's take a look at the histogram of the age column."
   ]
  },
  {
   "cell_type": "code",
   "execution_count": 0,
   "metadata": {
    "_kg_hide-input": true,
    "_uuid": "8fc55e4670061d46dab3cc6585b3cc71eb996868",
    "application/vnd.databricks.v1+cell": {
     "cellMetadata": {},
     "inputWidgets": {},
     "nuid": "e672f481-c8cf-4bc6-b6cd-f3f1506e62a3",
     "showTitle": false,
     "title": ""
    },
    "execution": {
     "iopub.execute_input": "2021-06-26T16:35:22.708567Z",
     "iopub.status.busy": "2021-06-26T16:35:22.708283Z",
     "iopub.status.idle": "2021-06-26T16:35:23.194075Z",
     "shell.execute_reply": "2021-06-26T16:35:23.193419Z",
     "shell.execute_reply.started": "2021-06-26T16:35:22.708515Z"
    }
   },
   "outputs": [],
   "source": [
    "## Let's look at the his\n",
    "plt.subplots(figsize = (22,10),)\n",
    "sns.distplot(train.Age, bins = 100, kde = True, rug = False, norm_hist=False);"
   ]
  },
  {
   "cell_type": "markdown",
   "metadata": {
    "_uuid": "97fcc2a4c7cdc7f998052aed543b86e113499580",
    "application/vnd.databricks.v1+cell": {
     "cellMetadata": {},
     "inputWidgets": {},
     "nuid": "330d77e4-916b-4bdb-a791-3342cf0eb122",
     "showTitle": false,
     "title": ""
    }
   },
   "source": [
    "## age_group\n",
    "We can create a new feature by grouping the \"Age\" column"
   ]
  },
  {
   "cell_type": "code",
   "execution_count": 0,
   "metadata": {
    "_cell_guid": "3140c968-6755-42ec-aa70-d30c0acede1e",
    "_kg_hide-input": true,
    "_uuid": "c3bd77bb4d9d5411aa696a605be127db181d2a67",
    "application/vnd.databricks.v1+cell": {
     "cellMetadata": {},
     "inputWidgets": {},
     "nuid": "374c8518-3040-4ca2-b789-bb921ac07f57",
     "showTitle": false,
     "title": ""
    },
    "execution": {
     "iopub.execute_input": "2021-06-26T16:35:23.196215Z",
     "iopub.status.busy": "2021-06-26T16:35:23.195696Z",
     "iopub.status.idle": "2021-06-26T16:35:23.219708Z",
     "shell.execute_reply": "2021-06-26T16:35:23.218664Z",
     "shell.execute_reply.started": "2021-06-26T16:35:23.195943Z"
    }
   },
   "outputs": [],
   "source": [
    "## create bins for age\n",
    "def age_group_fun(age):\n",
    "    \"\"\"\n",
    "    This function creates a bin for age\n",
    "    \"\"\"\n",
    "    a = ''\n",
    "    if age <= 1:\n",
    "        a = 'infant'\n",
    "    elif age <= 4: \n",
    "        a = 'toddler'\n",
    "    elif age <= 13:\n",
    "        a = 'child'\n",
    "    elif age <= 18:\n",
    "        a = 'teenager'\n",
    "    elif age <= 35:\n",
    "        a = 'Young_Adult'\n",
    "    elif age <= 45:\n",
    "        a = 'adult'\n",
    "    elif age <= 55:\n",
    "        a = 'middle_aged'\n",
    "    elif age <= 65:\n",
    "        a = 'senior_citizen'\n",
    "    else:\n",
    "        a = 'old'\n",
    "    return a\n",
    "        \n",
    "## Applying \"age_group_fun\" function to the \"Age\" column.\n",
    "train['age_group'] = train['Age'].map(age_group_fun)\n",
    "test['age_group'] = test['Age'].map(age_group_fun)\n",
    "\n",
    "## Creating dummies for \"age_group\" feature. \n",
    "train = pd.get_dummies(train,columns=['age_group'], drop_first=True)\n",
    "test = pd.get_dummies(test,columns=['age_group'], drop_first=True);"
   ]
  },
  {
   "cell_type": "markdown",
   "metadata": {
    "application/vnd.databricks.v1+cell": {
     "cellMetadata": {},
     "inputWidgets": {},
     "nuid": "ee251fcf-cccb-45b9-9b73-42ae0ded9e69",
     "showTitle": false,
     "title": ""
    }
   },
   "source": [
    "<div class=\"alert alert-danger\">\n",
    "<h1>Need to paraphrase this section</h1>\n",
    "<h2>Feature Selection</h2>\n",
    "<h3>Feature selection is an important part of machine learning models. There are many reasons why we use feature selection.</h3> \n",
    "<ul>\n",
    "    <li>Simple models are easier to interpret. People who acts according to model results have a better understanding of the model.</li>\n",
    "    <li>Shorter training times.</li>\n",
    "    <li>Enhanced generalisation by reducing overfitting. </li>\n",
    "    <li>Easier to implement by software developers> model production.</li>\n",
    "        <ul>\n",
    "            <li>As Data Scientists we need to remember no to creating models with too many variables since it might overwhelm production engineers.</li>\n",
    "    </ul>\n",
    "    <li>Reduced risk of data errors during model use</li>\n",
    "    <li>Data redundancy</li>\n",
    "</ul>\n",
    "</div>"
   ]
  },
  {
   "cell_type": "markdown",
   "metadata": {
    "_cell_guid": "9de7bf55-edfb-42e0-a235-7fee883001d9",
    "_uuid": "8eb07418adf26340ec68fa41401e68d08603f6d4",
    "application/vnd.databricks.v1+cell": {
     "cellMetadata": {},
     "inputWidgets": {},
     "nuid": "8bf9ad34-e6ae-4873-99ce-08854810d5bb",
     "showTitle": false,
     "title": ""
    }
   },
   "source": [
    "# Part 6: Pre-Modeling Tasks\n",
    "## 6a. Separating dependent and independent variables\n",
    "<a id=\"dependent_independent\"></a>\n",
    "***\n",
    "Before we apply any machine learning models, It is important to separate dependent and independent variables. Our dependent variable or target variable is something that we are trying to find, and our independent variable is the features we use to find the dependent variable. The way we use machine learning algorithm in a dataset is that we train our machine learning model by specifying independent variables and dependent variable. To specify them, we need to separate them from each other, and the code below does just that.\n",
    "\n",
    "P.S. In our test dataset, we do not have a dependent variable feature. We are to predict that using machine learning models."
   ]
  },
  {
   "cell_type": "code",
   "execution_count": 0,
   "metadata": {
    "_cell_guid": "dcb0934f-8e3f-40b6-859e-abf70b0b074e",
    "_kg_hide-input": true,
    "_uuid": "607db6be6dfacc7385e5adcc0feeee28c50c99c5",
    "application/vnd.databricks.v1+cell": {
     "cellMetadata": {},
     "inputWidgets": {},
     "nuid": "b0e75e1e-6228-47a7-b6a0-80ff5e3b12ef",
     "showTitle": false,
     "title": ""
    },
    "execution": {
     "iopub.execute_input": "2021-06-26T16:35:23.221875Z",
     "iopub.status.busy": "2021-06-26T16:35:23.221297Z",
     "iopub.status.idle": "2021-06-26T16:35:23.229845Z",
     "shell.execute_reply": "2021-06-26T16:35:23.228853Z",
     "shell.execute_reply.started": "2021-06-26T16:35:23.221578Z"
    }
   },
   "outputs": [],
   "source": [
    "# separating our independent and dependent variable\n",
    "X = train.drop(['Survived'], axis = 1)\n",
    "y = train[\"Survived\"]"
   ]
  },
  {
   "cell_type": "markdown",
   "metadata": {
    "_cell_guid": "042502ae-2714-43e2-9e33-6705b1aa781a",
    "_uuid": "92001d23ce79265c0f7d2b3d6f67094feeec2ea7",
    "application/vnd.databricks.v1+cell": {
     "cellMetadata": {},
     "inputWidgets": {},
     "nuid": "0346c226-6760-4cbc-8fc1-8fa16979ec62",
     "showTitle": false,
     "title": ""
    }
   },
   "source": [
    "## 6b. Splitting the training data\n",
    "<a id=\"split_training_data\" ></a>\n",
    "***\n",
    "There are multiple ways of splitting data. They are...\n",
    "* train_test_split.\n",
    "* cross_validation. \n",
    "\n",
    "We have separated dependent and independent features; We have separated train and test data. So, why do we still have to split our training data? If you are curious about that, I have the answer. For this competition, when we train the machine learning algorithms, we use part of the training set usually two-thirds of the train data. Once we train our algorithm using 2/3 of the train data, we start to test our algorithms using the remaining data. If the model performs well we dump our test data in the algorithms to predict and submit the competition. The code below, basically splits the train data into 4 parts, **X_train**, **X_test**, **y_train**, **y_test**.  \n",
    "* **X_train** and **y_train** first used to train the algorithm. \n",
    "* then, **X_test** is used in that trained algorithms to predict **outcomes. **\n",
    "* Once we get the **outcomes**, we compare it with **y_test**\n",
    "\n",
    "By comparing the **outcome** of the model with **y_test**, we can determine whether our algorithms are performing well or not. As we compare we use confusion matrix to determine different aspects of model performance.\n",
    "\n",
    "P.S. When we use cross validation it is important to remember not to use **X_train, X_test, y_train and y_test**, rather we will use **X and y**. I will discuss more on that."
   ]
  },
  {
   "cell_type": "code",
   "execution_count": 0,
   "metadata": {
    "_cell_guid": "348a5be2-5f4f-4c98-93a3-7352b6060ef4",
    "_kg_hide-input": true,
    "_uuid": "41b70e57f8e03da9910c20af89a9fa4a2aaea85b",
    "application/vnd.databricks.v1+cell": {
     "cellMetadata": {},
     "inputWidgets": {},
     "nuid": "69a47102-a818-4662-bb53-427a928c0220",
     "showTitle": false,
     "title": ""
    },
    "execution": {
     "iopub.execute_input": "2021-06-26T16:35:23.231964Z",
     "iopub.status.busy": "2021-06-26T16:35:23.23135Z",
     "iopub.status.idle": "2021-06-26T16:35:23.240022Z",
     "shell.execute_reply": "2021-06-26T16:35:23.239414Z",
     "shell.execute_reply.started": "2021-06-26T16:35:23.231633Z"
    }
   },
   "outputs": [],
   "source": [
    "from sklearn.model_selection import train_test_split\n",
    "X_train, X_test, y_train, y_test = train_test_split(X, y,test_size = .33, random_state=0)"
   ]
  },
  {
   "cell_type": "code",
   "execution_count": 0,
   "metadata": {
    "application/vnd.databricks.v1+cell": {
     "cellMetadata": {},
     "inputWidgets": {},
     "nuid": "b644f087-bfad-4738-b89f-397abfa0ebe4",
     "showTitle": false,
     "title": ""
    },
    "execution": {
     "iopub.execute_input": "2021-06-26T16:35:23.242734Z",
     "iopub.status.busy": "2021-06-26T16:35:23.24208Z",
     "iopub.status.idle": "2021-06-26T16:35:23.250654Z",
     "shell.execute_reply": "2021-06-26T16:35:23.249893Z",
     "shell.execute_reply.started": "2021-06-26T16:35:23.242373Z"
    }
   },
   "outputs": [],
   "source": [
    "len(X_train)"
   ]
  },
  {
   "cell_type": "code",
   "execution_count": 0,
   "metadata": {
    "application/vnd.databricks.v1+cell": {
     "cellMetadata": {},
     "inputWidgets": {},
     "nuid": "2d4cc220-2e5e-4fb4-a492-3e8aaf5218c5",
     "showTitle": false,
     "title": ""
    },
    "execution": {
     "iopub.execute_input": "2021-06-26T16:35:23.260997Z",
     "iopub.status.busy": "2021-06-26T16:35:23.260779Z",
     "iopub.status.idle": "2021-06-26T16:35:23.265643Z",
     "shell.execute_reply": "2021-06-26T16:35:23.264688Z",
     "shell.execute_reply.started": "2021-06-26T16:35:23.260954Z"
    }
   },
   "outputs": [],
   "source": [
    "len(X_test)"
   ]
  },
  {
   "cell_type": "markdown",
   "metadata": {
    "_cell_guid": "1f920690-2084-498c-a2fa-e618ad2228d8",
    "_uuid": "75407683b262fb65fc4afdfca6084d4ddaebe9a9",
    "application/vnd.databricks.v1+cell": {
     "cellMetadata": {},
     "inputWidgets": {},
     "nuid": "1c07e823-2147-4436-aaa2-1360d27d0009",
     "showTitle": false,
     "title": ""
    }
   },
   "source": [
    "## 6c. Feature Scaling\n",
    "<a id=\"feature_scaling\" ></a>\n",
    "***\n",
    "Feature scaling is an important concept of machine learning models. Often times a dataset contain features highly varying in magnitude and unit. For some machine learning models, it is not a problem. However, for many other ones, its quite a problem. Many machine learning algorithms uses euclidian distances to calculate the distance between two points, it is quite a problem. Let's again look at a the sample of the **train** dataset below."
   ]
  },
  {
   "cell_type": "code",
   "execution_count": 0,
   "metadata": {
    "_kg_hide-input": true,
    "_uuid": "d788baa4b88106afe5b30c769a6c85a1d67a5d6c",
    "application/vnd.databricks.v1+cell": {
     "cellMetadata": {},
     "inputWidgets": {},
     "nuid": "d8f5e301-9716-47e1-bddc-520a24409113",
     "showTitle": false,
     "title": ""
    },
    "execution": {
     "iopub.execute_input": "2021-06-26T16:35:23.26761Z",
     "iopub.status.busy": "2021-06-26T16:35:23.267136Z",
     "iopub.status.idle": "2021-06-26T16:35:23.295264Z",
     "shell.execute_reply": "2021-06-26T16:35:23.294322Z",
     "shell.execute_reply.started": "2021-06-26T16:35:23.267383Z"
    }
   },
   "outputs": [],
   "source": [
    "train.sample(5)"
   ]
  },
  {
   "cell_type": "markdown",
   "metadata": {
    "_uuid": "3d213fdd45a46ea0cf060adc7d9af58a84a03e21",
    "application/vnd.databricks.v1+cell": {
     "cellMetadata": {},
     "inputWidgets": {},
     "nuid": "d5dda431-4dea-4dc3-8a17-7c6f8eb8bd6e",
     "showTitle": false,
     "title": ""
    }
   },
   "source": [
    "Here **Age** and **Calculated_fare** is much higher in magnitude compared to others machine learning features. This can create problems as many machine learning models will get confused thinking **Age** and **Calculated_fare** have higher weight than other features. Therefore, we need to do feature scaling to get a better result. \n",
    "There are multiple ways to do feature scaling. \n",
    "<ul>\n",
    "    <li><b>MinMaxScaler</b>-Scales the data using the max and min values so that it fits between 0 and 1.</li>\n",
    "    <li><b>StandardScaler</b>-Scales the data so that it has mean 0 and variance of 1.</li>\n",
    "    <li><b>RobustScaler</b>-Scales the data similary to Standard Scaler, but makes use of the median and scales using the interquertile range so as to aviod issues with large outliers.</b>\n",
    " </ul>\n",
    "I will discuss more on that in a different kernel. For now we will use <b>Standard Scaler</b> to feature scale our dataset. \n",
    "\n",
    "P.S. I am showing a sample of both before and after so that you can see how scaling changes the dataset."
   ]
  },
  {
   "cell_type": "markdown",
   "metadata": {
    "_uuid": "2bf3db75976f363c0e922b0b7843716f900e0fd9",
    "application/vnd.databricks.v1+cell": {
     "cellMetadata": {},
     "inputWidgets": {},
     "nuid": "312e1977-cb2d-4f06-8937-eea0d5be8063",
     "showTitle": false,
     "title": ""
    }
   },
   "source": [
    "<h3><font color=\"$5831bc\" face=\"Comic Sans MS\">Before Scaling</font></h3>"
   ]
  },
  {
   "cell_type": "code",
   "execution_count": 0,
   "metadata": {
    "_kg_hide-input": true,
    "_uuid": "c4011a767b1d846f2866b4573d1d6d116afe8427",
    "application/vnd.databricks.v1+cell": {
     "cellMetadata": {},
     "inputWidgets": {},
     "nuid": "420215ab-f0b8-415e-9ccb-9c2ceb73a289",
     "showTitle": false,
     "title": ""
    },
    "execution": {
     "iopub.execute_input": "2021-06-26T16:35:23.297022Z",
     "iopub.status.busy": "2021-06-26T16:35:23.296548Z",
     "iopub.status.idle": "2021-06-26T16:35:23.319251Z",
     "shell.execute_reply": "2021-06-26T16:35:23.318338Z",
     "shell.execute_reply.started": "2021-06-26T16:35:23.296792Z"
    }
   },
   "outputs": [],
   "source": [
    "headers = X_train.columns \n",
    "\n",
    "X_train.head()"
   ]
  },
  {
   "cell_type": "code",
   "execution_count": 0,
   "metadata": {
    "_cell_guid": "5c89c54b-7f5a-4e31-9e8f-58726cef5eab",
    "_kg_hide-input": true,
    "_uuid": "182b849ba7f2b311e919cdbf83970b97736e9d98",
    "application/vnd.databricks.v1+cell": {
     "cellMetadata": {},
     "inputWidgets": {},
     "nuid": "4f3d50df-36e7-4f37-b514-f6f10083e357",
     "showTitle": false,
     "title": ""
    },
    "execution": {
     "iopub.execute_input": "2021-06-26T16:35:23.320979Z",
     "iopub.status.busy": "2021-06-26T16:35:23.320476Z",
     "iopub.status.idle": "2021-06-26T16:35:23.331478Z",
     "shell.execute_reply": "2021-06-26T16:35:23.33067Z",
     "shell.execute_reply.started": "2021-06-26T16:35:23.320738Z"
    }
   },
   "outputs": [],
   "source": [
    "# Feature Scaling\n",
    "## We will be using standardscaler to transform\n",
    "from sklearn.preprocessing import StandardScaler\n",
    "st_scale = StandardScaler()\n",
    "\n",
    "## transforming \"train_x\"\n",
    "X_train = st_scale.fit_transform(X_train)\n",
    "## transforming \"test_x\"\n",
    "X_test = st_scale.transform(X_test)\n",
    "\n",
    "## transforming \"The testset\"\n",
    "#test = st_scale.transform(test)"
   ]
  },
  {
   "cell_type": "markdown",
   "metadata": {
    "_uuid": "d425ca579370db88e39cdd1811ba3df2b257b36c",
    "application/vnd.databricks.v1+cell": {
     "cellMetadata": {},
     "inputWidgets": {},
     "nuid": "828a65de-8be0-4c22-93ba-fafab113ee23",
     "showTitle": false,
     "title": ""
    }
   },
   "source": [
    "<h3><font color=\"#5831bc\" face=\"Comic Sans MS\">After Scaling</font></h3>"
   ]
  },
  {
   "cell_type": "code",
   "execution_count": 0,
   "metadata": {
    "_kg_hide-input": true,
    "_uuid": "fc6f031833ac9e2734aa7b3a2373b667679c6b2f",
    "application/vnd.databricks.v1+cell": {
     "cellMetadata": {},
     "inputWidgets": {},
     "nuid": "c79f4981-b44b-4046-9528-85a90703b51b",
     "showTitle": false,
     "title": ""
    },
    "execution": {
     "iopub.execute_input": "2021-06-26T16:35:23.333531Z",
     "iopub.status.busy": "2021-06-26T16:35:23.333111Z",
     "iopub.status.idle": "2021-06-26T16:35:23.359161Z",
     "shell.execute_reply": "2021-06-26T16:35:23.358554Z",
     "shell.execute_reply.started": "2021-06-26T16:35:23.333347Z"
    }
   },
   "outputs": [],
   "source": [
    "pd.DataFrame(X_train, columns=headers).head()"
   ]
  },
  {
   "cell_type": "markdown",
   "metadata": {
    "application/vnd.databricks.v1+cell": {
     "cellMetadata": {},
     "inputWidgets": {},
     "nuid": "d52ac34d-db23-4307-b921-1fea7fbcf55f",
     "showTitle": false,
     "title": ""
    }
   },
   "source": [
    "You can see how the features have transformed above."
   ]
  },
  {
   "cell_type": "markdown",
   "metadata": {
    "_cell_guid": "0e03e40b-789a-40a0-a095-135f3d1c8f23",
    "_uuid": "99e108b83ba88738e42480b053371d60d89151cf",
    "application/vnd.databricks.v1+cell": {
     "cellMetadata": {},
     "inputWidgets": {},
     "nuid": "4ed4a018-3a2e-4804-b646-b9a137e5d8cb",
     "showTitle": false,
     "title": ""
    }
   },
   "source": [
    "# Part 7: Modeling the Data\n",
    "<a id=\"modelingthedata\"></a>\n",
    "***\n",
    "In the previous versions of this kernel, I thought about explaining each model before applying it. However, this process makes this kernel too lengthy to sit and read at one go. Therefore I have decided to break this kernel down and explain each algorithm in a different kernel and add the links here. If you like to review logistic regression, please click [here](https://www.kaggle.com/masumrumi/logistic-regression-with-titanic-dataset)."
   ]
  },
  {
   "cell_type": "code",
   "execution_count": 0,
   "metadata": {
    "_cell_guid": "0c8b0c41-6738-4689-85b0-b83a16e46ab9",
    "_uuid": "09140be1a71e37b441a16951a82747462b767e6e",
    "application/vnd.databricks.v1+cell": {
     "cellMetadata": {},
     "inputWidgets": {},
     "nuid": "37b4a6dd-ccbb-4be8-a3c4-02a5df1dee0b",
     "showTitle": false,
     "title": ""
    },
    "execution": {
     "iopub.execute_input": "2021-06-26T16:35:23.361067Z",
     "iopub.status.busy": "2021-06-26T16:35:23.360637Z",
     "iopub.status.idle": "2021-06-26T16:35:23.383762Z",
     "shell.execute_reply": "2021-06-26T16:35:23.383049Z",
     "shell.execute_reply.started": "2021-06-26T16:35:23.360889Z"
    }
   },
   "outputs": [],
   "source": [
    "# import LogisticRegression model in python. \n",
    "from sklearn.linear_model import LogisticRegression\n",
    "from sklearn.metrics import mean_absolute_error, accuracy_score\n",
    "\n",
    "## call on the model object\n",
    "logreg = LogisticRegression(solver='liblinear',\n",
    "                            penalty= 'l1',random_state = 42\n",
    "                                \n",
    "                            )\n",
    "\n",
    "## fit the model with \"train_x\" and \"train_y\"\n",
    "logreg.fit(X_train,y_train)\n",
    "\n",
    "## Once the model is trained we want to find out how well the model is performing, so we test the model. \n",
    "## we use \"X_test\" portion of the data(this data was not used to fit the model) to predict model outcome. \n",
    "y_pred = logreg.predict(X_test)\n",
    "\n",
    "## Once predicted we save that outcome in \"y_pred\" variable.\n",
    "## Then we compare the predicted value( \"y_pred\") and actual value(\"test_y\") to see how well our model is performing. "
   ]
  },
  {
   "cell_type": "markdown",
   "metadata": {
    "application/vnd.databricks.v1+cell": {
     "cellMetadata": {},
     "inputWidgets": {},
     "nuid": "2054d6f8-3972-478f-ada5-dbc9caa5b1c6",
     "showTitle": false,
     "title": ""
    }
   },
   "source": [
    "<h1><font color=\"#5831bc\" face=\"Comic Sans MS\">Evaluating a classification model</font></h1>\n",
    "\n",
    "There are multiple ways to evaluate a classification model. \n",
    "\n",
    "* Confusion Matrix. \n",
    "* ROC Curve\n",
    "* AUC Curve. \n",
    "\n",
    "\n",
    "## Confusion Matrix\n",
    "<b>Confusion matrix</b>, a table that <b>describes the performance of a classification model</b>. Confusion Matrix tells us how many our model predicted correctly and incorrectly in terms of binary/multiple outcome classes by comparing actual and predicted cases. For example, in terms of this dataset, our model is a binary one and we are trying to classify whether the passenger survived or not survived. we have fit the model using **X_train** and **y_train** and predicted the outcome of **X_test** in the variable **y_pred**. So, now we will use a confusion matrix to compare between **y_test** and **y_pred**. Let's do the confusion matrix."
   ]
  },
  {
   "cell_type": "code",
   "execution_count": 0,
   "metadata": {
    "application/vnd.databricks.v1+cell": {
     "cellMetadata": {},
     "inputWidgets": {},
     "nuid": "2368d560-14e2-45db-b500-5d6ada9e7d46",
     "showTitle": false,
     "title": ""
    },
    "execution": {
     "iopub.execute_input": "2021-06-26T16:35:23.385843Z",
     "iopub.status.busy": "2021-06-26T16:35:23.385341Z",
     "iopub.status.idle": "2021-06-26T16:35:23.399434Z",
     "shell.execute_reply": "2021-06-26T16:35:23.398674Z",
     "shell.execute_reply.started": "2021-06-26T16:35:23.385606Z"
    }
   },
   "outputs": [],
   "source": [
    "from sklearn.metrics import classification_report, confusion_matrix\n",
    "# printing confision matrix\n",
    "pd.DataFrame(confusion_matrix(y_test,y_pred),\\\n",
    "            columns=[\"Predicted Not-Survived\", \"Predicted Survived\"],\\\n",
    "            index=[\"Not-Survived\",\"Survived\"] )"
   ]
  },
  {
   "cell_type": "markdown",
   "metadata": {
    "application/vnd.databricks.v1+cell": {
     "cellMetadata": {},
     "inputWidgets": {},
     "nuid": "0c82801e-eb5c-4298-a54f-1a93beca4225",
     "showTitle": false,
     "title": ""
    }
   },
   "source": [
    "Our **y_test** has a total of 294 data points; part of the original train set that we splitted in order to evaluate our model. Each number here represents certain details about our model. If we were to think about this interms of column and raw, we could see that...\n",
    "\n",
    "* the first column is of data points that the machine predicted as not-survived.\n",
    "* the second column is of the statistics that the model predicted as survievd.\n",
    "* In terms of raws, the first raw indexed as \"Not-survived\" means that the value in that raw are actual statistics of not survived once. \n",
    "* and the \"Survived\" indexed raw are values that actually survived.\n",
    "\n",
    "Now you can see that the predicted not-survived and predicted survived sort of overlap with actual survived and actual not-survived. After all it is a matrix and we have some terminologies to call these statistics more specifically. Let's see what they are"
   ]
  },
  {
   "cell_type": "markdown",
   "metadata": {
    "application/vnd.databricks.v1+cell": {
     "cellMetadata": {},
     "inputWidgets": {},
     "nuid": "b02b0ade-243a-4503-8da9-3cb5c0d97685",
     "showTitle": false,
     "title": ""
    }
   },
   "source": [
    "<ul style=\"list-style-type:square;\">\n",
    "    <li><b>True Positive(TP)</b>: values that the model predicted as yes(survived) and is actually yes(survived).</li>\n",
    "    <li><b>True Negative(TN)</b>: values that model predicted as no(not-survived) and is actually no(not-survived)</li>\n",
    "    <li><b>False Positive(or Type I error)</b>: values that model predicted as yes(survived) but actually no(not-survived)</li>\n",
    "    <li><b>False Negative(or Type II error)</b>: values that model predicted as no(not-survived) but actually yes(survived)</li>\n",
    "</ul>\n",
    "\n",
    "For this dataset, whenever the model is predicting something as yes, it means the model is predicting that the passenger survived and for cases when the model predicting no; it means the passenger did not survive. Let's determine the value of all these terminologies above.\n",
    "<ul style=\"list-style-type:square;\">\n",
    "    <li><b>True Positive(TP):87</b></li>\n",
    "    <li><b>True Negative(TN):149</b></li>\n",
    "    <li><b>False Positive(FP):28</b></li>\n",
    "    <li><b>False Negative(FN):30</b></li>\n",
    "</ul>\n",
    "From these four terminologies, we can compute many other rates that are used to evaluate a binary classifier. \n",
    "\n",
    "\n",
    "#### Accuracy: \n",
    "** Accuracy is the measure of how often the model is correct.** \n",
    "* (TP + TN)/total = (87+149)/294 = .8027\n",
    "\n",
    "We can also calculate accuracy score using scikit learn."
   ]
  },
  {
   "cell_type": "code",
   "execution_count": 0,
   "metadata": {
    "application/vnd.databricks.v1+cell": {
     "cellMetadata": {},
     "inputWidgets": {},
     "nuid": "e4a054b5-16fa-46ee-954c-7f0cf6cacf30",
     "showTitle": false,
     "title": ""
    },
    "execution": {
     "iopub.execute_input": "2021-06-26T16:35:23.400652Z",
     "iopub.status.busy": "2021-06-26T16:35:23.400403Z",
     "iopub.status.idle": "2021-06-26T16:35:23.408635Z",
     "shell.execute_reply": "2021-06-26T16:35:23.40776Z",
     "shell.execute_reply.started": "2021-06-26T16:35:23.400604Z"
    }
   },
   "outputs": [],
   "source": [
    "from sklearn.metrics import accuracy_score\n",
    "accuracy_score(y_test, y_pred)"
   ]
  },
  {
   "cell_type": "markdown",
   "metadata": {
    "application/vnd.databricks.v1+cell": {
     "cellMetadata": {},
     "inputWidgets": {},
     "nuid": "3891c4bf-aaac-4f4e-b7da-5435a48ea972",
     "showTitle": false,
     "title": ""
    }
   },
   "source": [
    "**Misclassification Rate:** Misclassification Rate is the measure of how often the model is wrong**\n",
    "* Misclassification Rate and Accuracy are opposite of each other.\n",
    "* Missclassification is equivalent to 1 minus Accuracy. \n",
    "* Misclassification Rate is also known as \"Error Rate\".\n",
    "\n",
    "> (FP + FN)/Total = (28+30)/294 = 0.19\n",
    "\n",
    "**True Positive Rate/Recall/Sensitivity:** How often the model predicts yes(survived) when it's actually yes(survived)?\n",
    "> TP/(TP+FN) = 87/(87+30) = 0.7435897435897436"
   ]
  },
  {
   "cell_type": "code",
   "execution_count": 0,
   "metadata": {
    "application/vnd.databricks.v1+cell": {
     "cellMetadata": {},
     "inputWidgets": {},
     "nuid": "d2c5c2dc-4e88-459a-8ac8-48a84957f94b",
     "showTitle": false,
     "title": ""
    },
    "execution": {
     "iopub.execute_input": "2021-06-26T16:35:23.410491Z",
     "iopub.status.busy": "2021-06-26T16:35:23.410085Z",
     "iopub.status.idle": "2021-06-26T16:35:23.418315Z",
     "shell.execute_reply": "2021-06-26T16:35:23.417549Z",
     "shell.execute_reply.started": "2021-06-26T16:35:23.410444Z"
    }
   },
   "outputs": [],
   "source": [
    "from sklearn.metrics import recall_score\n",
    "recall_score(y_test, y_pred)"
   ]
  },
  {
   "cell_type": "markdown",
   "metadata": {
    "application/vnd.databricks.v1+cell": {
     "cellMetadata": {},
     "inputWidgets": {},
     "nuid": "8dba01e8-a724-4d77-a37c-e7ae029de6e6",
     "showTitle": false,
     "title": ""
    }
   },
   "source": [
    "**False Positive Rate:** How often the model predicts yes(survived) when it's actually no(not-survived)?\n",
    "> FP/(FP+TN) = 28/(28+149) = 0.15819209039548024\n",
    "\n",
    "**True Negative Rate/Specificity:** How often the model predicts no(not-survived) when it's actually no(not-survived)?\n",
    "* True Negative Rate is equivalent to 1 minus False Positive Rate.\n",
    "\n",
    "> TN/(TN+FP) = 149/(149+28) = 0.8418079096045198\n",
    "\n",
    "**Precision:** How often is it correct when the model predicts yes. \n",
    "> TP/(TP+FP) = 87/(87+28) = 0.7565217391304347"
   ]
  },
  {
   "cell_type": "code",
   "execution_count": 0,
   "metadata": {
    "application/vnd.databricks.v1+cell": {
     "cellMetadata": {},
     "inputWidgets": {},
     "nuid": "e6f15c97-ecf3-45ec-9373-5517f6c6588d",
     "showTitle": false,
     "title": ""
    },
    "execution": {
     "iopub.execute_input": "2021-06-26T16:35:23.4204Z",
     "iopub.status.busy": "2021-06-26T16:35:23.419791Z",
     "iopub.status.idle": "2021-06-26T16:35:23.429679Z",
     "shell.execute_reply": "2021-06-26T16:35:23.42864Z",
     "shell.execute_reply.started": "2021-06-26T16:35:23.420242Z"
    }
   },
   "outputs": [],
   "source": [
    "from sklearn.metrics import precision_score\n",
    "precision_score(y_test, y_pred)"
   ]
  },
  {
   "cell_type": "code",
   "execution_count": 0,
   "metadata": {
    "application/vnd.databricks.v1+cell": {
     "cellMetadata": {},
     "inputWidgets": {},
     "nuid": "a20dfc8e-7722-4280-9e1b-8bf5e9d93ea6",
     "showTitle": false,
     "title": ""
    },
    "execution": {
     "iopub.execute_input": "2021-06-26T16:35:23.431682Z",
     "iopub.status.busy": "2021-06-26T16:35:23.431234Z",
     "iopub.status.idle": "2021-06-26T16:35:23.44225Z",
     "shell.execute_reply": "2021-06-26T16:35:23.441202Z",
     "shell.execute_reply.started": "2021-06-26T16:35:23.43147Z"
    }
   },
   "outputs": [],
   "source": [
    "from sklearn.metrics import classification_report, balanced_accuracy_score\n",
    "print(classification_report(y_test, y_pred))"
   ]
  },
  {
   "cell_type": "markdown",
   "metadata": {
    "application/vnd.databricks.v1+cell": {
     "cellMetadata": {},
     "inputWidgets": {},
     "nuid": "e39363ef-4041-4b0d-af32-f647cdcc9432",
     "showTitle": false,
     "title": ""
    }
   },
   "source": [
    "we have our confusion matrix. How about we give it a little more character."
   ]
  },
  {
   "cell_type": "code",
   "execution_count": 0,
   "metadata": {
    "_kg_hide-input": true,
    "application/vnd.databricks.v1+cell": {
     "cellMetadata": {},
     "inputWidgets": {},
     "nuid": "c4aeaf47-1198-4b9f-8222-4cf3af63e1c1",
     "showTitle": false,
     "title": ""
    },
    "execution": {
     "iopub.execute_input": "2021-06-26T16:35:23.444153Z",
     "iopub.status.busy": "2021-06-26T16:35:23.443714Z",
     "iopub.status.idle": "2021-06-26T16:35:23.873374Z",
     "shell.execute_reply": "2021-06-26T16:35:23.869521Z",
     "shell.execute_reply.started": "2021-06-26T16:35:23.444104Z"
    }
   },
   "outputs": [],
   "source": [
    "from sklearn.utils.multiclass import unique_labels\n",
    "from sklearn.metrics import confusion_matrix\n",
    "\n",
    "\n",
    "def plot_confusion_matrix(y_true, y_pred, classes,\n",
    "                          normalize=False,\n",
    "                          title=None,\n",
    "                          cmap=plt.cm.Blues):\n",
    "    \"\"\"\n",
    "    This function prints and plots the confusion matrix.\n",
    "    Normalization can be applied by setting `normalize=True`.\n",
    "    \"\"\"\n",
    "    if not title:\n",
    "        if normalize:\n",
    "            title = 'Normalized confusion matrix'\n",
    "        else:\n",
    "            title = 'Confusion matrix, without normalization'\n",
    "\n",
    "    # Compute confusion matrix\n",
    "    cm = confusion_matrix(y_true, y_pred)\n",
    "    # Only use the labels that appear in the data\n",
    "    classes = classes[unique_labels(y_true, y_pred)]\n",
    "    if normalize:\n",
    "        cm = cm.astype('float') / cm.sum(axis=1)[:, np.newaxis]\n",
    "        print(\"Normalized confusion matrix\")\n",
    "    else:\n",
    "        print('Confusion matrix, without normalization')\n",
    "\n",
    "    print(cm)\n",
    "\n",
    "    fig, ax = plt.subplots()\n",
    "    im = ax.imshow(cm, interpolation='nearest', cmap=cmap)\n",
    "    ax.figure.colorbar(im, ax=ax)\n",
    "    # We want to show all ticks...\n",
    "    ax.set(xticks=np.arange(cm.shape[1]),\n",
    "           yticks=np.arange(cm.shape[0]),\n",
    "           # ... and label them with the respective list entries\n",
    "           xticklabels=classes, yticklabels=classes,\n",
    "           title=title,\n",
    "           ylabel='True label',\n",
    "           xlabel='Predicted label')\n",
    "\n",
    "    # Rotate the tick labels and set their alignment.\n",
    "    plt.setp(ax.get_xticklabels(), rotation=45, ha=\"right\",\n",
    "             rotation_mode=\"anchor\")\n",
    "\n",
    "    # Loop over data dimensions and create text annotations.\n",
    "    fmt = '.2f' if normalize else 'd'\n",
    "    thresh = cm.max() / 2.\n",
    "    for i in range(cm.shape[0]):\n",
    "        for j in range(cm.shape[1]):\n",
    "            ax.text(j, i, format(cm[i, j], fmt),\n",
    "                    ha=\"center\", va=\"center\",\n",
    "                    color=\"white\" if cm[i, j] > thresh else \"black\")\n",
    "    fig.tight_layout()\n",
    "    return ax\n",
    "\n",
    "\n",
    "np.set_printoptions(precision=2)\n",
    "\n",
    "class_names = np.array(['not_survived','survived'])\n",
    "\n",
    "# Plot non-normalized confusion matrix\n",
    "plot_confusion_matrix(y_test, y_pred, classes=class_names,\n",
    "                      title='Confusion matrix, without normalization')\n",
    "\n",
    "# Plot normalized confusion matrix\n",
    "plot_confusion_matrix(y_test, y_pred, classes=class_names, normalize=True,\n",
    "                      title='Normalized confusion matrix')\n",
    "\n",
    "plt.show()"
   ]
  },
  {
   "cell_type": "markdown",
   "metadata": {
    "_uuid": "e13731cbb9d9040cf6e4088e8660eca66037a8cc",
    "application/vnd.databricks.v1+cell": {
     "cellMetadata": {},
     "inputWidgets": {},
     "nuid": "b95c6a3d-71a3-4ef4-a646-5cb131fb080f",
     "showTitle": false,
     "title": ""
    }
   },
   "source": [
    "<h1>AUC & ROC Curve</h1>"
   ]
  },
  {
   "cell_type": "code",
   "execution_count": 0,
   "metadata": {
    "_uuid": "1e71bc7c685b757b6920076527780674d6f619bc",
    "application/vnd.databricks.v1+cell": {
     "cellMetadata": {},
     "inputWidgets": {},
     "nuid": "5d6a21a3-3c79-4a6b-9b66-c966dba10773",
     "showTitle": false,
     "title": ""
    },
    "execution": {
     "iopub.execute_input": "2021-06-26T16:35:23.877891Z",
     "iopub.status.busy": "2021-06-26T16:35:23.875713Z",
     "iopub.status.idle": "2021-06-26T16:35:24.505751Z",
     "shell.execute_reply": "2021-06-26T16:35:24.501314Z",
     "shell.execute_reply.started": "2021-06-26T16:35:23.87783Z"
    }
   },
   "outputs": [],
   "source": [
    "from sklearn.metrics import roc_curve, auc\n",
    "#plt.style.use('seaborn-pastel')\n",
    "y_score = logreg.decision_function(X_test)\n",
    "\n",
    "FPR, TPR, _ = roc_curve(y_test, y_score)\n",
    "ROC_AUC = auc(FPR, TPR)\n",
    "print (ROC_AUC)\n",
    "\n",
    "plt.figure(figsize =[11,9])\n",
    "plt.plot(FPR, TPR, label= 'ROC curve(area = %0.2f)'%ROC_AUC, linewidth= 4)\n",
    "plt.plot([0,1],[0,1], 'k--', linewidth = 4)\n",
    "plt.xlim([0.0,1.0])\n",
    "plt.ylim([0.0,1.05])\n",
    "plt.xlabel('False Positive Rate', fontsize = 18)\n",
    "plt.ylabel('True Positive Rate', fontsize = 18)\n",
    "plt.title('ROC for Titanic survivors', fontsize= 18)\n",
    "plt.show()"
   ]
  },
  {
   "cell_type": "code",
   "execution_count": 0,
   "metadata": {
    "_uuid": "22f15e384372a1ece2f28cd9eced0c703a79598f",
    "application/vnd.databricks.v1+cell": {
     "cellMetadata": {},
     "inputWidgets": {},
     "nuid": "1a83a50c-7e86-40c6-9836-efd56cbe6b7d",
     "showTitle": false,
     "title": ""
    },
    "execution": {
     "iopub.execute_input": "2021-06-26T16:35:24.50731Z",
     "iopub.status.busy": "2021-06-26T16:35:24.506981Z",
     "iopub.status.idle": "2021-06-26T16:35:24.8481Z",
     "shell.execute_reply": "2021-06-26T16:35:24.846974Z",
     "shell.execute_reply.started": "2021-06-26T16:35:24.507251Z"
    }
   },
   "outputs": [],
   "source": [
    "from sklearn.metrics import precision_recall_curve\n",
    "\n",
    "y_score = logreg.decision_function(X_test)\n",
    "\n",
    "precision, recall, _ = precision_recall_curve(y_test, y_score)\n",
    "PR_AUC = auc(recall, precision)\n",
    "\n",
    "plt.figure(figsize=[11,9])\n",
    "plt.plot(recall, precision, label='PR curve (area = %0.2f)' % PR_AUC, linewidth=4)\n",
    "plt.xlabel('Recall', fontsize=18)\n",
    "plt.ylabel('Precision', fontsize=18)\n",
    "plt.title('Precision Recall Curve for Titanic survivors', fontsize=18)\n",
    "plt.legend(loc=\"lower right\")\n",
    "plt.show()"
   ]
  },
  {
   "cell_type": "markdown",
   "metadata": {
    "_uuid": "e46b6d4bcb0ef70c06535b58bbe84c8a301ead91",
    "application/vnd.databricks.v1+cell": {
     "cellMetadata": {},
     "inputWidgets": {},
     "nuid": "94b65777-0e5c-4a6e-b2b9-7175f31e7c00",
     "showTitle": false,
     "title": ""
    }
   },
   "source": [
    "## Using Cross-validation:\n",
    "Pros: \n",
    "* Helps reduce variance. \n",
    "* Expends models predictability."
   ]
  },
  {
   "cell_type": "code",
   "execution_count": 0,
   "metadata": {
    "application/vnd.databricks.v1+cell": {
     "cellMetadata": {},
     "inputWidgets": {},
     "nuid": "bee46b34-bc9d-4124-8109-10086add0789",
     "showTitle": false,
     "title": ""
    },
    "execution": {
     "iopub.execute_input": "2021-06-26T16:35:24.855506Z",
     "iopub.status.busy": "2021-06-26T16:35:24.853028Z",
     "iopub.status.idle": "2021-06-26T16:35:24.862513Z",
     "shell.execute_reply": "2021-06-26T16:35:24.861421Z",
     "shell.execute_reply.started": "2021-06-26T16:35:24.853368Z"
    }
   },
   "outputs": [],
   "source": [
    "sc = st_scale"
   ]
  },
  {
   "cell_type": "code",
   "execution_count": 0,
   "metadata": {
    "_uuid": "17791284c3e88236de2daa112422cde8ddcb0641",
    "application/vnd.databricks.v1+cell": {
     "cellMetadata": {},
     "inputWidgets": {},
     "nuid": "39d884cf-ba66-4f5a-9bf4-62f25014f695",
     "showTitle": false,
     "title": ""
    },
    "execution": {
     "iopub.execute_input": "2021-06-26T16:35:24.868704Z",
     "iopub.status.busy": "2021-06-26T16:35:24.86826Z",
     "iopub.status.idle": "2021-06-26T16:35:25.014634Z",
     "shell.execute_reply": "2021-06-26T16:35:25.013771Z",
     "shell.execute_reply.started": "2021-06-26T16:35:24.86853Z"
    },
    "scrolled": true
   },
   "outputs": [],
   "source": [
    "## Using StratifiedShuffleSplit\n",
    "## We can use KFold, StratifiedShuffleSplit, StratiriedKFold or ShuffleSplit, They are all close cousins. look at sklearn userguide for more info.   \n",
    "from sklearn.model_selection import StratifiedShuffleSplit, cross_val_score\n",
    "cv = StratifiedShuffleSplit(n_splits = 10, test_size = .25, random_state = 0 ) # run model 10x with 60/30 split intentionally leaving out 10%\n",
    "## Using standard scale for the whole dataset.\n",
    "\n",
    "## saving the feature names for decision tree display\n",
    "column_names = X.columns\n",
    "\n",
    "X = sc.fit_transform(X)\n",
    "accuracies = cross_val_score(LogisticRegression(solver='liblinear'), X,y, cv  = cv)\n",
    "print (\"Cross-Validation accuracy scores:{}\".format(accuracies))\n",
    "print (\"Mean Cross-Validation accuracy score: {}\".format(round(accuracies.mean(),5)))"
   ]
  },
  {
   "cell_type": "markdown",
   "metadata": {
    "_cell_guid": "d1f2930c-43ae-4c15-87f7-ccc9214ee0e1",
    "_uuid": "b8020ecfe44bebdf7a2b95ec49393e8baac6bcf9",
    "application/vnd.databricks.v1+cell": {
     "cellMetadata": {},
     "inputWidgets": {},
     "nuid": "df6f0ab1-6151-4a8d-8e05-32cb127a2523",
     "showTitle": false,
     "title": ""
    }
   },
   "source": [
    "## Grid Search on Logistic Regression\n",
    "* What is grid search? \n",
    "* What are the pros and cons?\n",
    "\n",
    "**Gridsearch** is a simple concept but effective technique in Machine Learning. The word **GridSearch** stands for the fact that we are searching for optimal parameter/parameters over a \"grid.\" These optimal parameters are also known as **Hyperparameters**. **The Hyperparameters are model parameters that are set before fitting the model and determine the behavior of the model.**. For example, when we choose to use linear regression, we may decide to add a penalty to the loss function such as Ridge or Lasso. These penalties require specific alpha (the strength of the regularization technique) to set beforehand. The higher the value of alpha, the more penalty is being added. GridSearch finds the optimal value of alpha among a range of values provided by us, and then we go on and use that optimal value to fit the model and get sweet results. It is essential to understand those model parameters are different from models outcomes, for example, **coefficients** or model evaluation metrics such as **accuracy score** or **mean squared error** are model outcomes and different than hyperparameters.\n",
    "\n",
    "#### This part of the kernel is a working progress. Please check back again for future updates.####"
   ]
  },
  {
   "cell_type": "code",
   "execution_count": 0,
   "metadata": {
    "_cell_guid": "0620523c-b33b-4302-8a1c-4b6759ffa5fa",
    "_uuid": "36a379a00a31dd161be1723f65490990294fe13d",
    "application/vnd.databricks.v1+cell": {
     "cellMetadata": {},
     "inputWidgets": {},
     "nuid": "eb6be504-9a7c-4a62-8615-31deb45a7dfa",
     "showTitle": false,
     "title": ""
    },
    "execution": {
     "iopub.execute_input": "2021-06-26T16:35:25.021234Z",
     "iopub.status.busy": "2021-06-26T16:35:25.018883Z",
     "iopub.status.idle": "2021-06-26T16:35:40.193433Z",
     "shell.execute_reply": "2021-06-26T16:35:40.192566Z",
     "shell.execute_reply.started": "2021-06-26T16:35:25.021181Z"
    }
   },
   "outputs": [],
   "source": [
    "from sklearn.model_selection import GridSearchCV, StratifiedKFold\n",
    "## C_vals is the alpla value of lasso and ridge regression(as alpha increases the model complexity decreases,)\n",
    "## remember effective alpha scores are 0<alpha<infinity \n",
    "C_vals = [0.2,0.3,0.4,0.5,0.6,0.7,0.8,0.9,1,2,3,4,5,6,7,8,9,10,12,13,14,15,16,16.5,17,17.5,18]\n",
    "## Choosing penalties(Lasso(l1) or Ridge(l2))\n",
    "penalties = ['l1','l2']\n",
    "## Choose a cross validation strategy. \n",
    "cv = StratifiedShuffleSplit(n_splits = 10, test_size = .25)\n",
    "\n",
    "## setting param for param_grid in GridSearchCV. \n",
    "param = {'penalty': penalties, 'C': C_vals}\n",
    "\n",
    "logreg = LogisticRegression(solver='liblinear')\n",
    "## Calling on GridSearchCV object. \n",
    "grid = GridSearchCV(estimator=LogisticRegression(), \n",
    "                           param_grid = param,\n",
    "                           scoring = 'accuracy',\n",
    "                            n_jobs =-1,\n",
    "                           cv = cv\n",
    "                          )\n",
    "## Fitting the model\n",
    "grid.fit(X, y)"
   ]
  },
  {
   "cell_type": "code",
   "execution_count": 0,
   "metadata": {
    "_cell_guid": "1fa35072-87c4-4f47-86ab-dda03d4b7b15",
    "_uuid": "4c6650e39550527b271ddf733dcfe5221bcd5c98",
    "application/vnd.databricks.v1+cell": {
     "cellMetadata": {},
     "inputWidgets": {},
     "nuid": "4ed3c8cc-f1b4-4c2c-9424-a821c5da7584",
     "showTitle": false,
     "title": ""
    },
    "execution": {
     "iopub.execute_input": "2021-06-26T16:35:40.195216Z",
     "iopub.status.busy": "2021-06-26T16:35:40.194925Z",
     "iopub.status.idle": "2021-06-26T16:35:40.201259Z",
     "shell.execute_reply": "2021-06-26T16:35:40.200225Z",
     "shell.execute_reply.started": "2021-06-26T16:35:40.19517Z"
    }
   },
   "outputs": [],
   "source": [
    "## Getting the best of everything. \n",
    "print (grid.best_score_)\n",
    "print (grid.best_params_)\n",
    "print(grid.best_estimator_)\n",
    "\n"
   ]
  },
  {
   "cell_type": "markdown",
   "metadata": {
    "_uuid": "dcd2ad782c168abb5cfb5a3d148814e53cb2119c",
    "application/vnd.databricks.v1+cell": {
     "cellMetadata": {},
     "inputWidgets": {},
     "nuid": "9389fa4b-9254-4991-8318-7a3c049912cb",
     "showTitle": false,
     "title": ""
    }
   },
   "source": [
    "#### Using the best parameters from the grid-search."
   ]
  },
  {
   "cell_type": "code",
   "execution_count": 0,
   "metadata": {
    "_uuid": "ba53f6b3610821dc820936dde7b7803a54d20f5a",
    "application/vnd.databricks.v1+cell": {
     "cellMetadata": {},
     "inputWidgets": {},
     "nuid": "283ab08f-8bf2-4877-a69b-4d036c147cfe",
     "showTitle": false,
     "title": ""
    },
    "execution": {
     "iopub.execute_input": "2021-06-26T16:35:40.204086Z",
     "iopub.status.busy": "2021-06-26T16:35:40.203576Z",
     "iopub.status.idle": "2021-06-26T16:35:40.214041Z",
     "shell.execute_reply": "2021-06-26T16:35:40.212929Z",
     "shell.execute_reply.started": "2021-06-26T16:35:40.20393Z"
    }
   },
   "outputs": [],
   "source": [
    "### Using the best parameters from the grid-search.\n",
    "logreg_grid = grid.best_estimator_\n",
    "logreg_grid.score(X,y)"
   ]
  },
  {
   "cell_type": "markdown",
   "metadata": {
    "application/vnd.databricks.v1+cell": {
     "cellMetadata": {},
     "inputWidgets": {},
     "nuid": "a0365239-dd0b-40f1-b5f0-f1328ac7a24f",
     "showTitle": false,
     "title": ""
    }
   },
   "source": [
    "#### This part of the kernel is a working progress. Please check back again for future updates.####\n",
    " \n",
    " Resources: \n",
    " * [Confusion Matrix](https://www.youtube.com/watch?v=8Oog7TXHvFY)\n",
    "### Under-fitting & Over-fitting: \n",
    "So, we have our first model and its score. But, how do we make sure that our model is performing well. Our model may be overfitting or underfitting. In fact, for those of you don't know what overfitting and underfitting is, Let's find out.\n",
    "\n",
    "![](https://cdncontribute.geeksforgeeks.org/wp-content/uploads/fittings.jpg)\n",
    "\n",
    "As you see in the chart above. **Underfitting** is when the model fails to capture important aspects of the data and therefore introduces more bias and performs poorly. On the other hand, **Overfitting** is when the model performs too well on the training data but does poorly in the validation set or test sets.  This situation is also known as having less bias but more variation and perform poorly as well. Ideally, we want to configure a model that performs well not only in the training data but also in the test data. This is where **bias-variance tradeoff** comes in. When we have a model that overfits, meaning less biased and more of variance, we introduce some bias in exchange of having much less variance. One particular tactic for this task is regularization models (Ridge, Lasso, Elastic Net).  These models are built to deal with the bias-variance tradeoff. This [kernel](https://www.kaggle.com/dansbecker/underfitting-and-overfitting) explains this topic well. Also, the following chart gives us a mental picture of where we want our models to be. \n",
    "![](http://scott.fortmann-roe.com/docs/docs/BiasVariance/biasvariance.png)\n",
    "\n",
    "Ideally, we want to pick a sweet spot where the model performs well in training set, validation set, and test set. As the model gets complex, bias decreases, variance increases. However, the most critical part is the error rates. We want our models to be at the bottom of that **U** shape where the error rate is the least. That sweet spot is also known as **Optimum Model Complexity(OMC).**\n",
    "\n",
    "Now that we know what we want in terms of under-fitting and over-fitting, let's talk about how to combat them. \n",
    "\n",
    "How to combat over-fitting?\n",
    "<ul>\n",
    "    <li>Simplify the model by using less parameters.</li>\n",
    "    <li>Simplify the model by changing the hyperparameters.</li>\n",
    "    <li>Introducing regularization models. </li>\n",
    "    <li>Use more training data. </li>\n",
    "    <li>Gatter more data ( and gather better quality data). </li>\n",
    "    </ul>\n",
    " #### This part of the kernel is a working progress. Please check back again for future updates.####"
   ]
  },
  {
   "cell_type": "markdown",
   "metadata": {
    "_cell_guid": "8046e4d9-12db-4b1c-9e9e-31fd5e6543f2",
    "_uuid": "26b0ea9184b2c37eabe4e705b1c840956ecc1e10",
    "application/vnd.databricks.v1+cell": {
     "cellMetadata": {},
     "inputWidgets": {},
     "nuid": "ab083d6f-3295-4e27-944e-c8057a4bb34d",
     "showTitle": false,
     "title": ""
    }
   },
   "source": [
    "## 7b. K-Nearest Neighbor classifier(KNN)\n",
    "<a id=\"knn\"></a>\n",
    "***"
   ]
  },
  {
   "cell_type": "code",
   "execution_count": 0,
   "metadata": {
    "_uuid": "953bc2c18b5fd93bcd51a42cc04a0539d86d5bac",
    "application/vnd.databricks.v1+cell": {
     "cellMetadata": {},
     "inputWidgets": {},
     "nuid": "928889e2-cbb9-4afe-9b84-a46e759fa75d",
     "showTitle": false,
     "title": ""
    },
    "execution": {
     "iopub.execute_input": "2021-06-26T16:35:40.216328Z",
     "iopub.status.busy": "2021-06-26T16:35:40.215853Z",
     "iopub.status.idle": "2021-06-26T16:35:40.416985Z",
     "shell.execute_reply": "2021-06-26T16:35:40.416038Z",
     "shell.execute_reply.started": "2021-06-26T16:35:40.216141Z"
    }
   },
   "outputs": [],
   "source": [
    "## Importing the model. \n",
    "from sklearn.neighbors import KNeighborsClassifier\n",
    "## calling on the model oject. \n",
    "knn = KNeighborsClassifier(metric='minkowski', p=2)\n",
    "## knn classifier works by doing euclidian distance \n",
    "\n",
    "\n",
    "## doing 10 fold staratified-shuffle-split cross validation \n",
    "cv = StratifiedShuffleSplit(n_splits=10, test_size=.25, random_state=2)\n",
    "\n",
    "accuracies = cross_val_score(knn, X,y, cv = cv, scoring='accuracy')\n",
    "print (\"Cross-Validation accuracy scores:{}\".format(accuracies))\n",
    "print (\"Mean Cross-Validation accuracy score: {}\".format(round(accuracies.mean(),3)))"
   ]
  },
  {
   "cell_type": "markdown",
   "metadata": {
    "_uuid": "6aa75e53129898ccd714370dc55c0ed2830e72f4",
    "application/vnd.databricks.v1+cell": {
     "cellMetadata": {},
     "inputWidgets": {},
     "nuid": "16a8280b-41a7-44a5-bd33-0c8b1a51f01c",
     "showTitle": false,
     "title": ""
    }
   },
   "source": [
    "#### Manually find the best possible k value for KNN"
   ]
  },
  {
   "cell_type": "code",
   "execution_count": 0,
   "metadata": {
    "_uuid": "9c0f44165e08f63ae5436180c5a7182e6db5c63f",
    "application/vnd.databricks.v1+cell": {
     "cellMetadata": {},
     "inputWidgets": {},
     "nuid": "f129b397-b5d2-4d02-99b1-62a6e5636450",
     "showTitle": false,
     "title": ""
    },
    "execution": {
     "iopub.execute_input": "2021-06-26T16:35:40.418857Z",
     "iopub.status.busy": "2021-06-26T16:35:40.418419Z",
     "iopub.status.idle": "2021-06-26T16:35:46.541601Z",
     "shell.execute_reply": "2021-06-26T16:35:46.540815Z",
     "shell.execute_reply.started": "2021-06-26T16:35:40.418687Z"
    }
   },
   "outputs": [],
   "source": [
    "## Search for an optimal value of k for KNN.\n",
    "k_range = range(1,31)\n",
    "k_scores = []\n",
    "for k in k_range:\n",
    "    knn = KNeighborsClassifier(n_neighbors=k)\n",
    "    scores = cross_val_score(knn, X,y, cv = cv, scoring = 'accuracy')\n",
    "    k_scores.append(scores.mean())\n",
    "print(\"Accuracy scores are: {}\\n\".format(k_scores))\n",
    "print (\"Mean accuracy score: {}\".format(np.mean(k_scores)))\n"
   ]
  },
  {
   "cell_type": "code",
   "execution_count": 0,
   "metadata": {
    "_uuid": "e123680b431ba99d399fa8205c32bcfdc7cabd81",
    "application/vnd.databricks.v1+cell": {
     "cellMetadata": {},
     "inputWidgets": {},
     "nuid": "a4b970b2-bdd2-4cb8-81d9-da857764aae9",
     "showTitle": false,
     "title": ""
    },
    "execution": {
     "iopub.execute_input": "2021-06-26T16:35:46.543234Z",
     "iopub.status.busy": "2021-06-26T16:35:46.542789Z",
     "iopub.status.idle": "2021-06-26T16:35:46.685143Z",
     "shell.execute_reply": "2021-06-26T16:35:46.684141Z",
     "shell.execute_reply.started": "2021-06-26T16:35:46.543184Z"
    }
   },
   "outputs": [],
   "source": [
    "from matplotlib import pyplot as plt\n",
    "plt.plot(k_range, k_scores)"
   ]
  },
  {
   "cell_type": "markdown",
   "metadata": {
    "_uuid": "77b5b6e3b7bc925e0b008cd6d531175e5cc44040",
    "application/vnd.databricks.v1+cell": {
     "cellMetadata": {},
     "inputWidgets": {},
     "nuid": "9010cccf-deb5-496f-8fc4-02771e47799b",
     "showTitle": false,
     "title": ""
    }
   },
   "source": [
    "### Grid search on KNN classifier"
   ]
  },
  {
   "cell_type": "code",
   "execution_count": 0,
   "metadata": {
    "_uuid": "507e2a7cdb28a47be45ed247f1343c123a6b592b",
    "application/vnd.databricks.v1+cell": {
     "cellMetadata": {},
     "inputWidgets": {},
     "nuid": "fcef33cc-e803-4247-99b4-76156c8c15d5",
     "showTitle": false,
     "title": ""
    },
    "execution": {
     "iopub.execute_input": "2021-06-26T16:35:46.687026Z",
     "iopub.status.busy": "2021-06-26T16:35:46.686671Z",
     "iopub.status.idle": "2021-06-26T16:35:55.465245Z",
     "shell.execute_reply": "2021-06-26T16:35:55.464452Z",
     "shell.execute_reply.started": "2021-06-26T16:35:46.686956Z"
    }
   },
   "outputs": [],
   "source": [
    "from sklearn.model_selection import GridSearchCV\n",
    "## trying out multiple values for k\n",
    "k_range = range(1,31)\n",
    "## \n",
    "weights_options=['uniform','distance']\n",
    "# \n",
    "param = {'n_neighbors':k_range, 'weights':weights_options}\n",
    "## Using startifiedShufflesplit. \n",
    "cv = StratifiedShuffleSplit(n_splits=10, test_size=.30, random_state=15)\n",
    "# estimator = knn, param_grid = param, n_jobs = -1 to instruct scikit learn to use all available processors. \n",
    "grid = GridSearchCV(KNeighborsClassifier(), param,cv=cv,verbose = False, n_jobs=-1)\n",
    "## Fitting the model. \n",
    "grid.fit(X,y)"
   ]
  },
  {
   "cell_type": "code",
   "execution_count": 0,
   "metadata": {
    "_uuid": "c710770daa6cf327dcc28e18b3ed180fabecd49b",
    "application/vnd.databricks.v1+cell": {
     "cellMetadata": {},
     "inputWidgets": {},
     "nuid": "8a1f48aa-3d35-4851-9edd-ac0a4547fa0c",
     "showTitle": false,
     "title": ""
    },
    "execution": {
     "iopub.execute_input": "2021-06-26T16:35:55.466929Z",
     "iopub.status.busy": "2021-06-26T16:35:55.466654Z",
     "iopub.status.idle": "2021-06-26T16:35:55.475348Z",
     "shell.execute_reply": "2021-06-26T16:35:55.474575Z",
     "shell.execute_reply.started": "2021-06-26T16:35:55.466883Z"
    }
   },
   "outputs": [],
   "source": [
    "print(grid.best_score_)\n",
    "print(grid.best_params_)\n",
    "print(grid.best_estimator_)"
   ]
  },
  {
   "cell_type": "markdown",
   "metadata": {
    "_uuid": "bb06144264d3127c92169aed7c29c2f66ad0ffc4",
    "application/vnd.databricks.v1+cell": {
     "cellMetadata": {},
     "inputWidgets": {},
     "nuid": "d1aa9112-c732-4ec6-b215-0e9c94d50281",
     "showTitle": false,
     "title": ""
    }
   },
   "source": [
    "#### Using best estimator from grid search using KNN."
   ]
  },
  {
   "cell_type": "code",
   "execution_count": 0,
   "metadata": {
    "_uuid": "dd1fbf223c4ec9db65dde4924e2827e46029da1a",
    "application/vnd.databricks.v1+cell": {
     "cellMetadata": {},
     "inputWidgets": {},
     "nuid": "38069127-31c4-4fff-bcb4-7db8768d5a74",
     "showTitle": false,
     "title": ""
    },
    "execution": {
     "iopub.execute_input": "2021-06-26T16:35:55.477181Z",
     "iopub.status.busy": "2021-06-26T16:35:55.476629Z",
     "iopub.status.idle": "2021-06-26T16:35:55.555736Z",
     "shell.execute_reply": "2021-06-26T16:35:55.554788Z",
     "shell.execute_reply.started": "2021-06-26T16:35:55.476983Z"
    }
   },
   "outputs": [],
   "source": [
    "### Using the best parameters from the grid-search.\n",
    "knn_grid= grid.best_estimator_\n",
    "knn_grid.score(X,y)"
   ]
  },
  {
   "cell_type": "markdown",
   "metadata": {
    "_uuid": "c2ebec8b83f23e3e27d23bdd707852269edd4d24",
    "application/vnd.databricks.v1+cell": {
     "cellMetadata": {},
     "inputWidgets": {},
     "nuid": "fe532950-bc83-463d-ada2-d2613bab06d8",
     "showTitle": false,
     "title": ""
    }
   },
   "source": [
    "#### Using RandomizedSearchCV\n",
    "Randomized search is a close cousin of grid search. It doesn't  always provide the best result but its fast."
   ]
  },
  {
   "cell_type": "code",
   "execution_count": 0,
   "metadata": {
    "_uuid": "e159b267a57d7519fc0ee8b3d1e95b841d3daf60",
    "application/vnd.databricks.v1+cell": {
     "cellMetadata": {},
     "inputWidgets": {},
     "nuid": "07a2513e-93c6-495c-9f91-c29a720f6985",
     "showTitle": false,
     "title": ""
    },
    "execution": {
     "iopub.execute_input": "2021-06-26T16:35:55.557501Z",
     "iopub.status.busy": "2021-06-26T16:35:55.557097Z",
     "iopub.status.idle": "2021-06-26T16:36:02.332003Z",
     "shell.execute_reply": "2021-06-26T16:36:02.331364Z",
     "shell.execute_reply.started": "2021-06-26T16:35:55.557338Z"
    }
   },
   "outputs": [],
   "source": [
    "from sklearn.model_selection import RandomizedSearchCV\n",
    "## trying out multiple values for k\n",
    "k_range = range(1,31)\n",
    "## \n",
    "weights_options=['uniform','distance']\n",
    "# \n",
    "param = {'n_neighbors':k_range, 'weights':weights_options}\n",
    "## Using startifiedShufflesplit. \n",
    "cv = StratifiedShuffleSplit(n_splits=10, test_size=.30)\n",
    "# estimator = knn, param_grid = param, n_jobs = -1 to instruct scikit learn to use all available processors. \n",
    "## for RandomizedSearchCV, \n",
    "grid = RandomizedSearchCV(KNeighborsClassifier(), param,cv=cv,verbose = False, n_jobs=-1, n_iter=40)\n",
    "## Fitting the model. \n",
    "grid.fit(X,y)"
   ]
  },
  {
   "cell_type": "code",
   "execution_count": 0,
   "metadata": {
    "_uuid": "c58492525dd18659ef9f9c774ee7601a55e96f36",
    "application/vnd.databricks.v1+cell": {
     "cellMetadata": {},
     "inputWidgets": {},
     "nuid": "38fed729-01ce-49a9-b081-378a9efdda47",
     "showTitle": false,
     "title": ""
    },
    "execution": {
     "iopub.execute_input": "2021-06-26T16:36:02.333632Z",
     "iopub.status.busy": "2021-06-26T16:36:02.333341Z",
     "iopub.status.idle": "2021-06-26T16:36:02.340211Z",
     "shell.execute_reply": "2021-06-26T16:36:02.338113Z",
     "shell.execute_reply.started": "2021-06-26T16:36:02.333572Z"
    }
   },
   "outputs": [],
   "source": [
    "print (grid.best_score_)\n",
    "print (grid.best_params_)\n",
    "print(grid.best_estimator_)"
   ]
  },
  {
   "cell_type": "code",
   "execution_count": 0,
   "metadata": {
    "_uuid": "6fb31588585d50de773ba0db6c378363841a5313",
    "application/vnd.databricks.v1+cell": {
     "cellMetadata": {},
     "inputWidgets": {},
     "nuid": "ce2159cf-fcf7-48ad-a68b-9061a6cb92b5",
     "showTitle": false,
     "title": ""
    },
    "execution": {
     "iopub.execute_input": "2021-06-26T16:36:02.343117Z",
     "iopub.status.busy": "2021-06-26T16:36:02.34256Z",
     "iopub.status.idle": "2021-06-26T16:36:02.420683Z",
     "shell.execute_reply": "2021-06-26T16:36:02.419712Z",
     "shell.execute_reply.started": "2021-06-26T16:36:02.342922Z"
    }
   },
   "outputs": [],
   "source": [
    "### Using the best parameters from the grid-search.\n",
    "knn_ran_grid = grid.best_estimator_\n",
    "knn_ran_grid.score(X,y)"
   ]
  },
  {
   "cell_type": "markdown",
   "metadata": {
    "_cell_guid": "be0143d6-a7ea-4752-9520-c692f4c3eb8a",
    "_uuid": "21e91edd53b6587d5a05036045bc5eea52f056da",
    "application/vnd.databricks.v1+cell": {
     "cellMetadata": {},
     "inputWidgets": {},
     "nuid": "37184da6-f4e5-44b6-b4b6-1390b075c5f2",
     "showTitle": false,
     "title": ""
    }
   },
   "source": [
    "## Gaussian Naive Bayes\n",
    "<a id=\"gaussian_naive\"></a>\n",
    "***"
   ]
  },
  {
   "cell_type": "code",
   "execution_count": 0,
   "metadata": {
    "_uuid": "8b2435030dbef1303bfc2864d227f5918f359330",
    "application/vnd.databricks.v1+cell": {
     "cellMetadata": {},
     "inputWidgets": {},
     "nuid": "1ec46e8f-5313-4589-b8d1-9630debd456e",
     "showTitle": false,
     "title": ""
    },
    "execution": {
     "iopub.execute_input": "2021-06-26T16:36:02.422487Z",
     "iopub.status.busy": "2021-06-26T16:36:02.421997Z",
     "iopub.status.idle": "2021-06-26T16:36:02.433216Z",
     "shell.execute_reply": "2021-06-26T16:36:02.43234Z",
     "shell.execute_reply.started": "2021-06-26T16:36:02.422237Z"
    }
   },
   "outputs": [],
   "source": [
    "# Gaussian Naive Bayes\n",
    "from sklearn.naive_bayes import GaussianNB\n",
    "from sklearn.metrics import accuracy_score\n",
    "\n",
    "gaussian = GaussianNB()\n",
    "gaussian.fit(X, y)\n",
    "y_pred = gaussian.predict(X_test)\n",
    "gaussian_accy = round(accuracy_score(y_pred, y_test), 3)\n",
    "print(gaussian_accy)"
   ]
  },
  {
   "cell_type": "markdown",
   "metadata": {
    "_cell_guid": "c3e025c5-50f3-4fa1-a385-438d6665199b",
    "_uuid": "2a1558118d9e673395246acc4f3c0edb1b1895f0",
    "application/vnd.databricks.v1+cell": {
     "cellMetadata": {},
     "inputWidgets": {},
     "nuid": "38fe2f59-9325-40d2-9692-db774e111b26",
     "showTitle": false,
     "title": ""
    }
   },
   "source": [
    "## Support Vector Machines(SVM)\n",
    "<a id=\"svm\"></a>\n",
    "***"
   ]
  },
  {
   "cell_type": "code",
   "execution_count": 0,
   "metadata": {
    "_uuid": "56895672215b0b6365c6aaa10e446216ef635f53",
    "application/vnd.databricks.v1+cell": {
     "cellMetadata": {},
     "inputWidgets": {},
     "nuid": "adbe5c8c-a622-497c-9143-326ad2d1afd9",
     "showTitle": false,
     "title": ""
    },
    "execution": {
     "iopub.execute_input": "2021-06-26T16:36:02.435838Z",
     "iopub.status.busy": "2021-06-26T16:36:02.435282Z",
     "iopub.status.idle": "2021-06-26T16:37:25.882123Z",
     "shell.execute_reply": "2021-06-26T16:37:25.881483Z",
     "shell.execute_reply.started": "2021-06-26T16:36:02.435553Z"
    }
   },
   "outputs": [],
   "source": [
    "from sklearn.svm import SVC\n",
    "Cs = [0.001, 0.01, 0.1, 1,1.5,2,2.5,3,4,5, 10] ## penalty parameter C for the error term. \n",
    "gammas = [0.0001,0.001, 0.01, 0.1, 1]\n",
    "param_grid = {'C': Cs, 'gamma' : gammas}\n",
    "cv = StratifiedShuffleSplit(n_splits=10, test_size=.30, random_state=15)\n",
    "grid_search = GridSearchCV(SVC(kernel = 'rbf', probability=True), param_grid, cv=cv) ## 'rbf' stands for gaussian kernel\n",
    "grid_search.fit(X,y)"
   ]
  },
  {
   "cell_type": "code",
   "execution_count": 0,
   "metadata": {
    "_uuid": "4108264ea5d18e3d3fa38a30584a032c734d6d49",
    "application/vnd.databricks.v1+cell": {
     "cellMetadata": {},
     "inputWidgets": {},
     "nuid": "c871dc6e-534e-446b-9186-2323cfc75ede",
     "showTitle": false,
     "title": ""
    },
    "execution": {
     "iopub.execute_input": "2021-06-26T16:37:25.8839Z",
     "iopub.status.busy": "2021-06-26T16:37:25.883609Z",
     "iopub.status.idle": "2021-06-26T16:37:25.890029Z",
     "shell.execute_reply": "2021-06-26T16:37:25.889244Z",
     "shell.execute_reply.started": "2021-06-26T16:37:25.883852Z"
    }
   },
   "outputs": [],
   "source": [
    "print(grid_search.best_score_)\n",
    "print(grid_search.best_params_)\n",
    "print(grid_search.best_estimator_)"
   ]
  },
  {
   "cell_type": "code",
   "execution_count": 0,
   "metadata": {
    "_uuid": "db18a3b5475f03b21a039e31e4962c43f7caffdc",
    "application/vnd.databricks.v1+cell": {
     "cellMetadata": {},
     "inputWidgets": {},
     "nuid": "17fc0bc8-73e4-4d3a-ae58-f813ba8af6d1",
     "showTitle": false,
     "title": ""
    },
    "execution": {
     "iopub.execute_input": "2021-06-26T16:37:25.892123Z",
     "iopub.status.busy": "2021-06-26T16:37:25.891542Z",
     "iopub.status.idle": "2021-06-26T16:37:25.934216Z",
     "shell.execute_reply": "2021-06-26T16:37:25.933352Z",
     "shell.execute_reply.started": "2021-06-26T16:37:25.892073Z"
    }
   },
   "outputs": [],
   "source": [
    "# using the best found hyper paremeters to get the score. \n",
    "svm_grid = grid_search.best_estimator_\n",
    "svm_grid.score(X,y)"
   ]
  },
  {
   "cell_type": "markdown",
   "metadata": {
    "application/vnd.databricks.v1+cell": {
     "cellMetadata": {},
     "inputWidgets": {},
     "nuid": "44a64d02-87c6-48e9-8653-88704e313d80",
     "showTitle": false,
     "title": ""
    }
   },
   "source": [
    "## Decision Tree Classifier\n",
    "\n",
    "Decision tree works by breaking down the dataset into small subsets. This breaking down process is done by asking questions about the features of the datasets. The idea is to unmix the labels by asking fewer questions necessary. As we ask questions, we are breaking down the dataset into more subsets. Once we have a subgroup with only the unique type of labels, we end the tree in that node. If you would like to get a detailed understanding of Decision tree classifier, please take a look at [this](https://www.kaggle.com/masumrumi/decision-tree-with-titanic-dataset) kernel."
   ]
  },
  {
   "cell_type": "code",
   "execution_count": 0,
   "metadata": {
    "_cell_guid": "38c90de9-d2e9-4341-a378-a854762d8be2",
    "_uuid": "18efb62b713591d1512010536ff10d9f6a91ec11",
    "application/vnd.databricks.v1+cell": {
     "cellMetadata": {},
     "inputWidgets": {},
     "nuid": "fb794433-1c22-4694-8e88-07c4bafca1ff",
     "showTitle": false,
     "title": ""
    },
    "execution": {
     "iopub.execute_input": "2021-06-26T16:37:25.936111Z",
     "iopub.status.busy": "2021-06-26T16:37:25.935654Z",
     "iopub.status.idle": "2021-06-26T16:37:57.983942Z",
     "shell.execute_reply": "2021-06-26T16:37:57.983035Z",
     "shell.execute_reply.started": "2021-06-26T16:37:25.935918Z"
    }
   },
   "outputs": [],
   "source": [
    "from sklearn.tree import DecisionTreeClassifier\n",
    "max_depth = range(1,30)\n",
    "max_feature = [21,22,23,24,25,26,28,29,30,'auto']\n",
    "criterion=[\"entropy\", \"gini\"]\n",
    "\n",
    "param = {'max_depth':max_depth, \n",
    "         'max_features':max_feature, \n",
    "         'criterion': criterion}\n",
    "grid = GridSearchCV(DecisionTreeClassifier(), \n",
    "                                param_grid = param, \n",
    "                                 verbose=False, \n",
    "                                 cv=StratifiedKFold(n_splits=20, random_state=15, shuffle=True),\n",
    "                                n_jobs = -1)\n",
    "grid.fit(X, y) "
   ]
  },
  {
   "cell_type": "code",
   "execution_count": 0,
   "metadata": {
    "_cell_guid": "b2222e4e-f5f2-4601-b95f-506d7811610a",
    "_uuid": "b0fb5055e6b4a7fb69ef44f669c4df693ce46212",
    "application/vnd.databricks.v1+cell": {
     "cellMetadata": {},
     "inputWidgets": {},
     "nuid": "6fa75635-3435-49ba-9e8f-d518aa01412a",
     "showTitle": false,
     "title": ""
    },
    "execution": {
     "iopub.execute_input": "2021-06-26T16:37:57.988346Z",
     "iopub.status.busy": "2021-06-26T16:37:57.988045Z",
     "iopub.status.idle": "2021-06-26T16:37:57.994617Z",
     "shell.execute_reply": "2021-06-26T16:37:57.993662Z",
     "shell.execute_reply.started": "2021-06-26T16:37:57.988287Z"
    },
    "scrolled": true
   },
   "outputs": [],
   "source": [
    "print( grid.best_params_)\n",
    "print (grid.best_score_)\n",
    "print (grid.best_estimator_)"
   ]
  },
  {
   "cell_type": "code",
   "execution_count": 0,
   "metadata": {
    "_cell_guid": "d731079a-31b4-429a-8445-48597bb2639d",
    "_uuid": "76c26437d374442826ef140574c5c4880ae1e853",
    "application/vnd.databricks.v1+cell": {
     "cellMetadata": {},
     "inputWidgets": {},
     "nuid": "0f1a7835-8779-4d2f-a45b-243f6f269b21",
     "showTitle": false,
     "title": ""
    },
    "execution": {
     "iopub.execute_input": "2021-06-26T16:37:57.996876Z",
     "iopub.status.busy": "2021-06-26T16:37:57.996238Z",
     "iopub.status.idle": "2021-06-26T16:37:58.010892Z",
     "shell.execute_reply": "2021-06-26T16:37:58.010194Z",
     "shell.execute_reply.started": "2021-06-26T16:37:57.996695Z"
    }
   },
   "outputs": [],
   "source": [
    "dectree_grid = grid.best_estimator_\n",
    "## using the best found hyper paremeters to get the score. \n",
    "dectree_grid.score(X,y)"
   ]
  },
  {
   "cell_type": "markdown",
   "metadata": {
    "application/vnd.databricks.v1+cell": {
     "cellMetadata": {},
     "inputWidgets": {},
     "nuid": "f18aabc9-5ed6-46d0-8a7d-7c5ad29e7bc0",
     "showTitle": false,
     "title": ""
    }
   },
   "source": [
    "<h4> Let's look at the feature importance from decision tree grid.</h4>"
   ]
  },
  {
   "cell_type": "code",
   "execution_count": 0,
   "metadata": {
    "application/vnd.databricks.v1+cell": {
     "cellMetadata": {},
     "inputWidgets": {},
     "nuid": "00e5492b-9d24-4e07-b944-535d1438ae79",
     "showTitle": false,
     "title": ""
    },
    "execution": {
     "iopub.execute_input": "2021-06-26T16:37:58.013756Z",
     "iopub.status.busy": "2021-06-26T16:37:58.01221Z",
     "iopub.status.idle": "2021-06-26T16:37:58.034194Z",
     "shell.execute_reply": "2021-06-26T16:37:58.033436Z",
     "shell.execute_reply.started": "2021-06-26T16:37:58.013683Z"
    }
   },
   "outputs": [],
   "source": [
    "## feature importance\n",
    "feature_importances = pd.DataFrame(dectree_grid.feature_importances_,\n",
    "                                   index = column_names,\n",
    "                                    columns=['importance'])\n",
    "feature_importances.sort_values(by='importance', ascending=False).head(10)"
   ]
  },
  {
   "cell_type": "markdown",
   "metadata": {
    "application/vnd.databricks.v1+cell": {
     "cellMetadata": {},
     "inputWidgets": {},
     "nuid": "9f1f9707-5916-4918-9b33-8b2511466e99",
     "showTitle": false,
     "title": ""
    }
   },
   "source": [
    "These are the top 10 features determined by **Decision Tree** helped classifing the fates of many passenger on Titanic on that night."
   ]
  },
  {
   "cell_type": "markdown",
   "metadata": {
    "application/vnd.databricks.v1+cell": {
     "cellMetadata": {},
     "inputWidgets": {},
     "nuid": "5b00bfb7-ed7d-4bc8-8be9-e867773f42ba",
     "showTitle": false,
     "title": ""
    }
   },
   "source": [
    "## 7f. Random Forest Classifier\n",
    "<a id=\"random_forest\"></a>"
   ]
  },
  {
   "cell_type": "markdown",
   "metadata": {
    "application/vnd.databricks.v1+cell": {
     "cellMetadata": {},
     "inputWidgets": {},
     "nuid": "68217d68-1f94-4847-b520-844260383310",
     "showTitle": false,
     "title": ""
    }
   },
   "source": [
    "I admire working with decision trees because of the potential and basics they provide towards building a more complex model like Random Forest(RF). RF is an ensemble method (combination of many decision trees) which is where the \"forest\" part comes in. One crucial details about Random Forest is that while using a forest of decision trees, RF model <b>takes random subsets of the original dataset(bootstrapped)</b> and <b>random subsets of the variables(features/columns)</b>. Using this method, the RF model creates 100's-1000's(the amount can be menually determined) of a wide variety of decision trees. This variety makes the RF model more effective and accurate. We then run each test data point through all of these 100's to 1000's of decision trees or the RF model and take a vote on the output."
   ]
  },
  {
   "cell_type": "code",
   "execution_count": 0,
   "metadata": {
    "application/vnd.databricks.v1+cell": {
     "cellMetadata": {},
     "inputWidgets": {},
     "nuid": "a5598c25-da8a-4209-b572-1d7a6755afa5",
     "showTitle": false,
     "title": ""
    },
    "execution": {
     "iopub.execute_input": "2021-06-26T16:37:58.040453Z",
     "iopub.status.busy": "2021-06-26T16:37:58.038063Z",
     "iopub.status.idle": "2021-06-26T16:39:53.557817Z",
     "shell.execute_reply": "2021-06-26T16:39:53.556973Z",
     "shell.execute_reply.started": "2021-06-26T16:37:58.040398Z"
    }
   },
   "outputs": [],
   "source": [
    "from sklearn.model_selection import GridSearchCV, StratifiedKFold, StratifiedShuffleSplit\n",
    "from sklearn.ensemble import RandomForestClassifier\n",
    "n_estimators = [140,145,150,155,160];\n",
    "max_depth = range(1,10);\n",
    "criterions = ['gini', 'entropy'];\n",
    "cv = StratifiedShuffleSplit(n_splits=10, test_size=.30, random_state=15)\n",
    "\n",
    "\n",
    "parameters = {'n_estimators':n_estimators,\n",
    "              'max_depth':max_depth,\n",
    "              'criterion': criterions\n",
    "              \n",
    "        }\n",
    "grid = GridSearchCV(estimator=RandomForestClassifier(max_features='auto'),\n",
    "                                 param_grid=parameters,\n",
    "                                 cv=cv,\n",
    "                                 n_jobs = -1)\n",
    "grid.fit(X,y) "
   ]
  },
  {
   "cell_type": "code",
   "execution_count": 0,
   "metadata": {
    "application/vnd.databricks.v1+cell": {
     "cellMetadata": {},
     "inputWidgets": {},
     "nuid": "0c89c02e-2da9-48c9-b2fd-e9762eac1d1d",
     "showTitle": false,
     "title": ""
    },
    "execution": {
     "iopub.execute_input": "2021-06-26T16:39:53.559492Z",
     "iopub.status.busy": "2021-06-26T16:39:53.559192Z",
     "iopub.status.idle": "2021-06-26T16:39:53.567897Z",
     "shell.execute_reply": "2021-06-26T16:39:53.56675Z",
     "shell.execute_reply.started": "2021-06-26T16:39:53.559434Z"
    }
   },
   "outputs": [],
   "source": [
    "print (grid.best_score_)\n",
    "print (grid.best_params_)\n",
    "print (grid.best_estimator_)"
   ]
  },
  {
   "cell_type": "code",
   "execution_count": 0,
   "metadata": {
    "application/vnd.databricks.v1+cell": {
     "cellMetadata": {},
     "inputWidgets": {},
     "nuid": "55364e7f-ed09-4ca8-a27a-3be7e486f2ae",
     "showTitle": false,
     "title": ""
    },
    "execution": {
     "iopub.execute_input": "2021-06-26T16:39:53.570209Z",
     "iopub.status.busy": "2021-06-26T16:39:53.56951Z",
     "iopub.status.idle": "2021-06-26T16:39:53.600458Z",
     "shell.execute_reply": "2021-06-26T16:39:53.599531Z",
     "shell.execute_reply.started": "2021-06-26T16:39:53.569928Z"
    }
   },
   "outputs": [],
   "source": [
    "rf_grid = grid.best_estimator_\n",
    "rf_grid.score(X,y)"
   ]
  },
  {
   "cell_type": "code",
   "execution_count": 0,
   "metadata": {
    "_kg_hide-input": true,
    "application/vnd.databricks.v1+cell": {
     "cellMetadata": {},
     "inputWidgets": {},
     "nuid": "1a7b6bb3-4aa0-4fd5-b7fa-27d6eb92b4e8",
     "showTitle": false,
     "title": ""
    },
    "execution": {
     "iopub.execute_input": "2021-06-26T16:39:53.602628Z",
     "iopub.status.busy": "2021-06-26T16:39:53.602028Z",
     "iopub.status.idle": "2021-06-26T16:39:53.613347Z",
     "shell.execute_reply": "2021-06-26T16:39:53.612229Z",
     "shell.execute_reply.started": "2021-06-26T16:39:53.602297Z"
    }
   },
   "outputs": [],
   "source": [
    "from sklearn.metrics import classification_report\n",
    "# Print classification report for y_test\n",
    "print(classification_report(y_test, y_pred, labels=rf_grid.classes_))"
   ]
  },
  {
   "cell_type": "markdown",
   "metadata": {
    "application/vnd.databricks.v1+cell": {
     "cellMetadata": {},
     "inputWidgets": {},
     "nuid": "f4b7bb07-3309-486b-8003-aadba9f6bdcb",
     "showTitle": false,
     "title": ""
    }
   },
   "source": [
    "## Feature Importance"
   ]
  },
  {
   "cell_type": "code",
   "execution_count": 0,
   "metadata": {
    "_kg_hide-input": true,
    "application/vnd.databricks.v1+cell": {
     "cellMetadata": {},
     "inputWidgets": {},
     "nuid": "45c7901f-0832-4d07-983c-b24bd76a184c",
     "showTitle": false,
     "title": ""
    },
    "execution": {
     "iopub.execute_input": "2021-06-26T16:39:53.615537Z",
     "iopub.status.busy": "2021-06-26T16:39:53.614947Z",
     "iopub.status.idle": "2021-06-26T16:39:53.637392Z",
     "shell.execute_reply": "2021-06-26T16:39:53.63647Z",
     "shell.execute_reply.started": "2021-06-26T16:39:53.615192Z"
    }
   },
   "outputs": [],
   "source": [
    "## feature importance\n",
    "feature_importances = pd.DataFrame(rf_grid.feature_importances_,\n",
    "                                   index = column_names,\n",
    "                                    columns=['importance'])\n",
    "feature_importances.sort_values(by='importance', ascending=False).head(10)"
   ]
  },
  {
   "cell_type": "markdown",
   "metadata": {
    "application/vnd.databricks.v1+cell": {
     "cellMetadata": {},
     "inputWidgets": {},
     "nuid": "b4e80644-6ef6-43a8-9674-8fce78299fef",
     "showTitle": false,
     "title": ""
    }
   },
   "source": [
    "<h3>Why Random Forest?(Pros and Cons)</h3>"
   ]
  },
  {
   "cell_type": "markdown",
   "metadata": {
    "_cell_guid": "9c4c43f6-42c4-4cd3-a038-3f0c37f3c767",
    "_uuid": "aba2679da04529faf9f9175ab20a66ee71217f92",
    "application/vnd.databricks.v1+cell": {
     "cellMetadata": {},
     "inputWidgets": {},
     "nuid": "cf958aa8-5719-481b-85dc-c03188c806c8",
     "showTitle": false,
     "title": ""
    }
   },
   "source": [
    "***\n",
    "<h2>Introducing Ensemble Learning</h2>\n",
    "In statistics and machine learning, ensemble methods use multiple learning algorithms to obtain better predictive performance than could be obtained from any of the constituent learning algorithms alone. \n",
    "\n",
    "There are two types of ensemple learnings. \n",
    "\n",
    "**Bagging/Averaging Methods**\n",
    "> In averaging methods, the driving principle is to build several estimators independently and then to average their predictions. On average, the combined estimator is usually better than any of the single base estimator because its variance is reduced.\n",
    "\n",
    "**Boosting Methods**\n",
    "> The other family of ensemble methods are boosting methods, where base estimators are built sequentially and one tries to reduce the bias of the combined estimator. The motivation is to combine several weak models to produce a powerful ensemble.\n",
    "\n",
    "<h4 align=\"right\">Source:GA</h4>\n",
    "\n",
    "Resource: <a href=\"https://towardsdatascience.com/ensemble-methods-bagging-boosting-and-stacking-c9214a10a205\">Ensemble methods: bagging, boosting and stacking</a>\n",
    "***\n",
    "## 7g. Bagging Classifier\n",
    "<a id=\"bagging\"></a>\n",
    "***"
   ]
  },
  {
   "cell_type": "markdown",
   "metadata": {
    "application/vnd.databricks.v1+cell": {
     "cellMetadata": {},
     "inputWidgets": {},
     "nuid": "07ddcbfc-3b75-414f-a872-2eeea15277b1",
     "showTitle": false,
     "title": ""
    }
   },
   "source": [
    "<a href=\"https://scikit-learn.org/stable/modules/generated/sklearn.ensemble.BaggingClassifier.html\">Bagging Classifier</a>(Bootstrap Aggregating) is the ensemble method that involves manipulating the training set by resampling and running algorithms on it. Let's do a quick review:\n",
    "* Bagging classifier uses a process called bootstrapped dataset to create multiple datasets from one original dataset and runs algorithm on each one of them. Here is an image to show how bootstrapped dataset works. \n",
    "<img src=\"https://uc-r.github.io/public/images/analytics/bootstrap/bootstrap.png\" width=\"600\">\n",
    "<h4 align=\"center\">Resampling from original dataset to bootstrapped datasets</h4>\n",
    "<h4 align=\"right\">Source: https://uc-r.github.io</h4>\n",
    "\n",
    "\n",
    "* After running a learning algorithm on each one of the bootstrapped datasets, all models are combined by taking their average. the test data/new data then go through this averaged classifier/combined classifier and predict the output. \n",
    "\n",
    "Here is an image to make it clear on how bagging works, \n",
    "<img src=\"https://prachimjoshi.files.wordpress.com/2015/07/screen_shot_2010-12-03_at_5-46-21_pm.png\" width=\"600\">\n",
    "<h4 align=\"right\">Source: https://prachimjoshi.files.wordpress.com</h4>\n",
    "Please check out [this](https://www.kaggle.com/masumrumi/bagging-with-titanic-dataset) kernel if you want to find out more about bagging classifier."
   ]
  },
  {
   "cell_type": "code",
   "execution_count": 0,
   "metadata": {
    "application/vnd.databricks.v1+cell": {
     "cellMetadata": {},
     "inputWidgets": {},
     "nuid": "9435ed87-574e-4965-b516-09d7313b1bc9",
     "showTitle": false,
     "title": ""
    },
    "execution": {
     "iopub.execute_input": "2021-06-26T16:39:53.639198Z",
     "iopub.status.busy": "2021-06-26T16:39:53.63871Z",
     "iopub.status.idle": "2021-06-26T16:40:17.162923Z",
     "shell.execute_reply": "2021-06-26T16:40:17.162277Z",
     "shell.execute_reply.started": "2021-06-26T16:39:53.638945Z"
    }
   },
   "outputs": [],
   "source": [
    "from sklearn.ensemble import BaggingClassifier\n",
    "n_estimators = [10,30,50,70,80,150,160, 170,175,180,185];\n",
    "cv = StratifiedShuffleSplit(n_splits=10, test_size=.30, random_state=15)\n",
    "\n",
    "parameters = {'n_estimators':n_estimators,\n",
    "              \n",
    "        }\n",
    "grid = GridSearchCV(BaggingClassifier(base_estimator= None, ## If None, then the base estimator is a decision tree.\n",
    "                                      bootstrap_features=False),\n",
    "                                 param_grid=parameters,\n",
    "                                 cv=cv,\n",
    "                                 n_jobs = -1)\n",
    "grid.fit(X,y) "
   ]
  },
  {
   "cell_type": "code",
   "execution_count": 0,
   "metadata": {
    "application/vnd.databricks.v1+cell": {
     "cellMetadata": {},
     "inputWidgets": {},
     "nuid": "51353fb5-4cd9-431c-909f-fe710e135d27",
     "showTitle": false,
     "title": ""
    },
    "execution": {
     "iopub.execute_input": "2021-06-26T16:40:17.164621Z",
     "iopub.status.busy": "2021-06-26T16:40:17.164322Z",
     "iopub.status.idle": "2021-06-26T16:40:17.172911Z",
     "shell.execute_reply": "2021-06-26T16:40:17.172302Z",
     "shell.execute_reply.started": "2021-06-26T16:40:17.164559Z"
    }
   },
   "outputs": [],
   "source": [
    "print (grid.best_score_)\n",
    "print (grid.best_params_)\n",
    "print (grid.best_estimator_)"
   ]
  },
  {
   "cell_type": "code",
   "execution_count": 0,
   "metadata": {
    "application/vnd.databricks.v1+cell": {
     "cellMetadata": {},
     "inputWidgets": {},
     "nuid": "0945be59-1d89-4fc6-92c2-ab26347a46da",
     "showTitle": false,
     "title": ""
    },
    "execution": {
     "iopub.execute_input": "2021-06-26T16:40:17.174968Z",
     "iopub.status.busy": "2021-06-26T16:40:17.174466Z",
     "iopub.status.idle": "2021-06-26T16:40:17.226122Z",
     "shell.execute_reply": "2021-06-26T16:40:17.225161Z",
     "shell.execute_reply.started": "2021-06-26T16:40:17.174765Z"
    }
   },
   "outputs": [],
   "source": [
    "bagging_grid = grid.best_estimator_\n",
    "bagging_grid.score(X,y)"
   ]
  },
  {
   "cell_type": "markdown",
   "metadata": {
    "application/vnd.databricks.v1+cell": {
     "cellMetadata": {},
     "inputWidgets": {},
     "nuid": "c31852d0-ed70-44ff-84eb-d960e9c14804",
     "showTitle": false,
     "title": ""
    }
   },
   "source": [
    "<h3>Why use Bagging? (Pros and cons)</h3>\n",
    "Bagging works best with strong and complex models(for example, fully developed decision trees). However, don't let that fool you to thinking that similar to a decision tree, bagging also overfits the model. Instead, bagging reduces overfitting since a lot of the sample training data are repeated and used to create base estimators. With a lot of equally likely training data, bagging is not very susceptible to overfitting with noisy data, therefore reduces variance. However, the downside is that this leads to an increase in bias."
   ]
  },
  {
   "cell_type": "markdown",
   "metadata": {
    "application/vnd.databricks.v1+cell": {
     "cellMetadata": {},
     "inputWidgets": {},
     "nuid": "19f0fb59-a023-40a0-b129-a2926a27528a",
     "showTitle": false,
     "title": ""
    }
   },
   "source": [
    "<h4>Random Forest VS. Bagging Classifier</h4>\n",
    "\n",
    "If some of you are like me, you may find Random Forest to be similar to Bagging Classifier. However, there is a fundamental difference between these two which is **Random Forests ability to pick subsets of features in each node.** I will elaborate on this in a future update."
   ]
  },
  {
   "cell_type": "markdown",
   "metadata": {
    "application/vnd.databricks.v1+cell": {
     "cellMetadata": {},
     "inputWidgets": {},
     "nuid": "35348fa7-d31a-496e-8e63-777bb3fce1d8",
     "showTitle": false,
     "title": ""
    }
   },
   "source": [
    "## 7h. AdaBoost Classifier\n",
    "<a id=\"AdaBoost\"></a>\n",
    "***\n",
    "AdaBoost is another <b>ensemble model</b> and is quite different than Bagging. Let's point out the core concepts. \n",
    "> AdaBoost combines a lot of \"weak learners\"(they are also called stump; a tree with only one node and two leaves) to make classifications.\n",
    "\n",
    "> This base model fitting is an iterative process where each stump is chained one after the other; <b>It cannot run in parallel.</b>\n",
    "\n",
    "> <b>Some stumps get more say in the final classifications than others.</b> The models use weights that are assigned to each data point/raw indicating their \"importance.\" Samples with higher weight have a higher influence on the total error of the next model and gets more priority. The first stump starts with uniformly distributed weight which means, in the beginning, every datapoint have an equal amount of weights. \n",
    "\n",
    "> <b>Each stump is made by talking the previous stump's mistakes into account.</b> After each iteration weights gets re-calculated in order to take the errors/misclassifications from the last stump into consideration. \n",
    "\n",
    "> The final prediction is typically constructed by a weighted vote where weights for each base model depends on their training errors or misclassification rates. \n",
    "\n",
    "To illustrate what we have talked about so far let's look at the following visualization. \n",
    "\n",
    "<img src=\"https://cdn-images-1.medium.com/max/1600/0*paPv7vXuq4eBHZY7.png\">\n",
    "<h5 align=\"right\"> Source: Diogo(Medium)</h5>\n",
    "\n",
    "\n",
    "\n",
    "\n",
    "Let's dive into each one of the nitty-gritty stuff about AdaBoost:\n",
    "***\n",
    "> <b>First</b>, we determine the best feature to split the dataset using Gini index(basics from decision tree). The feature with the lowest Gini index becomes the first stump in the AdaBoost stump chain(the lower the Gini index is, the better unmixed the label is, therefore, better split).\n",
    "***\n",
    "> <b>Secondly</b>, we need to determine how much say a stump will have in the final classification and how we can calculate that.\n",
    "* We learn how much say a stump has in the final classification by calculating how well it classified the samples (aka calculate the total error of the weight).\n",
    "* The <b>Total Error</b> for a stump is the sum of the weights associated with the incorrectly classified samples. For example, lets say, we start a stump with 10 datasets. The first stump will uniformly distribute an weight amoung all the datapoints. Which means each data point will have 1/10 weight. Let's say once the weight is distributed we run the model and find 2 incorrect predicitons. In order to calculate the total erorr we add up all the misclassified weights. Here we get 1/10 + 1/10 = 2/10 or 1/5. This is our total error. We can also think about it\n",
    "\n",
    "\n",
    "$$ \\epsilon_t = \\frac{\\text{misclassifications}_t}{\\text{observations}_t} $$\n",
    "\n",
    "\n",
    "* Since the weight is uniformly distributed(all add up to 1) among all data points, the total error will always be between 0(perfect stump) and 1(horrible stump).\n",
    "* We use the total error to determine the amount of say a stump has in the final classification using the following formula\n",
    " \n",
    "\n",
    "$$ \\alpha_t = \\frac{1}{2}ln \\left(\\frac{1-\\epsilon_t}{\\epsilon_t}\\right) \\text{where } \\epsilon_t < 1$$\n",
    "\n",
    "\n",
    "Where $\\epsilon_t$ is the misclassification rate for the current classifier:\n",
    "\n",
    "\n",
    "$$ \\epsilon_t = \\frac{\\text{misclassifications}_t}{\\text{observations}_t} $$\n",
    "\n",
    "\n",
    "Here...\n",
    "* $\\alpha_t$ = Amount of Say\n",
    "* $\\epsilon_t$ = Total error\n",
    "\n",
    "\n",
    "\n",
    "We can draw a graph to determine the amount of say using the value of total error(0 to 1)\n",
    "\n",
    "<img src=\"http://chrisjmccormick.files.wordpress.com/2013/12/adaboost_alphacurve.png\">\n",
    "<h5 align=\"right\"> Source: Chris McCormick</h5>\n",
    "\n",
    "* The blue line tells us the amount of say for <b>Total Error(Error rate)</b> between 0 and 1. \n",
    "* When the stump does a reasonably good job, and the <b>total error</b> is minimal, then the <b>amount of say(Alpha)</b> is relatively large, and the alpha value is positive. \n",
    "* When the stump does an average job(similar to a coin flip/the ratio of getting correct and incorrect ~50%/50%), then the <b>total error</b> is ~0.5. In this case the <b>amount of say</b> is <b>0</b>.\n",
    "* When the error rate is high let's say close to 1, then the <b>amount of say</b> will be negative, which means if the stump outputs a value as \"survived\" the included weight will turn that value into \"not survived.\"\n",
    "\n",
    "P.S. If the <b>Total Error</b> is 1 or 0, then this equation will freak out. A small amount of error is added to prevent this from happening. \n",
    " \n",
    " ***\n",
    "> <b>Third</b>, We need to learn how to modify the weights so that the next stump will take the errors that the current stump made into account. The pseducode for calculating the new sample weight is as follows. \n",
    "\n",
    "\n",
    "$$ New Sample Weight = Sample Weight + e^{\\alpha_t}$$\n",
    "\n",
    "Here the $\\alpha_t(AmountOfSay)$ can be positive or negative depending whether the sample was correctly classified or misclassified by the current stump. We want to increase the sample weight of the misclassified samples; hinting the next stump to put more emphasize on those. Inversely, we want to decrease the sample weight of the correctly classified samples; hinting the next stump to put less emphasize on those. \n",
    "\n",
    "The following equation help us to do this calculation. \n",
    "\n",
    "$$ D_{t+1}(i) = D_t(i) e^{-\\alpha_t y_i h_t(x_i)} $$\n",
    "\n",
    "Here, \n",
    "* $D_{t+1}(i)$ = New Sample Weight. \n",
    "* $D_t(i)$ = Current Sample weight.\n",
    "* $\\alpha_t$ = Amount of Say, alpha value, this is the coefficient that gets updated in each iteration and \n",
    "* $y_i h_t(x_i)$ = place holder for 1 if stump correctly classified, -1 if misclassified. \n",
    "\n",
    "Finally, we put together the combined classifier, which is \n",
    "\n",
    "$$ AdaBoost(X) = sign\\left(\\sum_{t=1}^T\\alpha_t h_t(X)\\right) $$ \n",
    "\n",
    "Here, \n",
    "\n",
    "$AdaBoost(X)$ is the classification predictions for $y$ using predictor matrix $X$\n",
    "\n",
    "$T$ is the set of \"weak learners\"\n",
    "\n",
    "$\\alpha_t$ is the contribution weight for weak learner $t$\n",
    "\n",
    "$h_t(X)$ is the prediction of weak learner $t$\n",
    "\n",
    "and $y$ is binary **with values -1 and 1**\n",
    "\n",
    "\n",
    "P.S. Since the stump barely captures essential specs about the dataset, the model is highly biased in the beginning. However, as the chain of stumps continues and at the end of the process, AdaBoost becomes a strong tree and reduces both bias and variance.\n",
    "\n",
    "<h3>Resources:</h3>\n",
    "<ul>\n",
    "    <li><a href=\"https://www.youtube.com/watch?v=LsK-xG1cLYA\">Statquest</a></li>\n",
    "    <li><a href=\"https://www.youtube.com/watch?v=-DUxtdeCiB4\">Principles of Machine Learning | AdaBoost(Video)</a></li>\n",
    "</ul>"
   ]
  },
  {
   "cell_type": "code",
   "execution_count": 0,
   "metadata": {
    "application/vnd.databricks.v1+cell": {
     "cellMetadata": {},
     "inputWidgets": {},
     "nuid": "4b0ed722-30dd-4fb9-8303-e35f2bee532f",
     "showTitle": false,
     "title": ""
    },
    "execution": {
     "iopub.execute_input": "2021-06-26T16:40:17.227822Z",
     "iopub.status.busy": "2021-06-26T16:40:17.227396Z",
     "iopub.status.idle": "2021-06-26T16:41:28.311627Z",
     "shell.execute_reply": "2021-06-26T16:41:28.311009Z",
     "shell.execute_reply.started": "2021-06-26T16:40:17.227656Z"
    }
   },
   "outputs": [],
   "source": [
    "from sklearn.ensemble import AdaBoostClassifier\n",
    "n_estimators = [100,140,145,150,160, 170,175,180,185];\n",
    "cv = StratifiedShuffleSplit(n_splits=10, test_size=.30, random_state=15)\n",
    "learning_r = [0.1,1,0.01,0.5]\n",
    "\n",
    "parameters = {'n_estimators':n_estimators,\n",
    "              'learning_rate':learning_r\n",
    "              \n",
    "        }\n",
    "grid = GridSearchCV(AdaBoostClassifier(base_estimator= None, ## If None, then the base estimator is a decision tree.\n",
    "                                     ),\n",
    "                                 param_grid=parameters,\n",
    "                                 cv=cv,\n",
    "                                 n_jobs = -1)\n",
    "grid.fit(X,y) "
   ]
  },
  {
   "cell_type": "code",
   "execution_count": 0,
   "metadata": {
    "application/vnd.databricks.v1+cell": {
     "cellMetadata": {},
     "inputWidgets": {},
     "nuid": "5fa9bccf-e464-4e30-865d-537a70c5cee3",
     "showTitle": false,
     "title": ""
    },
    "execution": {
     "iopub.execute_input": "2021-06-26T16:41:28.313135Z",
     "iopub.status.busy": "2021-06-26T16:41:28.31287Z",
     "iopub.status.idle": "2021-06-26T16:41:28.318909Z",
     "shell.execute_reply": "2021-06-26T16:41:28.318191Z",
     "shell.execute_reply.started": "2021-06-26T16:41:28.313088Z"
    }
   },
   "outputs": [],
   "source": [
    "print (grid.best_score_)\n",
    "print (grid.best_params_)\n",
    "print (grid.best_estimator_)"
   ]
  },
  {
   "cell_type": "code",
   "execution_count": 0,
   "metadata": {
    "application/vnd.databricks.v1+cell": {
     "cellMetadata": {},
     "inputWidgets": {},
     "nuid": "c79ce30f-1a31-4b66-9f06-81a57e2db3a6",
     "showTitle": false,
     "title": ""
    },
    "execution": {
     "iopub.execute_input": "2021-06-26T16:41:28.320845Z",
     "iopub.status.busy": "2021-06-26T16:41:28.320267Z",
     "iopub.status.idle": "2021-06-26T16:41:28.35912Z",
     "shell.execute_reply": "2021-06-26T16:41:28.358535Z",
     "shell.execute_reply.started": "2021-06-26T16:41:28.320797Z"
    }
   },
   "outputs": [],
   "source": [
    "adaBoost_grid = grid.best_estimator_\n",
    "adaBoost_grid.score(X,y)"
   ]
  },
  {
   "cell_type": "markdown",
   "metadata": {
    "application/vnd.databricks.v1+cell": {
     "cellMetadata": {},
     "inputWidgets": {},
     "nuid": "2abd58ae-5a07-4e64-9eaf-011509d9631b",
     "showTitle": false,
     "title": ""
    }
   },
   "source": [
    "## Pros and cons of boosting\n",
    "\n",
    "---\n",
    "\n",
    "### Pros\n",
    "\n",
    "- Achieves higher performance than bagging when hyper-parameters tuned properly.\n",
    "- Can be used for classification and regression equally well.\n",
    "- Easily handles mixed data types.\n",
    "- Can use \"robust\" loss functions that make the model resistant to outliers.\n",
    "\n",
    "---\n",
    "\n",
    "### Cons\n",
    "\n",
    "- Difficult and time consuming to properly tune hyper-parameters.\n",
    "- Cannot be parallelized like bagging (bad scalability when huge amounts of data).\n",
    "- More risk of overfitting compared to bagging.\n",
    "\n",
    "<h3>Resources: </h3>\n",
    "<ul>\n",
    "    <li><a href=\"http://mccormickml.com/2013/12/13/adaboost-tutorial/\">AdaBoost Tutorial-Chris McCormick</a></li>\n",
    "    <li><a href=\"http://rob.schapire.net/papers/explaining-adaboost.pdf\">Explaining AdaBoost by Robert Schapire(One of the original author of AdaBoost)</a></li>\n",
    "</ul>"
   ]
  },
  {
   "cell_type": "markdown",
   "metadata": {
    "_cell_guid": "6ea60e91-544f-49fc-8128-ee190e8292e7",
    "_uuid": "860921893a28a1fe9a4ce47f0779f1e7b154ca0a",
    "application/vnd.databricks.v1+cell": {
     "cellMetadata": {},
     "inputWidgets": {},
     "nuid": "bbbfdda1-c498-441f-a4ad-610d54eb8339",
     "showTitle": false,
     "title": ""
    }
   },
   "source": [
    "## 7i. Gradient Boosting Classifier\n",
    "<a id=\"gradient_boosting\"></a>\n",
    "***"
   ]
  },
  {
   "cell_type": "code",
   "execution_count": 0,
   "metadata": {
    "_cell_guid": "d32d6df9-b8e7-4637-bacc-2baec08547b8",
    "_uuid": "fd788c4f4cde834a1329f325f1f59e3f77c37e42",
    "application/vnd.databricks.v1+cell": {
     "cellMetadata": {},
     "inputWidgets": {},
     "nuid": "ebb9fdef-1a81-4c79-80a6-4b6296b8d77a",
     "showTitle": false,
     "title": ""
    },
    "execution": {
     "iopub.execute_input": "2021-06-26T16:41:28.360536Z",
     "iopub.status.busy": "2021-06-26T16:41:28.360265Z",
     "iopub.status.idle": "2021-06-26T16:41:28.521396Z",
     "shell.execute_reply": "2021-06-26T16:41:28.520426Z",
     "shell.execute_reply.started": "2021-06-26T16:41:28.360479Z"
    },
    "scrolled": true
   },
   "outputs": [],
   "source": [
    "# Gradient Boosting Classifier\n",
    "from sklearn.ensemble import GradientBoostingClassifier\n",
    "\n",
    "gradient_boost = GradientBoostingClassifier()\n",
    "gradient_boost.fit(X, y)\n",
    "y_pred = gradient_boost.predict(X_test)\n",
    "gradient_accy = round(accuracy_score(y_pred, y_test), 3)\n",
    "print(gradient_accy)"
   ]
  },
  {
   "cell_type": "markdown",
   "metadata": {
    "application/vnd.databricks.v1+cell": {
     "cellMetadata": {},
     "inputWidgets": {},
     "nuid": "afb0c994-5150-463b-a692-1b9b9b1939e7",
     "showTitle": false,
     "title": ""
    }
   },
   "source": [
    "<div class=\" alert alert-info\">\n",
    "<h3>Resources: </h3>\n",
    "<ul>\n",
    "    <li><a href=\"https://www.youtube.com/watch?v=sDv4f4s2SB8\">Gradient Descent(StatQuest)</a></li>\n",
    "    <li><a href=\"https://www.youtube.com/watch?v=3CC4N4z3GJc\">Gradient Boost(Regression Main Ideas)(StatQuest)</a></li>\n",
    "    <li><a href=\"https://www.youtube.com/watch?v=3CC4N4z3GJc\">Gradient Boost(Regression Calculation)(StatQuest)</a></li>\n",
    "    <li><a href=\"https://www.youtube.com/watch?v=jxuNLH5dXCs\">Gradient Boost(Classification Main Ideas)(StatQuest)</a></li>\n",
    "    <li><a href=\"https://www.youtube.com/watch?v=StWY5QWMXCw\">Gradient Boost(Classification Calculation)(StatQuest)</a></li>\n",
    "    <li><a href=\"https://www.analyticsvidhya.com/blog/2016/02/complete-guide-parameter-tuning-gradient-boosting-gbm-python/\">Complete Machine Learning Guide to Parameter Tuning in Gradient Boosting (GBM) in Python</a></li>\n",
    "</ul>\n",
    "</div>"
   ]
  },
  {
   "cell_type": "markdown",
   "metadata": {
    "_cell_guid": "996b8ee8-13ff-461d-8f7b-ac0d7d488cff",
    "_uuid": "ee9c7a2ccdf93a90f929b6618105afbe699bd6de",
    "application/vnd.databricks.v1+cell": {
     "cellMetadata": {},
     "inputWidgets": {},
     "nuid": "527568c2-fbd2-4703-9935-e2c4d960a1c6",
     "showTitle": false,
     "title": ""
    }
   },
   "source": [
    "## 7j. XGBClassifier\n",
    "<a id=\"XGBClassifier\"></a>\n",
    "***"
   ]
  },
  {
   "cell_type": "code",
   "execution_count": 0,
   "metadata": {
    "_cell_guid": "5d94cc5b-d8b7-40d3-b264-138539daabfa",
    "_uuid": "9d96154d2267ea26a6682a73bd1850026eb1303b",
    "application/vnd.databricks.v1+cell": {
     "cellMetadata": {},
     "inputWidgets": {},
     "nuid": "7da320bc-b764-4434-9f82-36c58a53028a",
     "showTitle": false,
     "title": ""
    },
    "execution": {
     "iopub.execute_input": "2021-06-26T16:41:28.523177Z",
     "iopub.status.busy": "2021-06-26T16:41:28.522724Z",
     "iopub.status.idle": "2021-06-26T16:41:28.526955Z",
     "shell.execute_reply": "2021-06-26T16:41:28.525945Z",
     "shell.execute_reply.started": "2021-06-26T16:41:28.522964Z"
    }
   },
   "outputs": [],
   "source": [
    "# from xgboost import XGBClassifier\n",
    "# XGBClassifier = XGBClassifier()\n",
    "# XGBClassifier.fit(X, y)\n",
    "# y_pred = XGBClassifier.predict(X_test)\n",
    "# XGBClassifier_accy = round(accuracy_score(y_pred, y_test), 3)\n",
    "# print(XGBClassifier_accy)"
   ]
  },
  {
   "cell_type": "markdown",
   "metadata": {
    "_cell_guid": "a6b4c23c-b42b-4fad-b37d-c84154b3478d",
    "_uuid": "3fa68b3d2e835b1a14088102561a2f8d4dac8f5c",
    "application/vnd.databricks.v1+cell": {
     "cellMetadata": {},
     "inputWidgets": {},
     "nuid": "046d4603-666d-4092-9123-32a9834f8136",
     "showTitle": false,
     "title": ""
    }
   },
   "source": [
    "## 7k. Extra Trees Classifier\n",
    "<a id=\"extra_tree\"></a>\n",
    "***"
   ]
  },
  {
   "cell_type": "code",
   "execution_count": 0,
   "metadata": {
    "_cell_guid": "2e567e01-6b5f-4313-84af-cc378c3b709e",
    "_uuid": "c9b958e2488adf6f79401c677087e3250d63ac9b",
    "application/vnd.databricks.v1+cell": {
     "cellMetadata": {},
     "inputWidgets": {},
     "nuid": "db94d7e6-0ed5-49ff-8ad9-bb3b4229aef9",
     "showTitle": false,
     "title": ""
    },
    "execution": {
     "iopub.execute_input": "2021-06-26T16:41:28.528841Z",
     "iopub.status.busy": "2021-06-26T16:41:28.528382Z",
     "iopub.status.idle": "2021-06-26T16:41:28.555697Z",
     "shell.execute_reply": "2021-06-26T16:41:28.554889Z",
     "shell.execute_reply.started": "2021-06-26T16:41:28.528664Z"
    }
   },
   "outputs": [],
   "source": [
    "from sklearn.ensemble import ExtraTreesClassifier\n",
    "ExtraTreesClassifier = ExtraTreesClassifier()\n",
    "ExtraTreesClassifier.fit(X, y)\n",
    "y_pred = ExtraTreesClassifier.predict(X_test)\n",
    "extraTree_accy = round(accuracy_score(y_pred, y_test), 3)\n",
    "print(extraTree_accy)\n"
   ]
  },
  {
   "cell_type": "markdown",
   "metadata": {
    "_cell_guid": "20a66dcc-7f9f-4802-aa6d-58be75e07539",
    "_uuid": "c55a54821feda82c75dde28bab7e2cf4445c4cf0",
    "application/vnd.databricks.v1+cell": {
     "cellMetadata": {},
     "inputWidgets": {},
     "nuid": "f9faf004-d57f-44b3-a220-a8db72a07c95",
     "showTitle": false,
     "title": ""
    }
   },
   "source": [
    "## 7l. Gaussian Process Classifier\n",
    "<a id=\"GaussianProcessClassifier\"></a>\n",
    "***"
   ]
  },
  {
   "cell_type": "code",
   "execution_count": 0,
   "metadata": {
    "_cell_guid": "23bd5744-e04d-49bb-9d70-7c2a518f76dd",
    "_uuid": "57fc008eea2ce1c0b595f888a82ddeaee6ce2177",
    "application/vnd.databricks.v1+cell": {
     "cellMetadata": {},
     "inputWidgets": {},
     "nuid": "8c0430e0-092b-4f0a-9b9b-38e130a8d06a",
     "showTitle": false,
     "title": ""
    },
    "execution": {
     "iopub.execute_input": "2021-06-26T16:41:28.557268Z",
     "iopub.status.busy": "2021-06-26T16:41:28.556845Z",
     "iopub.status.idle": "2021-06-26T16:41:28.863352Z",
     "shell.execute_reply": "2021-06-26T16:41:28.862576Z",
     "shell.execute_reply.started": "2021-06-26T16:41:28.557221Z"
    }
   },
   "outputs": [],
   "source": [
    "from sklearn.gaussian_process import GaussianProcessClassifier\n",
    "GaussianProcessClassifier = GaussianProcessClassifier()\n",
    "GaussianProcessClassifier.fit(X, y)\n",
    "y_pred = GaussianProcessClassifier.predict(X_test)\n",
    "gau_pro_accy = round(accuracy_score(y_pred, y_test), 3)\n",
    "print(gau_pro_accy)"
   ]
  },
  {
   "cell_type": "markdown",
   "metadata": {
    "_cell_guid": "ec676e4d-0cbe-43fa-9ff8-92d76030faef",
    "_uuid": "6f89f2cb63120a4594c7b0f2883b6872aa444700",
    "application/vnd.databricks.v1+cell": {
     "cellMetadata": {},
     "inputWidgets": {},
     "nuid": "c6263729-639e-45aa-89b8-2f8539981615",
     "showTitle": false,
     "title": ""
    }
   },
   "source": [
    "## 7m. Voting Classifier\n",
    "<a id=\"voting_classifer\"></a>\n",
    "***"
   ]
  },
  {
   "cell_type": "code",
   "execution_count": 0,
   "metadata": {
    "_cell_guid": "ac208dd3-1045-47bb-9512-de5ecb5c81b0",
    "_uuid": "821c74bbf404193219eb91fe53755d669f5a14d1",
    "application/vnd.databricks.v1+cell": {
     "cellMetadata": {},
     "inputWidgets": {},
     "nuid": "8bbc1a27-a095-4406-ae21-bdef6463a2f6",
     "showTitle": false,
     "title": ""
    },
    "execution": {
     "iopub.execute_input": "2021-06-26T16:41:28.865063Z",
     "iopub.status.busy": "2021-06-26T16:41:28.86463Z",
     "iopub.status.idle": "2021-06-26T16:41:30.314425Z",
     "shell.execute_reply": "2021-06-26T16:41:30.313671Z",
     "shell.execute_reply.started": "2021-06-26T16:41:28.865013Z"
    }
   },
   "outputs": [],
   "source": [
    "from sklearn.ensemble import VotingClassifier\n",
    "\n",
    "voting_classifier = VotingClassifier(estimators=[\n",
    "    ('lr_grid', logreg_grid),\n",
    "    ('svc', svm_grid),\n",
    "    ('random_forest', rf_grid),\n",
    "    ('gradient_boosting', gradient_boost),\n",
    "    ('decision_tree_grid',dectree_grid),\n",
    "    ('knn_classifier', knn_grid),\n",
    "#     ('XGB_Classifier', XGBClassifier),\n",
    "    ('bagging_classifier', bagging_grid),\n",
    "    ('adaBoost_classifier',adaBoost_grid),\n",
    "    ('ExtraTrees_Classifier', ExtraTreesClassifier),\n",
    "    ('gaussian_classifier',gaussian),\n",
    "    ('gaussian_process_classifier', GaussianProcessClassifier)\n",
    "],voting='hard')\n",
    "\n",
    "#voting_classifier = voting_classifier.fit(train_x,train_y)\n",
    "voting_classifier = voting_classifier.fit(X,y)"
   ]
  },
  {
   "cell_type": "code",
   "execution_count": 0,
   "metadata": {
    "_cell_guid": "648ac6a6-2437-490a-bf76-1612a71126e8",
    "_uuid": "518a02ae91cc91d618e476d1fc643cd3912ee5fb",
    "application/vnd.databricks.v1+cell": {
     "cellMetadata": {},
     "inputWidgets": {},
     "nuid": "2ed14a32-4d95-4456-8a6d-e81cbcd1395a",
     "showTitle": false,
     "title": ""
    },
    "execution": {
     "iopub.execute_input": "2021-06-26T16:41:30.316454Z",
     "iopub.status.busy": "2021-06-26T16:41:30.316008Z",
     "iopub.status.idle": "2021-06-26T16:41:30.42114Z",
     "shell.execute_reply": "2021-06-26T16:41:30.420152Z",
     "shell.execute_reply.started": "2021-06-26T16:41:30.31627Z"
    }
   },
   "outputs": [],
   "source": [
    "y_pred = voting_classifier.predict(X_test)\n",
    "voting_accy = round(accuracy_score(y_pred, y_test), 3)\n",
    "print(voting_accy)"
   ]
  },
  {
   "cell_type": "code",
   "execution_count": 0,
   "metadata": {
    "_cell_guid": "277534eb-7ec8-4359-a2f4-30f7f76611b8",
    "_kg_hide-input": true,
    "_uuid": "00a9b98fd4e230db427a63596a2747f05b1654c1",
    "application/vnd.databricks.v1+cell": {
     "cellMetadata": {},
     "inputWidgets": {},
     "nuid": "37365b7d-6fe4-492c-aab0-e09061219e2d",
     "showTitle": false,
     "title": ""
    },
    "execution": {
     "iopub.execute_input": "2021-06-26T16:41:30.422908Z",
     "iopub.status.busy": "2021-06-26T16:41:30.422475Z",
     "iopub.status.idle": "2021-06-26T16:41:30.426856Z",
     "shell.execute_reply": "2021-06-26T16:41:30.425882Z",
     "shell.execute_reply.started": "2021-06-26T16:41:30.422736Z"
    }
   },
   "outputs": [],
   "source": [
    "#models = pd.DataFrame({\n",
    "#    'Model': ['Support Vector Machines', 'KNN', 'Logistic Regression', \n",
    "#              'Random Forest', 'Naive Bayes', \n",
    "#              'Decision Tree', 'Gradient Boosting Classifier', 'Voting Classifier', 'XGB Classifier','ExtraTrees Classifier','Bagging Classifier'],\n",
    "#    'Score': [svc_accy, knn_accy, logreg_accy, \n",
    "#              random_accy, gaussian_accy, dectree_accy,\n",
    "#               gradient_accy, voting_accy, XGBClassifier_accy, extraTree_accy, bagging_accy]})\n",
    "#models.sort_values(by='Score', ascending=False)"
   ]
  },
  {
   "cell_type": "markdown",
   "metadata": {
    "_cell_guid": "7128f3dd-1d8d-4b8e-afb4-891d8cb9657c",
    "_uuid": "7e17482a69dbe99319219a603ea39f8bbde98b87",
    "application/vnd.databricks.v1+cell": {
     "cellMetadata": {},
     "inputWidgets": {},
     "nuid": "8aea5468-6f47-48f6-812b-d1bf4d31ae66",
     "showTitle": false,
     "title": ""
    }
   },
   "source": [
    "# Part 8: Submit test predictions\n",
    "<a id=\"submit_predictions\"></a>\n",
    "***"
   ]
  },
  {
   "cell_type": "code",
   "execution_count": 0,
   "metadata": {
    "_uuid": "eb0054822f296ba86aa6005b2a5e35fbc1aec88b",
    "application/vnd.databricks.v1+cell": {
     "cellMetadata": {},
     "inputWidgets": {},
     "nuid": "3c00c9c7-d4d4-42cc-ba6f-7f5cb70c6347",
     "showTitle": false,
     "title": ""
    },
    "execution": {
     "iopub.execute_input": "2021-06-26T16:41:30.429099Z",
     "iopub.status.busy": "2021-06-26T16:41:30.42862Z",
     "iopub.status.idle": "2021-06-26T16:41:30.646363Z",
     "shell.execute_reply": "2021-06-26T16:41:30.645616Z",
     "shell.execute_reply.started": "2021-06-26T16:41:30.428903Z"
    }
   },
   "outputs": [],
   "source": [
    "all_models = [logreg_grid,\n",
    "              knn_grid, \n",
    "              knn_ran_grid,\n",
    "              svm_grid,\n",
    "              dectree_grid,\n",
    "              rf_grid,\n",
    "              bagging_grid,\n",
    "              adaBoost_grid,\n",
    "              voting_classifier]\n",
    "\n",
    "c = {}\n",
    "for i in all_models:\n",
    "    a = i.predict(X_test)\n",
    "    b = accuracy_score(a, y_test)\n",
    "    c[i] = b\n",
    "    \n"
   ]
  },
  {
   "cell_type": "code",
   "execution_count": 0,
   "metadata": {
    "_cell_guid": "51368e53-52e4-41cf-9cc9-af6164c9c6f5",
    "_uuid": "b947f168f6655c1c6eadaf53f3485d57c0cd74c7",
    "application/vnd.databricks.v1+cell": {
     "cellMetadata": {},
     "inputWidgets": {},
     "nuid": "d3fb9dd0-a2fe-42e5-9fb7-dbf8455091d9",
     "showTitle": false,
     "title": ""
    },
    "execution": {
     "iopub.execute_input": "2021-06-26T16:41:30.648318Z",
     "iopub.status.busy": "2021-06-26T16:41:30.647987Z",
     "iopub.status.idle": "2021-06-26T16:41:32.045557Z",
     "shell.execute_reply": "2021-06-26T16:41:32.044733Z",
     "shell.execute_reply.started": "2021-06-26T16:41:30.648259Z"
    }
   },
   "outputs": [],
   "source": [
    "test_prediction = (max(c, key=c.get)).predict(test)\n",
    "submission = pd.DataFrame({\n",
    "        \"PassengerId\": passengerid,\n",
    "        \"Survived\": test_prediction\n",
    "    })\n",
    "\n",
    "submission.PassengerId = submission.PassengerId.astype(int)\n",
    "submission.Survived = submission.Survived.astype(int)\n",
    "\n",
    "submission.to_csv(\"titanic1_submission.csv\", index=False)"
   ]
  },
  {
   "cell_type": "markdown",
   "metadata": {
    "application/vnd.databricks.v1+cell": {
     "cellMetadata": {},
     "inputWidgets": {},
     "nuid": "051981e1-a62f-42ca-89fc-37460038870e",
     "showTitle": false,
     "title": ""
    }
   },
   "source": [
    "<div class=\"alert alert-info\">\n",
    "    <h1>Resources</h1>\n",
    "    <ul>\n",
    "        <li><b>Statistics</b></li>\n",
    "        <ul>\n",
    "            <li><a href=\"https://statistics.laerd.com/statistical-guides/measures-of-spread-standard-deviation.php\">Types of Standard Deviation</a></li>\n",
    "            <li><a href=\"https://blog.minitab.com/blog/statistics-and-quality-data-analysis/what-is-a-t-test-and-why-is-it-like-telling-a-kid-to-clean-up-that-mess-in-the-kitchen\">What Is a t-test? And Why Is It Like Telling a Kid to Clean Up that Mess in the Kitchen?</a></li>\n",
    "            <li><a href=\"https://blog.minitab.com/blog/statistics-and-quality-data-analysis/what-are-t-values-and-p-values-in-statistics\">What Are T Values and P Values in Statistics?</a></li>\n",
    "            <li><a href=\"https://www.youtube.com/watch?v=E4KCfcVwzyw\">What is p-value? How we decide on our confidence level.</a></li>\n",
    "        </ul>\n",
    "        <li><b>Writing pythonic code</b></li>\n",
    "        <ul>\n",
    "            <li><a href=\"https://www.kaggle.com/rtatman/six-steps-to-more-professional-data-science-code\">Six steps to more professional data science code</a></li>\n",
    "            <li><a href=\"https://www.kaggle.com/jpmiller/creating-a-good-analytics-report\">Creating a Good Analytics Report</a></li>\n",
    "            <li><a href=\"https://en.wikipedia.org/wiki/Code_smell\">Code Smell</a></li>\n",
    "            <li><a href=\"https://www.python.org/dev/peps/pep-0008/\">Python style guides</a></li>\n",
    "            <li><a href=\"https://gist.github.com/sloria/7001839\">The Best of the Best Practices(BOBP) Guide for Python</a></li>\n",
    "            <li><a href=\"https://www.python.org/dev/peps/pep-0020/\">PEP 20 -- The Zen of Python</a></li>\n",
    "            <li><a href=\"https://docs.python-guide.org/\">The Hitchiker's Guide to Python</a></li>\n",
    "            <li><a href=\"https://realpython.com/tutorials/best-practices/\">Python Best Practice Patterns</a></li>\n",
    "            <li><a href=\"http://www.nilunder.com/blog/2013/08/03/pythonic-sensibilities/\">Pythonic Sensibilities</a></li>\n",
    "        </ul>\n",
    "        <li><b>Why Scikit-Learn?</b></li>\n",
    "        <ul>\n",
    "            <li><a href=\"https://www.oreilly.com/content/intro-to-scikit-learn/\">Introduction to Scikit-Learn</a></li>\n",
    "            <li><a href=\"https://www.oreilly.com/content/six-reasons-why-i-recommend-scikit-learn/\">Six reasons why I recommend scikit-learn</a></li>\n",
    "            <li><a href=\"https://hub.packtpub.com/learn-scikit-learn/\">Why you should learn Scikit-learn</a></li>\n",
    "            <li><a href=\"https://www.kaggle.com/baghern/a-deep-dive-into-sklearn-pipelines\">A Deep Dive Into Sklearn Pipelines</a></li>\n",
    "            <li><a href=\"https://www.kaggle.com/sermakarevich/sklearn-pipelines-tutorial\">Sklearn pipelines tutorial</a></li>\n",
    "            <li><a href=\"https://www.kdnuggets.com/2017/12/managing-machine-learning-workflows-scikit-learn-pipelines-part-1.html\">Managing Machine Learning workflows with Sklearn pipelines</a></li>\n",
    "            <li><a href=\"https://towardsdatascience.com/a-simple-example-of-pipeline-in-machine-learning-with-scikit-learn-e726ffbb6976\">A simple example of pipeline in Machine Learning using SKlearn</a></li>\n",
    "        </ul>\n",
    "    </ul>\n",
    "    <h1>Credits</h1>\n",
    "    <ul>\n",
    "        <li>To Brandon Foltz for his <a href=\"https://www.youtube.com/channel/UCFrjdcImgcQVyFbK04MBEhA\">youtube</a> channel and for being an amazing teacher.</li>\n",
    "        <li>To GA where I started my data science journey.</li>\n",
    "        <li>To Kaggle community for inspiring me over and over again with all the resources I need.</li>\n",
    "        <li>To Udemy Course \"Deployment of Machine Learning\". I have used and modified some of the code from this course to help making the learning process intuitive.</li>\n",
    "    </ul>\n",
    "</div>"
   ]
  },
  {
   "cell_type": "markdown",
   "metadata": {
    "application/vnd.databricks.v1+cell": {
     "cellMetadata": {},
     "inputWidgets": {},
     "nuid": "e8fc446e-2c86-47cf-85cb-ffa5557413e2",
     "showTitle": false,
     "title": ""
    }
   },
   "source": [
    "<div class=\"alert alert-info\">\n",
    "<h4>If you like to discuss any other projects or just have a chat about data science topics, I'll be more than happy to connect with you on:</h4>\n",
    "    <ul>\n",
    "        <li><a href=\"https://www.linkedin.com/in/masumrumi/\"><b>LinkedIn</b></a></li>\n",
    "        <li><a href=\"https://github.com/masumrumi\"><b>Github</b></a></li>\n",
    "        <li><a href=\"https://masumrumi.github.io/cv/\"><b>masumrumi.github.io/cv/</b></a></li>\n",
    "        <li><a href=\"https://www.youtube.com/channel/UC1mPjGyLcZmsMgZ8SJgrfdw\"><b>Youtube</b></a></li>\n",
    "    </ul>\n",
    "\n",
    "<p>This kernel will always be a work in progress. I will incorporate new concepts of data science as I comprehend them with each update. If you have any idea/suggestions about this notebook, please let me know. Any feedback about further improvements would be genuinely appreciated.</p>\n",
    "\n",
    "<h1>If you have come this far, Congratulations!!</h1>\n",
    "\n",
    "<h1>If this notebook helped you in any way or you liked it, please upvote and/or leave a comment!! :)</h1></div>"
   ]
  }
 ],
 "metadata": {
  "application/vnd.databricks.v1+notebook": {
   "dashboards": [],
   "language": "python",
   "notebookMetadata": {},
   "notebookName": "a-statistical-analysis-ml-workflow-of-titanic",
   "notebookOrigID": 953089915965669,
   "widgets": {}
  },
  "interpreter": {
   "hash": "4ee7c4e4684082ce1f46e630280ae5702684ea5c5635036c275c1be52ef87f64"
  },
  "kernelspec": {
   "display_name": "Python 3",
   "language": "python",
   "name": "python3"
  },
  "language_info": {
   "codemirror_mode": {
    "name": "ipython",
    "version": 3
   },
   "file_extension": ".py",
   "mimetype": "text/x-python",
   "name": "python",
   "nbconvert_exporter": "python",
   "pygments_lexer": "ipython3",
   "version": "3.6.6"
  }
 },
 "nbformat": 4,
 "nbformat_minor": 0
}
